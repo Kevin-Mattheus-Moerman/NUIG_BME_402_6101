{
 "cells": [
  {
   "cell_type": "markdown",
   "metadata": {
    "slideshow": {
     "slide_type": "slide"
    }
   },
   "source": [
    "[**Dr. Kevin M. Moerman**](mailto:kevin.moerman@nuigalway.ie), _Lecturer in Biomedical Engineering_   \n",
    "\n",
    "National University of Ireland Galway.   \n",
    "\n",
    "---"
   ]
  },
  {
   "cell_type": "markdown",
   "metadata": {
    "slideshow": {
     "slide_type": "skip"
    }
   },
   "source": [
    "This content is derived from a Jupyter notebook. Jupyter notebooks are a great way to combine teaching of theory and numerical implementation side-by-side and in an interactive manor.\n",
    "\n",
    "* To run the Jupyter notebooks and to interact with the code uses should set-up Jupyter. Note that doing so is not a requirement for this course. All contant can be understood and studied without using the live code functionality. Students wishing to \"skip\" the codes can do so and focus on the theoretical content instead. \n",
    "* One way to set-up Jupyter is to install the Conda Python environment (https://www.anaconda.com/distribution/), which comes with Jupyter. See also instructions here: https://jupyter.org/\n",
    "* For Octave (MATLAB syntax) notebooks users need to install Octave: https://www.gnu.org/software/octave/\n",
    "* For Julia notebooks users could install Julia (https://julialang.org/) or use JuliaBox to run to notebooks directly in a browser (https://www.juliabox.com/). \n",
    "* The source for this notebook is found here: GitHub source: [https://github.com/Kevin-Mattheus-Moerman/NUIG_BME_402_6101](https://github.com/Kevin-Mattheus-Moerman/NUIG_BME_402_6101)\n"
   ]
  },
  {
   "cell_type": "code",
   "execution_count": 2,
   "metadata": {
    "slideshow": {
     "slide_type": "skip"
    }
   },
   "outputs": [
    {
     "name": "stdout",
     "output_type": "stream",
     "text": [
      "\u001b[32m\u001b[1m Resolving\u001b[22m\u001b[39m package versions...\n",
      "\u001b[32m\u001b[1m  Updating\u001b[22m\u001b[39m `~/.julia/environments/v1.2/Project.toml`\n",
      "\u001b[90m [no changes]\u001b[39m\n",
      "\u001b[32m\u001b[1m  Updating\u001b[22m\u001b[39m `~/.julia/environments/v1.2/Manifest.toml`\n",
      "\u001b[90m [no changes]\u001b[39m\n"
     ]
    }
   ],
   "source": [
    "# Loading required packages (may take some time)\n",
    "# Re-execute with Ctrl-Enter to suppress command window output (may interfere with PDF export)\n",
    "using Pkg;\n",
    "Pkg.add(\"Plots\");\n",
    "using Plots;"
   ]
  },
  {
   "cell_type": "markdown",
   "metadata": {
    "slideshow": {
     "slide_type": "slide"
    }
   },
   "source": [
    "# The Constant Strain Triangle\n",
    "## Shape functions\n",
    "If $q$ is the node number/index then the linear shape functions are defined as: \n",
    "$$L_q=\\frac{A_q}{A}$$\n",
    "\n",
    "They can be visualized as: \n",
    "![CST_shape_functions.png](CST_shape_functions.png)\n"
   ]
  },
  {
   "cell_type": "markdown",
   "metadata": {
    "slideshow": {
     "slide_type": "slide"
    }
   },
   "source": [
    "### Shape function computation\n",
    "$$L_q=\\frac{A_q}{A}$$\n",
    "Deriving the shape functions for the CST requires calculation of the ratios of the areas $A_q$ and the total area $A=A_1+A_2+A_3$. \n",
    "![CST_shape_functions_2.png](CST_shape_functions_2.png)\n",
    "\n",
    "With $p=\\begin{bmatrix} x \\\\ y \\end{bmatrix}$, $p_1=\\begin{bmatrix} x_1 \\\\ y_1 \\end{bmatrix}$, $p_2=\\begin{bmatrix} x_2 \\\\ y_2 \\end{bmatrix}$, and $p_3=\\begin{bmatrix} x_3 \\\\ y_3 \\end{bmatrix}$\n",
    "\n",
    "$$A=\\frac{1}{2}\\bigg(\\big((x_1-x_2)(y_1-y_3)\\big)-\\big((x_1-x_3)(y_1-y_2)\\big)\\bigg)$$\n",
    "$$A_q=\\frac{1}{2}(a_q+b_qx+c_qy)$$\n"
   ]
  },
  {
   "cell_type": "markdown",
   "metadata": {
    "slideshow": {
     "slide_type": "slide"
    }
   },
   "source": [
    "$$L_1=\\frac{1}{2A}(a_1+b_1x+c_1y)$$\n",
    "$$a_1=x_2y_3-x_3y_2$$\n",
    "$$b_1=y_2-y_3$$\n",
    "$$c_1=x_3-x_2$$\n",
    "\n",
    "$$L_2=\\frac{1}{2A}(a_2+b_2x+c_2y)$$\n",
    "$$a_2=x_3y_1-x_1y_3$$\n",
    "$$b_2=y_3-y_1$$\n",
    "$$c_2=x_1-x_3$$\n",
    "\n",
    "$$L_3=\\frac{1}{2A}(a_3+b_3x+c_3y)$$\n",
    "$$a_3=x_1y_2-x_2y_1$$\n",
    "$$b_3=y_1-y_2$$\n",
    "$$c_3=x_2-x_1$$\n",
    "\n"
   ]
  },
  {
   "cell_type": "code",
   "execution_count": 1,
   "metadata": {
    "slideshow": {
     "slide_type": "fragment"
    }
   },
   "outputs": [
    {
     "name": "stdout",
     "output_type": "stream",
     "text": [
      "0.25\n",
      "0.25\n",
      "0.5\n",
      "1.0\n"
     ]
    },
    {
     "ename": "UndefVarError",
     "evalue": "UndefVarError: plot not defined",
     "output_type": "error",
     "traceback": [
      "UndefVarError: plot not defined",
      "",
      "Stacktrace:",
      " [1] top-level scope at In[1]:29"
     ]
    }
   ],
   "source": [
    "# Define nodes\n",
    "p1=[0 0]; #Node 1\n",
    "p2=[2 0]; #Node 2\n",
    "p3=[0 2]; #Node 3\n",
    "\n",
    "#Define interpolation point\n",
    "p=[0.5 1];\n",
    "\n",
    "#Total area\n",
    "A=0.5*(((p1[1]-p2[1])*(p1[2]-p3[2]))-((p1[1]-p3[1])*(p1[2]-p2[2])))\n",
    "\n",
    "#Shape function 1\n",
    "a1=p2[1]p3[2]-p3[1]p2[2]; b1=p2[2]-p3[2]; c1=p3[1]-p2[1]; #a,b,c\n",
    "L_1=1/(2*A)*(a1+b1*p[1]+c1*p[2]); println(L_1)\n",
    "\n",
    "#Shape function 2\n",
    "a2=p3[1]p1[2]-p1[1]p3[2]; b2=p3[2]-p1[2]; c2=p1[1]-p3[1]; #a,b,c\n",
    "L_2=1/(2*A)*(a2+b2*p[1]+c2*p[2]); println(L_2)\n",
    "\n",
    "#Shape function 3\n",
    "a3=p1[1]p2[2]-p2[1]p1[2]; b3=p1[2]-p2[2]; c3=p2[1]-p1[1]; #a,b,c\n",
    "L_3=1/(2*A)*(a3+b3*p[1]+c3*p[2]); println(L_3) \n",
    "\n",
    "println(L_1+L_2+L_3) #Sum of shape function coordinates should be 1\n",
    "\n",
    "# Visualize triangle\n",
    "V=[p1;p2;p3;p1]; #Node set for plotting\n",
    "Vp=[p1;p;p2;p;p3]; #Point set for plotting\n",
    "plot(V[:,1],V[:,2],linewidth=2,xlabel=\"x\",ylabel=\"y\",color=\"blue\",markersize=6,label=\"Triangle\",aspect_ratio=1) #Plot graph\n",
    "plot!(Vp[:,1],Vp[:,2],linewidth=2,xlabel=\"x\",ylabel=\"y\",color=\"green\",markersize=6,label=\"Inner triangles\") #Plot graph\n",
    "scatter!(V[:,1],V[:,2],markersize=6, c=:red,label=\"Nodes\") #Plot graph\n",
    "scatter!(p[:,1],p[:,2],markersize=10, c=:green,label=\"p\") #Plot graph"
   ]
  },
  {
   "cell_type": "markdown",
   "metadata": {
    "slideshow": {
     "slide_type": "slide"
    }
   },
   "source": [
    "### Shape functions for interpolation\n",
    "#### Displacement interpolation\n",
    "\n",
    "$$u(x,y)=\\begin{bmatrix} N(x,y) \\end{bmatrix}\\begin{Bmatrix} u \\end{Bmatrix}$$\n",
    "\n",
    "$$\\begin{bmatrix} u_x(x,y) \\\\ u_y(x,y) \\end{bmatrix}=\\begin{bmatrix} L_1 & 0 & L_2 & 0 & L_3 & 0 \\\\ 0 & L_1 & 0 & L_2 & 0 & L_3 \\end{bmatrix}\\begin{Bmatrix} u_{1x} \\\\ u_{1y} \\\\ u_{2x} \\\\ u_{2y} \\\\  u_{3x} \\\\ u_{3y} \\end{Bmatrix}$$\n"
   ]
  },
  {
   "cell_type": "code",
   "execution_count": 152,
   "metadata": {
    "slideshow": {
     "slide_type": "fragment"
    }
   },
   "outputs": [
    {
     "name": "stdout",
     "output_type": "stream",
     "text": [
      "[0.25; 0.5]\n"
     ]
    }
   ],
   "source": [
    "u1=[0 0]; u2=[1 0]; u3=[0 1]; # Define displacements\n",
    "um=[u1';u2';u3']; #Create displacement column array\n",
    "N=[L_1 0 L_2 0 L_3 0; 0 L_1 0 L_2 0 L_3]; # The shape function matrix\n",
    "up=N*um; #Calculate displacement at point p\n",
    "println(up)"
   ]
  },
  {
   "cell_type": "code",
   "execution_count": 153,
   "metadata": {
    "slideshow": {
     "slide_type": "fragment"
    }
   },
   "outputs": [
    {
     "data": {
      "image/svg+xml": [
       "<?xml version=\"1.0\" encoding=\"utf-8\"?>\n",
       "<svg xmlns=\"http://www.w3.org/2000/svg\" xmlns:xlink=\"http://www.w3.org/1999/xlink\" width=\"500\" height=\"500\" viewBox=\"0 0 2000 2000\">\n",
       "<defs>\n",
       "  <clipPath id=\"clip7600\">\n",
       "    <rect x=\"0\" y=\"0\" width=\"2000\" height=\"2000\"/>\n",
       "  </clipPath>\n",
       "</defs>\n",
       "<polygon clip-path=\"url(#clip7600)\" points=\"\n",
       "0,2000 2000,2000 2000,0 0,0 \n",
       "  \" fill=\"#ffffff\" fill-rule=\"evenodd\" fill-opacity=\"1\"/>\n",
       "<defs>\n",
       "  <clipPath id=\"clip7601\">\n",
       "    <rect x=\"400\" y=\"200\" width=\"1401\" height=\"1401\"/>\n",
       "  </clipPath>\n",
       "</defs>\n",
       "<polygon clip-path=\"url(#clip7600)\" points=\"\n",
       "194.665,1781.8 1952.76,1781.8 1952.76,47.2441 194.665,47.2441 \n",
       "  \" fill=\"#ffffff\" fill-rule=\"evenodd\" fill-opacity=\"1\"/>\n",
       "<defs>\n",
       "  <clipPath id=\"clip7602\">\n",
       "    <rect x=\"194\" y=\"47\" width=\"1759\" height=\"1736\"/>\n",
       "  </clipPath>\n",
       "</defs>\n",
       "<polyline clip-path=\"url(#clip7602)\" style=\"stroke:#000000; stroke-width:2; stroke-opacity:0.1; fill:none\" points=\"\n",
       "  255.524,1781.8 255.524,47.2441 \n",
       "  \"/>\n",
       "<polyline clip-path=\"url(#clip7602)\" style=\"stroke:#000000; stroke-width:2; stroke-opacity:0.1; fill:none\" points=\"\n",
       "  800.982,1781.8 800.982,47.2441 \n",
       "  \"/>\n",
       "<polyline clip-path=\"url(#clip7602)\" style=\"stroke:#000000; stroke-width:2; stroke-opacity:0.1; fill:none\" points=\"\n",
       "  1346.44,1781.8 1346.44,47.2441 \n",
       "  \"/>\n",
       "<polyline clip-path=\"url(#clip7602)\" style=\"stroke:#000000; stroke-width:2; stroke-opacity:0.1; fill:none\" points=\"\n",
       "  1891.9,1781.8 1891.9,47.2441 \n",
       "  \"/>\n",
       "<polyline clip-path=\"url(#clip7602)\" style=\"stroke:#000000; stroke-width:2; stroke-opacity:0.1; fill:none\" points=\"\n",
       "  194.665,1732.71 1952.76,1732.71 \n",
       "  \"/>\n",
       "<polyline clip-path=\"url(#clip7602)\" style=\"stroke:#000000; stroke-width:2; stroke-opacity:0.1; fill:none\" points=\"\n",
       "  194.665,1187.25 1952.76,1187.25 \n",
       "  \"/>\n",
       "<polyline clip-path=\"url(#clip7602)\" style=\"stroke:#000000; stroke-width:2; stroke-opacity:0.1; fill:none\" points=\"\n",
       "  194.665,641.792 1952.76,641.792 \n",
       "  \"/>\n",
       "<polyline clip-path=\"url(#clip7602)\" style=\"stroke:#000000; stroke-width:2; stroke-opacity:0.1; fill:none\" points=\"\n",
       "  194.665,96.3352 1952.76,96.3352 \n",
       "  \"/>\n",
       "<polyline clip-path=\"url(#clip7600)\" style=\"stroke:#000000; stroke-width:4; stroke-opacity:1; fill:none\" points=\"\n",
       "  194.665,1781.8 1952.76,1781.8 \n",
       "  \"/>\n",
       "<polyline clip-path=\"url(#clip7600)\" style=\"stroke:#000000; stroke-width:4; stroke-opacity:1; fill:none\" points=\"\n",
       "  194.665,1781.8 194.665,47.2441 \n",
       "  \"/>\n",
       "<polyline clip-path=\"url(#clip7600)\" style=\"stroke:#000000; stroke-width:4; stroke-opacity:1; fill:none\" points=\"\n",
       "  255.524,1781.8 255.524,1755.78 \n",
       "  \"/>\n",
       "<polyline clip-path=\"url(#clip7600)\" style=\"stroke:#000000; stroke-width:4; stroke-opacity:1; fill:none\" points=\"\n",
       "  800.982,1781.8 800.982,1755.78 \n",
       "  \"/>\n",
       "<polyline clip-path=\"url(#clip7600)\" style=\"stroke:#000000; stroke-width:4; stroke-opacity:1; fill:none\" points=\"\n",
       "  1346.44,1781.8 1346.44,1755.78 \n",
       "  \"/>\n",
       "<polyline clip-path=\"url(#clip7600)\" style=\"stroke:#000000; stroke-width:4; stroke-opacity:1; fill:none\" points=\"\n",
       "  1891.9,1781.8 1891.9,1755.78 \n",
       "  \"/>\n",
       "<polyline clip-path=\"url(#clip7600)\" style=\"stroke:#000000; stroke-width:4; stroke-opacity:1; fill:none\" points=\"\n",
       "  194.665,1732.71 221.036,1732.71 \n",
       "  \"/>\n",
       "<polyline clip-path=\"url(#clip7600)\" style=\"stroke:#000000; stroke-width:4; stroke-opacity:1; fill:none\" points=\"\n",
       "  194.665,1187.25 221.036,1187.25 \n",
       "  \"/>\n",
       "<polyline clip-path=\"url(#clip7600)\" style=\"stroke:#000000; stroke-width:4; stroke-opacity:1; fill:none\" points=\"\n",
       "  194.665,641.792 221.036,641.792 \n",
       "  \"/>\n",
       "<polyline clip-path=\"url(#clip7600)\" style=\"stroke:#000000; stroke-width:4; stroke-opacity:1; fill:none\" points=\"\n",
       "  194.665,96.3352 221.036,96.3352 \n",
       "  \"/>\n",
       "<g clip-path=\"url(#clip7600)\">\n",
       "<text style=\"fill:#000000; fill-opacity:1; font-family:Arial,Helvetica Neue,Helvetica,sans-serif; font-size:48px; text-anchor:middle;\" transform=\"rotate(0, 255.524, 1833.8)\" x=\"255.524\" y=\"1833.8\">0</text>\n",
       "</g>\n",
       "<g clip-path=\"url(#clip7600)\">\n",
       "<text style=\"fill:#000000; fill-opacity:1; font-family:Arial,Helvetica Neue,Helvetica,sans-serif; font-size:48px; text-anchor:middle;\" transform=\"rotate(0, 800.982, 1833.8)\" x=\"800.982\" y=\"1833.8\">1</text>\n",
       "</g>\n",
       "<g clip-path=\"url(#clip7600)\">\n",
       "<text style=\"fill:#000000; fill-opacity:1; font-family:Arial,Helvetica Neue,Helvetica,sans-serif; font-size:48px; text-anchor:middle;\" transform=\"rotate(0, 1346.44, 1833.8)\" x=\"1346.44\" y=\"1833.8\">2</text>\n",
       "</g>\n",
       "<g clip-path=\"url(#clip7600)\">\n",
       "<text style=\"fill:#000000; fill-opacity:1; font-family:Arial,Helvetica Neue,Helvetica,sans-serif; font-size:48px; text-anchor:middle;\" transform=\"rotate(0, 1891.9, 1833.8)\" x=\"1891.9\" y=\"1833.8\">3</text>\n",
       "</g>\n",
       "<g clip-path=\"url(#clip7600)\">\n",
       "<text style=\"fill:#000000; fill-opacity:1; font-family:Arial,Helvetica Neue,Helvetica,sans-serif; font-size:48px; text-anchor:end;\" transform=\"rotate(0, 174.665, 1750.21)\" x=\"174.665\" y=\"1750.21\">0</text>\n",
       "</g>\n",
       "<g clip-path=\"url(#clip7600)\">\n",
       "<text style=\"fill:#000000; fill-opacity:1; font-family:Arial,Helvetica Neue,Helvetica,sans-serif; font-size:48px; text-anchor:end;\" transform=\"rotate(0, 174.665, 1204.75)\" x=\"174.665\" y=\"1204.75\">1</text>\n",
       "</g>\n",
       "<g clip-path=\"url(#clip7600)\">\n",
       "<text style=\"fill:#000000; fill-opacity:1; font-family:Arial,Helvetica Neue,Helvetica,sans-serif; font-size:48px; text-anchor:end;\" transform=\"rotate(0, 174.665, 659.292)\" x=\"174.665\" y=\"659.292\">2</text>\n",
       "</g>\n",
       "<g clip-path=\"url(#clip7600)\">\n",
       "<text style=\"fill:#000000; fill-opacity:1; font-family:Arial,Helvetica Neue,Helvetica,sans-serif; font-size:48px; text-anchor:end;\" transform=\"rotate(0, 174.665, 113.835)\" x=\"174.665\" y=\"113.835\">3</text>\n",
       "</g>\n",
       "<g clip-path=\"url(#clip7600)\">\n",
       "<text style=\"fill:#000000; fill-opacity:1; font-family:Arial,Helvetica Neue,Helvetica,sans-serif; font-size:66px; text-anchor:middle;\" transform=\"rotate(0, 1073.71, 1911.66)\" x=\"1073.71\" y=\"1911.66\">x</text>\n",
       "</g>\n",
       "<g clip-path=\"url(#clip7600)\">\n",
       "<text style=\"fill:#000000; fill-opacity:1; font-family:Arial,Helvetica Neue,Helvetica,sans-serif; font-size:66px; text-anchor:middle;\" transform=\"rotate(-90, 116.34, 914.521)\" x=\"116.34\" y=\"914.521\">y</text>\n",
       "</g>\n",
       "<polyline clip-path=\"url(#clip7602)\" style=\"stroke:#0000ff; stroke-width:12; stroke-opacity:1; fill:none\" points=\"\n",
       "  255.524,1732.71 1346.44,1732.71 255.524,641.792 255.524,1732.71 \n",
       "  \"/>\n",
       "<circle clip-path=\"url(#clip7602)\" style=\"fill:#000000; stroke:none; fill-opacity:1\" cx=\"255.524\" cy=\"1732.71\" r=\"25\"/>\n",
       "<circle clip-path=\"url(#clip7602)\" style=\"fill:#ff0000; stroke:none; fill-opacity:1\" cx=\"255.524\" cy=\"1732.71\" r=\"21\"/>\n",
       "<circle clip-path=\"url(#clip7602)\" style=\"fill:#000000; stroke:none; fill-opacity:1\" cx=\"1346.44\" cy=\"1732.71\" r=\"25\"/>\n",
       "<circle clip-path=\"url(#clip7602)\" style=\"fill:#ff0000; stroke:none; fill-opacity:1\" cx=\"1346.44\" cy=\"1732.71\" r=\"21\"/>\n",
       "<circle clip-path=\"url(#clip7602)\" style=\"fill:#000000; stroke:none; fill-opacity:1\" cx=\"255.524\" cy=\"641.792\" r=\"25\"/>\n",
       "<circle clip-path=\"url(#clip7602)\" style=\"fill:#ff0000; stroke:none; fill-opacity:1\" cx=\"255.524\" cy=\"641.792\" r=\"21\"/>\n",
       "<circle clip-path=\"url(#clip7602)\" style=\"fill:#000000; stroke:none; fill-opacity:1\" cx=\"255.524\" cy=\"1732.71\" r=\"25\"/>\n",
       "<circle clip-path=\"url(#clip7602)\" style=\"fill:#ff0000; stroke:none; fill-opacity:1\" cx=\"255.524\" cy=\"1732.71\" r=\"21\"/>\n",
       "<circle clip-path=\"url(#clip7602)\" style=\"fill:#000000; stroke:none; fill-opacity:1\" cx=\"528.253\" cy=\"1187.25\" r=\"39\"/>\n",
       "<circle clip-path=\"url(#clip7602)\" style=\"fill:#008000; stroke:none; fill-opacity:1\" cx=\"528.253\" cy=\"1187.25\" r=\"36\"/>\n",
       "<polyline clip-path=\"url(#clip7602)\" style=\"stroke:#000000; stroke-width:4; stroke-opacity:1; fill:none\" points=\"\n",
       "  255.524,1732.71 1891.9,1732.71 255.524,96.3352 255.524,1732.71 \n",
       "  \"/>\n",
       "<circle clip-path=\"url(#clip7602)\" style=\"fill:#000000; stroke:none; fill-opacity:1\" cx=\"255.524\" cy=\"1732.71\" r=\"18\"/>\n",
       "<circle clip-path=\"url(#clip7602)\" style=\"fill:#ffa500; stroke:none; fill-opacity:1\" cx=\"255.524\" cy=\"1732.71\" r=\"14\"/>\n",
       "<circle clip-path=\"url(#clip7602)\" style=\"fill:#000000; stroke:none; fill-opacity:1\" cx=\"1891.9\" cy=\"1732.71\" r=\"18\"/>\n",
       "<circle clip-path=\"url(#clip7602)\" style=\"fill:#ffa500; stroke:none; fill-opacity:1\" cx=\"1891.9\" cy=\"1732.71\" r=\"14\"/>\n",
       "<circle clip-path=\"url(#clip7602)\" style=\"fill:#000000; stroke:none; fill-opacity:1\" cx=\"255.524\" cy=\"96.3352\" r=\"18\"/>\n",
       "<circle clip-path=\"url(#clip7602)\" style=\"fill:#ffa500; stroke:none; fill-opacity:1\" cx=\"255.524\" cy=\"96.3352\" r=\"14\"/>\n",
       "<circle clip-path=\"url(#clip7602)\" style=\"fill:#000000; stroke:none; fill-opacity:1\" cx=\"255.524\" cy=\"1732.71\" r=\"18\"/>\n",
       "<circle clip-path=\"url(#clip7602)\" style=\"fill:#ffa500; stroke:none; fill-opacity:1\" cx=\"255.524\" cy=\"1732.71\" r=\"14\"/>\n",
       "<circle clip-path=\"url(#clip7602)\" style=\"fill:#000000; stroke:none; fill-opacity:1\" cx=\"664.617\" cy=\"914.521\" r=\"39\"/>\n",
       "<circle clip-path=\"url(#clip7602)\" style=\"fill:#800080; stroke:none; fill-opacity:1\" cx=\"664.617\" cy=\"914.521\" r=\"36\"/>\n",
       "<polygon clip-path=\"url(#clip7600)\" points=\"\n",
       "1518.9,530.124 1892.76,530.124 1892.76,106.764 1518.9,106.764 \n",
       "  \" fill=\"#ffffff\" fill-rule=\"evenodd\" fill-opacity=\"1\"/>\n",
       "<polyline clip-path=\"url(#clip7600)\" style=\"stroke:#000000; stroke-width:4; stroke-opacity:1; fill:none\" points=\"\n",
       "  1518.9,530.124 1892.76,530.124 1892.76,106.764 1518.9,106.764 1518.9,530.124 \n",
       "  \"/>\n",
       "<polyline clip-path=\"url(#clip7600)\" style=\"stroke:#0000ff; stroke-width:12; stroke-opacity:1; fill:none\" points=\"\n",
       "  1538.9,167.244 1658.9,167.244 \n",
       "  \"/>\n",
       "<g clip-path=\"url(#clip7600)\">\n",
       "<text style=\"fill:#000000; fill-opacity:1; font-family:Arial,Helvetica Neue,Helvetica,sans-serif; font-size:48px; text-anchor:start;\" transform=\"rotate(0, 1678.9, 184.744)\" x=\"1678.9\" y=\"184.744\">Triangle</text>\n",
       "</g>\n",
       "<circle clip-path=\"url(#clip7600)\" style=\"fill:#000000; stroke:none; fill-opacity:1\" cx=\"1608.9\" cy=\"227.724\" r=\"25\"/>\n",
       "<circle clip-path=\"url(#clip7600)\" style=\"fill:#ff0000; stroke:none; fill-opacity:1\" cx=\"1608.9\" cy=\"227.724\" r=\"21\"/>\n",
       "<g clip-path=\"url(#clip7600)\">\n",
       "<text style=\"fill:#000000; fill-opacity:1; font-family:Arial,Helvetica Neue,Helvetica,sans-serif; font-size:48px; text-anchor:start;\" transform=\"rotate(0, 1678.9, 245.224)\" x=\"1678.9\" y=\"245.224\">Nodes</text>\n",
       "</g>\n",
       "<circle clip-path=\"url(#clip7600)\" style=\"fill:#000000; stroke:none; fill-opacity:1\" cx=\"1608.9\" cy=\"288.204\" r=\"25\"/>\n",
       "<circle clip-path=\"url(#clip7600)\" style=\"fill:#008000; stroke:none; fill-opacity:1\" cx=\"1608.9\" cy=\"288.204\" r=\"21\"/>\n",
       "<g clip-path=\"url(#clip7600)\">\n",
       "<text style=\"fill:#000000; fill-opacity:1; font-family:Arial,Helvetica Neue,Helvetica,sans-serif; font-size:48px; text-anchor:start;\" transform=\"rotate(0, 1678.9, 305.704)\" x=\"1678.9\" y=\"305.704\">p</text>\n",
       "</g>\n",
       "<polyline clip-path=\"url(#clip7600)\" style=\"stroke:#000000; stroke-width:4; stroke-opacity:1; fill:none\" points=\"\n",
       "  1538.9,348.684 1658.9,348.684 \n",
       "  \"/>\n",
       "<g clip-path=\"url(#clip7600)\">\n",
       "<text style=\"fill:#000000; fill-opacity:1; font-family:Arial,Helvetica Neue,Helvetica,sans-serif; font-size:48px; text-anchor:start;\" transform=\"rotate(0, 1678.9, 366.184)\" x=\"1678.9\" y=\"366.184\">Triangle</text>\n",
       "</g>\n",
       "<circle clip-path=\"url(#clip7600)\" style=\"fill:#000000; stroke:none; fill-opacity:1\" cx=\"1608.9\" cy=\"409.164\" r=\"25\"/>\n",
       "<circle clip-path=\"url(#clip7600)\" style=\"fill:#ffa500; stroke:none; fill-opacity:1\" cx=\"1608.9\" cy=\"409.164\" r=\"21\"/>\n",
       "<g clip-path=\"url(#clip7600)\">\n",
       "<text style=\"fill:#000000; fill-opacity:1; font-family:Arial,Helvetica Neue,Helvetica,sans-serif; font-size:48px; text-anchor:start;\" transform=\"rotate(0, 1678.9, 426.664)\" x=\"1678.9\" y=\"426.664\">Nodes</text>\n",
       "</g>\n",
       "<circle clip-path=\"url(#clip7600)\" style=\"fill:#000000; stroke:none; fill-opacity:1\" cx=\"1608.9\" cy=\"469.644\" r=\"25\"/>\n",
       "<circle clip-path=\"url(#clip7600)\" style=\"fill:#800080; stroke:none; fill-opacity:1\" cx=\"1608.9\" cy=\"469.644\" r=\"21\"/>\n",
       "<g clip-path=\"url(#clip7600)\">\n",
       "<text style=\"fill:#000000; fill-opacity:1; font-family:Arial,Helvetica Neue,Helvetica,sans-serif; font-size:48px; text-anchor:start;\" transform=\"rotate(0, 1678.9, 487.144)\" x=\"1678.9\" y=\"487.144\">p</text>\n",
       "</g>\n",
       "</svg>\n"
      ]
     },
     "execution_count": 153,
     "metadata": {},
     "output_type": "execute_result"
    }
   ],
   "source": [
    "# Visualize triangle\n",
    "pp=p+up'; #New coordinate for point p\n",
    "V2=[p1+u1;p2+u2;p3+u3;p1+u1]; #Node set for plotting\n",
    "plot(V[:,1],V[:,2],linewidth=3,xlabel=\"x\",ylabel=\"y\",color=\"blue\",markersize=6,label=\"Triangle\",aspect_ratio=1) #Plot graph\n",
    "scatter!(V[:,1],V[:,2],markersize=6, c=:red,label=\"Nodes\") #Plot graph\n",
    "scatter!(p[:,1],p[:,2],markersize=10, c=:green,label=\"p\") #Plot graph\n",
    "plot!(V2[:,1],V2[:,2],linewidth=1,xlabel=\"x\",ylabel=\"y\",color=\"black\",markersize=6,label=\"Triangle\",aspect_ratio=1) #Plot graph\n",
    "scatter!(V2[:,1],V2[:,2],markersize=4, c=:orange,label=\"Nodes\") #Plot graph\n",
    "scatter!(pp[:,1],pp[:,2],markersize=10, c=:purple,label=\"p\") #Plot graph"
   ]
  },
  {
   "cell_type": "markdown",
   "metadata": {
    "slideshow": {
     "slide_type": "slide"
    }
   },
   "source": [
    "### Shape functions for strain computation\n",
    "\n",
    "$$\\begin{Bmatrix} \\varepsilon \\end{Bmatrix}=\\begin{bmatrix} B \\end{bmatrix}\\begin{Bmatrix} u \\end{Bmatrix}$$\n",
    "\n",
    "$$\\begin{Bmatrix} \\varepsilon_{xx} \\\\ \\varepsilon_{yy} \\\\ \\gamma_{xy}\\end{Bmatrix}=\\frac{1}{2A}\\begin{bmatrix} b_1 & 0 & b_2 & 0 & b_3 & 0 \\\\ 0 & c_1 & 0 & c_2 & 0 & c_3 \\\\ c_1 & b_1 & c_2 & b_2 & c_3 & b_3 \\end{bmatrix}\\begin{Bmatrix} u_{1x} \\\\ u_{1y} \\\\ u_{2x} \\\\ u_{2y} \\\\  u_{3x} \\\\ u_{3y} \\end{Bmatrix}$$\n",
    "\n"
   ]
  },
  {
   "cell_type": "code",
   "execution_count": 154,
   "metadata": {
    "slideshow": {
     "slide_type": "fragment"
    }
   },
   "outputs": [
    {
     "data": {
      "text/plain": [
       "3×1 Array{Float64,2}:\n",
       " 0.5\n",
       " 0.5\n",
       " 0.0"
      ]
     },
     "execution_count": 154,
     "metadata": {},
     "output_type": "execute_result"
    }
   ],
   "source": [
    "B=(1/(2*A))*[b1 0 b2 0 b3 0; 0 c1 0 c2 0 c3; c1 b1 c2 b2 c3 b3]\n",
    "E=B*um"
   ]
  }
 ],
 "metadata": {
  "@webio": {
   "lastCommId": null,
   "lastKernelId": null
  },
  "celltoolbar": "Slideshow",
  "kernelspec": {
   "display_name": "Julia 1.1.0",
   "language": "julia",
   "name": "julia-1.1"
  },
  "language_info": {
   "file_extension": ".jl",
   "mimetype": "application/julia",
   "name": "julia",
   "version": "1.2.0"
  }
 },
 "nbformat": 4,
 "nbformat_minor": 2
}
