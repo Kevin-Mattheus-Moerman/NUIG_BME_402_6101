{
 "cells": [
  {
   "cell_type": "markdown",
   "metadata": {
    "slideshow": {
     "slide_type": "slide"
    }
   },
   "source": [
    "  \n",
    "[**Dr. Kevin M. Moerman**](mailto:kevin.moerman@nuigalway.ie), _Lecturer in Biomedical Engineering_   \n",
    "\n",
    "National University of Ireland Galway.   \n",
    "\n",
    "---"
   ]
  },
  {
   "cell_type": "markdown",
   "metadata": {
    "slideshow": {
     "slide_type": "slide"
    }
   },
   "source": [
    "This content is derived from a Jupyter notebook. Jupyter notebooks are a great way to combine teaching of theory and numerical implementation side-by-side and in an interactive manor.\n",
    "\n",
    "* To run the Jupyter notebooks and to interact with the code uses should set-up Jupyter. Note that doing so is not a requirement for this course. All contant can be understood and studied without using the live code functionality. Students wishing to \"skip\" the codes can do so and focus on the theoretical content instead. \n",
    "* One way to set-up Jupyter is to install the Conda Python environment (https://www.anaconda.com/distribution/), which comes with Jupyter. See also instructions here: https://jupyter.org/\n",
    "* For Octave (MATLAB syntax) notebooks users need to install Octave: https://www.gnu.org/software/octave/\n",
    "* For Julia notebooks users could install Julia (https://julialang.org/) or use JuliaBox to run to notebooks directly in a browser (https://www.juliabox.com/). \n",
    "* The source for this notebook is found here: GitHub source: [https://github.com/Kevin-Mattheus-Moerman/NUIG_BME_402_6101](https://github.com/Kevin-Mattheus-Moerman/NUIG_BME_402_6101)\n"
   ]
  },
  {
   "cell_type": "markdown",
   "metadata": {
    "slideshow": {
     "slide_type": "slide"
    }
   },
   "source": [
    "# The truss element\n",
    "![spring](truss1.png)  \n",
    "\n",
    "* Behaviour Hooke's law for a bar:    \n",
    "$$\\sigma=E\\epsilon=\\frac{F}{A}$$     \n",
    "$$\\begin{Bmatrix} f_{1} \\\\ f_{2} \\end{Bmatrix}=\\frac{AE}{L}\\begin{bmatrix} 1 & -1 \\\\ -1 & 1\\end{bmatrix}\\begin{Bmatrix} u_1 \\\\ u_2\\end{Bmatrix}$$   \n",
    "\n",
    "* Truss (or bar) is a 1D element but has a **cross-sectional area** $A$    \n",
    "\n",
    "* **strain** a relative metric for deformation: \n",
    "$$\\epsilon=\\frac{(u_2-u_1)}{L_0}$$    \n",
    "  \n",
    "$\\sigma$: Stress (Pa or $N/m^2$)   \n",
    "$F$: Force (N)   \n",
    "$E$: The material Young's Modulus (Pa or $N/m^2$)   \n",
    "$\\epsilon$: The strain in the material ([])   \n",
    "$L$ truss lenght (m)"
   ]
  },
  {
   "cell_type": "markdown",
   "metadata": {
    "slideshow": {
     "slide_type": "slide"
    }
   },
   "source": [
    "## Example: A two truss system and a known force\n",
    "Consider the three spring system below. \n",
    "\n",
    "* The system consists of 2 truss elements and 3 nodes.   \n",
    "\n",
    "* Node 1 is contrained from moving.   \n",
    "\n",
    "* A force of 10 N is applied to node 2 in the positive x-direction.   \n",
    "\n",
    "$E^{(1)}=200\\times10^3$ $MPa$   \n",
    "$L^{(1)}=100$ $mm$   \n",
    "$A^{(1)}=20$ $mm^2$   \n",
    "   \n",
    "$E^{(2)}=200\\times10^3$ $MPa$   \n",
    "$L^{(2)}=100$ $mm$  \n",
    "$A^{(2)}=10$ $mm^2$   \n",
    "\n",
    "\n",
    "![](trussSet_2_force.png)   \n",
    "\n",
    "**Assignment**: Determine the nodal displacements, reaction forces and strains within each element of the bar.         \n"
   ]
  },
  {
   "cell_type": "markdown",
   "metadata": {
    "slideshow": {
     "slide_type": "slide"
    }
   },
   "source": [
    "### Boundary and compatibility conditions\n",
    "* The boundary conditions: \n",
    "$$u_1=0$$\n",
    "$$F_3=P=10$$"
   ]
  },
  {
   "cell_type": "markdown",
   "metadata": {
    "slideshow": {
     "slide_type": "fragment"
    }
   },
   "source": [
    "### Constitutive behaviour\n",
    "* Hooke's law for a truss   \n",
    "    * Stress: \n",
    "    $$\\sigma=E\\epsilon=\\frac{F}{A}$$\n",
    "    * Strain: \n",
    "    $$\\epsilon=\\frac{(u_j-u_i)}{L_0}$$    \n",
    "\n",
    "### The element equations\n",
    "$$\\begin{Bmatrix} F^{(i)} \\end{Bmatrix}=\\begin{bmatrix} K^{(i)}\\end{bmatrix}\\begin{Bmatrix} u^{(i)}\\end{Bmatrix}$$  \n",
    "\n",
    "$$\\begin{Bmatrix} f_{1}^{(1)} \\\\ f_{2}^{(1)} \\end{Bmatrix}=\\frac{A^{(1)}E^{(1)}}{L^{(1)}}\\begin{bmatrix} 1 & -1 \\\\ -1 & 1\\end{bmatrix}\\begin{Bmatrix} u_1 \\\\ u_2\\end{Bmatrix}$$\n",
    "  \n",
    "$$\\begin{Bmatrix} f_{2}^{(2)} \\\\ f_{3}^{(2)} \\end{Bmatrix}=\\frac{A^{(2)}E^{(2)}}{L^{(2)}}\\begin{bmatrix} 1 & -1 \\\\ -1 & 1\\end{bmatrix}\\begin{Bmatrix} u_2 \\\\ u_3\\end{Bmatrix}$$\n"
   ]
  },
  {
   "cell_type": "markdown",
   "metadata": {
    "slideshow": {
     "slide_type": "slide"
    }
   },
   "source": [
    "### Setting up the element stiffness matrices\n",
    "* Recognize: \n",
    "$$K^{(i)}=\\frac{A^{(i)}E^{(i)}}{L^{(i)}}\\begin{bmatrix} 1 & -1 \\\\ -1 & 1\\end{bmatrix}=k^{(i)}\\begin{bmatrix} 1 & -1 \\\\ -1 & 1\\end{bmatrix}$$   \n",
    "* Derive individual stiffness values   \n",
    "$$k^{(1)}=\\frac{A^{(1)}E^{(1)}}{L^{(1)}}=\\frac{20*200\\times10^3}{100}=40\\times10^3$$\n",
    "$$k^{(2)}=\\frac{A^{(2)}E^{(2)}}{L^{(2)}}=\\frac{10*200\\times10^3}{100}=20\\times10^3$$\n",
    "* Derive individual stiffness matrices   \n",
    "$$K^{(1)}=\\begin{bmatrix} 40 & -40 \\\\ -40 & 40\\end{bmatrix}$$\n",
    "$$K^{(2)}=\\begin{bmatrix} 20 & -20 \\\\ -20 & 20\\end{bmatrix}$$"
   ]
  },
  {
   "cell_type": "code",
   "execution_count": 2,
   "metadata": {
    "slideshow": {
     "slide_type": "fragment"
    }
   },
   "outputs": [
    {
     "data": {
      "text/plain": [
       "2×2 Array{Float64,2}:\n",
       "  40.0  -40.0\n",
       " -40.0   40.0"
      ]
     },
     "metadata": {},
     "output_type": "display_data"
    },
    {
     "data": {
      "text/plain": [
       "2×2 Array{Float64,2}:\n",
       "  20.0  -20.0\n",
       " -20.0   20.0"
      ]
     },
     "metadata": {},
     "output_type": "display_data"
    }
   ],
   "source": [
    "I=[1 -1; -1 1]; # Array for spawning stiffness matrices\n",
    "k1=(20*200)/100; #Stiffness 1\n",
    "k2=(10*200)/100; #Stiffness 2\n",
    "K1=k1*I; # Element stiffness matrix 1\n",
    "K2=k2*I; # Element stiffness matrix 2\n",
    "display(K1)\n",
    "display(K2)"
   ]
  },
  {
   "cell_type": "markdown",
   "metadata": {
    "slideshow": {
     "slide_type": "slide"
    }
   },
   "source": [
    "### Superposition to assemble global stiffness matrix\n",
    "Through superposition to global stiffness matrix can be assembled. The superposition is often written as:\n",
    "$$K=\\sum_{i=1}^{N} K^{(i)}$$\n",
    "However, it should be noted this is not a summation. The below numerical implementation illustrates how **the indices of the nodes involved are used as indices into matrix $K$**, leading to:\n",
    "$$\\begin{bmatrix} K \\end{bmatrix}=\\begin{bmatrix} 40 & -40 & 0 \\\\ -40 & 60 & -20 \\\\ 0 & -20 & 20\\end{bmatrix}$$"
   ]
  },
  {
   "cell_type": "code",
   "execution_count": 10,
   "metadata": {
    "slideshow": {
     "slide_type": "fragment"
    }
   },
   "outputs": [
    {
     "data": {
      "text/plain": [
       "3×3 Array{Float64,2}:\n",
       "  40.0  -40.0    0.0\n",
       " -40.0   60.0  -20.0\n",
       "   0.0  -20.0   20.0"
      ]
     },
     "metadata": {},
     "output_type": "display_data"
    }
   ],
   "source": [
    "K=zeros(3,3); #Initialize stiffness aray with all zeros\n",
    "K[[1,2],[1,2]] .= K[[1,2],[1,2]] .+ K1 #Add element 1 contribution\n",
    "K[[2,3],[2,3]] .= K[[2,3],[2,3]] .+ K2; #Add element 2 contribution\n",
    "display(K)"
   ]
  },
  {
   "cell_type": "markdown",
   "metadata": {
    "slideshow": {
     "slide_type": "slide"
    }
   },
   "source": [
    "### Solving the system using matrix algebra\n",
    "* Following derivation of the global stiffness matrix, and using $u_1=0$, $F_2=0$, $F_3=P=10$, the total system now becomes:\n",
    "$$\\begin{Bmatrix} F_1 \\\\ 0 \\\\ 10 \\end{Bmatrix}=\\begin{bmatrix} 40 & -40 & 0 \\\\ -40 & 60 & -20 \\\\ 0 & -20 & 20\\end{bmatrix}\\begin{Bmatrix} 0 \\\\ u_2 \\\\ u_3\\end{Bmatrix}$$\n",
    "* Select the 2-3 sub-system: \n",
    "$$\\begin{Bmatrix} 0 \\\\ 10 \\end{Bmatrix}=\\begin{bmatrix} 60 & -20 \\\\ -20 & 20\\end{bmatrix}\\begin{Bmatrix} u_2 \\\\ u_3\\end{Bmatrix}$$\n",
    "\n",
    "* Solve: \n",
    "$$\\begin{Bmatrix} u_2 \\\\ u_3\\end{Bmatrix}=\\begin{bmatrix} 60 & -20 \\\\ -20 & 20\\end{bmatrix}^{-1}\\begin{Bmatrix} 0 \\\\ 10 \\end{Bmatrix}$$"
   ]
  },
  {
   "cell_type": "code",
   "execution_count": 22,
   "metadata": {
    "slideshow": {
     "slide_type": "fragment"
    }
   },
   "outputs": [
    {
     "data": {
      "text/plain": [
       "2×1 Array{Float64,2}:\n",
       " 0.25\n",
       " 0.75"
      ]
     },
     "metadata": {},
     "output_type": "display_data"
    }
   ],
   "source": [
    "F23=[0 10]'; #Force at node 2 and 3\n",
    "K23=K[[2,3],[2,3]] #Stiffness matrix for 2-3 system\n",
    "u23=K23\\F23 #Displacement array for node 2 and 3, same as: inv(K23)*F23\n",
    "display(u23)"
   ]
  },
  {
   "cell_type": "markdown",
   "metadata": {
    "slideshow": {
     "slide_type": "slide"
    }
   },
   "source": [
    "### Solving the system by solving system of linear equations manually\n",
    "* Select the 2-3 sub-system: \n",
    "$$\\begin{Bmatrix} 0 \\\\ 10 \\end{Bmatrix}=\\begin{bmatrix} 60 & -20 \\\\ -20 & 20\\end{bmatrix}\\begin{Bmatrix} u_2 \\\\ u_3\\end{Bmatrix}$$\n",
    "* \"Take out\" two equations:\n",
    "$$0=(60 u_2)+(-20 u_3)$$\n",
    "$$10=(-20 u_2)+(20 u_3)$$\n",
    "* Express $u_2$ in terms of $u_3$ or vice-versa:\n",
    "$$0=(60 u_2)+(-20 u_3)\\rightarrow 20 u_3=60 u_2 \\rightarrow u_2=u_3/3  \\rightarrow u_3=3u_2 $$\n",
    "* Substitute into other equation e.g.:\n",
    "$$10=(-20 [u_3/3])+(20 u_3) \\rightarrow 10=(-20/3 u_3)+(20 u_3) \\rightarrow 10=(20-20/3) u_3$$\n",
    "$$\\rightarrow u_3=\\frac{10}{20-\\frac{20}{3}}=0.75$$\n",
    "$$\\rightarrow u_2=u_3/3=0.25$$"
   ]
  },
  {
   "cell_type": "markdown",
   "metadata": {
    "slideshow": {
     "slide_type": "slide"
    }
   },
   "source": [
    "### Compute force array F\n",
    "Since all nodal diplacements are now known the full force array can now be computed from:\n",
    "$$\\begin{Bmatrix} F_1 \\\\ F_2 \\\\ F_3 \\end{Bmatrix}=\\begin{bmatrix} 40 & -40 & 0 \\\\ -40 & 60 & -20 \\\\ 0 & -20 & 20\\end{bmatrix}\\begin{Bmatrix} 0 \\\\ 0.25 \\\\ 0.75\\end{Bmatrix}=\\begin{Bmatrix} -10 \\\\ 0 \\\\ 10 \\end{Bmatrix}$$"
   ]
  },
  {
   "cell_type": "code",
   "execution_count": 23,
   "metadata": {
    "slideshow": {
     "slide_type": "fragment"
    }
   },
   "outputs": [
    {
     "data": {
      "text/plain": [
       "3-element Array{Float64,1}:\n",
       " -10.0\n",
       "   0.0\n",
       "  10.0"
      ]
     },
     "execution_count": 23,
     "metadata": {},
     "output_type": "execute_result"
    }
   ],
   "source": [
    "U=[0; u23[1]; u23[2]] #Full displacement array\n",
    "F=K*U #Compute force array"
   ]
  },
  {
   "cell_type": "markdown",
   "metadata": {
    "slideshow": {
     "slide_type": "slide"
    }
   },
   "source": [
    "### Computing element forces\n",
    "The element force data can now be computed too from:\n",
    "$$\\begin{Bmatrix} F^{(i)} \\end{Bmatrix}=\\begin{bmatrix} k^{(i)}\\end{bmatrix}\\begin{Bmatrix} u^{(i)} \\end{Bmatrix}$$   \n",
    "  \n",
    "E.g.:   \n",
    "\n",
    "$$\\begin{Bmatrix} f_{1x}^{(1)} \\\\ f_{2x}^{(1)} \\end{Bmatrix}=\\frac{A^{(1)}E^{(1)}}{L^{(1)}}\\begin{bmatrix} 1 & -1 \\\\ -1 & 1\\end{bmatrix}\\begin{Bmatrix} u_1 \\\\ u_2\\end{Bmatrix}=\\begin{bmatrix} k_1 & -k_1 \\\\ -k_1 & k_1\\end{bmatrix}\\begin{Bmatrix} u_1 \\\\ u_2\\end{Bmatrix}$$\n",
    "$$\\begin{Bmatrix} f_{2x}^{(2)} \\\\ f_{3x}^{(2)} \\end{Bmatrix}=\\frac{A^{(2)}E^{(2)}}{L^{(2)}}\\begin{bmatrix} 1 & -1 \\\\ -1 & 1\\end{bmatrix}\\begin{Bmatrix} u_2 \\\\ u_3\\end{Bmatrix}=\\begin{bmatrix} k_2 & -k_2 \\\\ -k_2 & k_2\\end{bmatrix}\\begin{Bmatrix} u_2 \\\\ u_3\\end{Bmatrix}$$"
   ]
  },
  {
   "cell_type": "code",
   "execution_count": 24,
   "metadata": {
    "slideshow": {
     "slide_type": "fragment"
    }
   },
   "outputs": [
    {
     "data": {
      "text/plain": [
       "2-element Array{Float64,1}:\n",
       " -10.0\n",
       "  10.0"
      ]
     },
     "metadata": {},
     "output_type": "display_data"
    },
    {
     "data": {
      "text/plain": [
       "2-element Array{Float64,1}:\n",
       " -10.0\n",
       "  10.0"
      ]
     },
     "metadata": {},
     "output_type": "display_data"
    }
   ],
   "source": [
    "f1=K1*U[[1,2]]; #Element 1 forces\n",
    "f2=K2*U[[2,3]]; #Element 2 forces\n",
    "display(f1)\n",
    "display(f2)"
   ]
  },
  {
   "cell_type": "markdown",
   "metadata": {
    "slideshow": {
     "slide_type": "slide"
    }
   },
   "source": [
    "### Compute strains\n",
    "* Hooke's law for a truss   \n",
    "    * Stress: \n",
    "    $$\\sigma=E\\epsilon=\\frac{F}{A}$$\n",
    "    * Strain: \n",
    "    $$\\epsilon=\\frac{(u_j-u_i)}{L_0}$$    \n",
    "    \n",
    "$$\\epsilon^{(1)}=\\frac{(u_2-u_1)}{L^{(1)}}=\\frac{(0.25-0)}{100}=0.0025$$    \n",
    "$$\\epsilon^{(2)}=\\frac{(u_3-u_2)}{L^{(2)}}=\\frac{(0.75-0.25)}{100}=0.005$$ "
   ]
  },
  {
   "cell_type": "markdown",
   "metadata": {
    "slideshow": {
     "slide_type": "slide"
    }
   },
   "source": [
    "## Example: A three spring system and a known force\n",
    "Consider the three truss system below. \n",
    "* The system consists of 3 truss elements and 4 nodes.  \n",
    "\n",
    "* Node 1, 3, and 4 are constrained from moving. \n",
    "\n",
    "* Truss 2 and 3 act in parallel and both originate from node 2  \n",
    "\n",
    "* All truss lengths $L_i=1$  \n",
    "\n",
    "* The truss Youngs Moduli are: $E_1=50$, $E_2=100$, and $E_3=25$  \n",
    "\n",
    "* The truss cross sectional areas are: $A_1=10$, $A_2=10$, and $A_3=10$  \n",
    "\n",
    "* A force of 25 kN is applied to node 2 in the positive x-direction.  \n",
    "\n",
    "**Assignment**: Use the direct stiffness method to derive the finite element equations\n",
    "![3 spring example](trussSet_3_force2.png)   "
   ]
  },
  {
   "cell_type": "markdown",
   "metadata": {
    "slideshow": {
     "slide_type": "slide"
    }
   },
   "source": [
    "### Boundary and compatibility conditions\n",
    "* The boundary conditions: \n",
    "$$u_1=u_3=u_4=0$$\n",
    "* The compatibility condition:\n",
    "$$u_2^{(1)}=u_2^{(2)}=u_2^{(3)}=u_2$$\n"
   ]
  },
  {
   "cell_type": "markdown",
   "metadata": {
    "slideshow": {
     "slide_type": "slide"
    }
   },
   "source": [
    "### Setting up the element stiffness matrices\n",
    "* Recognize: \n",
    "$$K^{(i)}=\\frac{A^{(i)}E^{(i)}}{L^{(i)}}\\begin{bmatrix} 1 & -1 \\\\ -1 & 1\\end{bmatrix}=k^{(i)}\\begin{bmatrix} 1 & -1 \\\\ -1 & 1\\end{bmatrix}$$   \n",
    "   \n",
    "$$k^{(1)}=\\frac{A^{(1)}E^{(1)}}{L^{(1)}}=\\frac{10*50}{1}=500$$\n",
    "$$k^{(2)}=\\frac{A^{(2)}E^{(2)}}{L^{(2)}}=\\frac{10*100}{1}=1000$$\n",
    "$$k^{(3)}=\\frac{A^{(3)}E^{(3)}}{L^{(3)}}=\\frac{10*25}{1}=250$$\n",
    "\n",
    "* Leading to:\n",
    "$K^{(1)}=\\begin{bmatrix} 500 & -500 \\\\ -500 & 500\\end{bmatrix}$, $K^{(2)}=\\begin{bmatrix} 1000 & -1000 \\\\ -1000 & 1000\\end{bmatrix}$, and $K^{(3)}=\\begin{bmatrix} 250 & -250 \\\\ -250 & 250\\end{bmatrix}$"
   ]
  },
  {
   "cell_type": "markdown",
   "metadata": {
    "slideshow": {
     "slide_type": "slide"
    }
   },
   "source": [
    "### Superposition to assemble global stiffness matrix\n",
    "Through superposition to global stiffness matrix can be assembled. The superposition is often written as:\n",
    "$$K=\\sum_{i=1}^{3} K^{(i)}$$\n",
    "However, it should be noted this is not a summation. The below numerical implementation illustrates how **the indices of the nodes involved are used as indices into matrix $K$**, leading to:\n",
    "$$\\begin{bmatrix} K \\end{bmatrix}=\\begin{bmatrix} 500 & -500 & 0 & 0 \\\\ -500 & 1750 & -1000 & -250 \\\\ 0 & -1000 & 1000 & 0 \\\\ 0 & -250 & 0 & 250 \\end{bmatrix}$$"
   ]
  },
  {
   "cell_type": "markdown",
   "metadata": {},
   "source": [
    "### Solving the system\n",
    "* Following derivation of the global stiffness matrix, and using $u_1=u_3=u_4=0$, the total system now becomes:\n",
    "$$\\begin{Bmatrix} F_1 \\\\ 25000 \\\\ F_3 \\\\ F_4 \\end{Bmatrix}=\\begin{bmatrix} 500 & -500 & 0 & 0 \\\\ -500 & 1750 & -1000 & -250 \\\\ 0 & -1000 & 1000 & 0 \\\\ 0 & -250 & 0 & 250 \\end{bmatrix}\\begin{Bmatrix} 0 \\\\ u_2 \\\\ 0 \\\\ 0\\end{Bmatrix}$$\n",
    "* Leading to: \n",
    "\n",
    "\n",
    "$$25000=\\begin{bmatrix}-500 & 1750 & -1000 & -250 \\end{bmatrix} \\begin{Bmatrix} 0 \\\\ u_2 \\\\ 0 \\\\ 0\\end{Bmatrix}\\rightarrow 25000=1750 u_2 \\rightarrow u_2=\\frac{25000}{1750}=14.2857...$$"
   ]
  }
 ],
 "metadata": {
  "@webio": {
   "lastCommId": null,
   "lastKernelId": null
  },
  "celltoolbar": "Slideshow",
  "kernelspec": {
   "display_name": "Julia 1.2.0",
   "language": "julia",
   "name": "julia-1.2"
  },
  "language_info": {
   "file_extension": ".jl",
   "mimetype": "application/julia",
   "name": "julia",
   "version": "1.2.0"
  }
 },
 "nbformat": 4,
 "nbformat_minor": 2
}
