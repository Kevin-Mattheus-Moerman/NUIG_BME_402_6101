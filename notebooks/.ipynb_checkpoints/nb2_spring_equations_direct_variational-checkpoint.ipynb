{
 "cells": [
  {
   "cell_type": "markdown",
   "metadata": {
    "slideshow": {
     "slide_type": "slide"
    }
   },
   "source": [
    "[**Dr. Kevin M. Moerman**](mailto:kevin.moerman@nuigalway.ie), _Lecturer in Biomedical Engineering_   \n",
    "\n",
    "National University of Ireland Galway.   \n",
    "\n",
    "---"
   ]
  },
  {
   "cell_type": "markdown",
   "metadata": {
    "slideshow": {
     "slide_type": "skip"
    }
   },
   "source": [
    "\\newpage"
   ]
  },
  {
   "cell_type": "markdown",
   "metadata": {
    "slideshow": {
     "slide_type": "slide"
    }
   },
   "source": [
    "# Learning objectives\n",
    "At the end of this lecture you should be able to:   \n",
    "\n",
    "* Formulate Hooke's law in **matrix form**\n",
    "* Derive spring equations using the **direct method**\n",
    "* Derive spring equations using a **variational method**"
   ]
  },
  {
   "cell_type": "code",
   "execution_count": 49,
   "metadata": {
    "slideshow": {
     "slide_type": "skip"
    }
   },
   "outputs": [
    {
     "name": "stderr",
     "output_type": "stream",
     "text": [
      "\u001b[32m\u001b[1m  Resolving\u001b[22m\u001b[39m package versions...\n",
      "\u001b[32m\u001b[1mNo Changes\u001b[22m\u001b[39m to `~/.julia/environments/v1.5/Project.toml`\n",
      "\u001b[32m\u001b[1mNo Changes\u001b[22m\u001b[39m to `~/.julia/environments/v1.5/Manifest.toml`\n"
     ]
    }
   ],
   "source": [
    "# Loading required packages (may take some time)\n",
    "# Re-execute with Ctrl-Enter to suppress command window output (may interfere with PDF export)\n",
    "using Pkg;\n",
    "Pkg.add(\"Plots\");\n",
    "using Plots;"
   ]
  },
  {
   "cell_type": "markdown",
   "metadata": {
    "slideshow": {
     "slide_type": "slide"
    }
   },
   "source": [
    "# Hooke's law\n",
    "$$F=ku$$   \n",
    "  \n",
    "$F$: Force   \n",
    "$k$: Spring stiffness constant   \n",
    "$u$: Spring extension (displacement of end point)   \n",
    "\n",
    "![](HOOKE_LAW.png)"
   ]
  },
  {
   "cell_type": "markdown",
   "metadata": {
    "slideshow": {
     "slide_type": "slide"
    }
   },
   "source": [
    "## Hooke's law in matrix form\n",
    "A two node spring system:   \n",
    "![spring](spring_2Node.png)  \n",
    "The force components at node 1 and 2 can be written:\n",
    "$$f_{1x}=k(u_1-u_2)$$\n",
    "$$f_{2x}=k(u_2-u_1)=-k(u_1-u_2)$$"
   ]
  },
  {
   "cell_type": "markdown",
   "metadata": {
    "slideshow": {
     "slide_type": "slide"
    }
   },
   "source": [
    "It is conventient to use matrix notation allowing one to write the above as:\n",
    "$$\\begin{Bmatrix} f_{1x} \\\\ f_{2x} \\end{Bmatrix}=\\begin{bmatrix} k & -k \\\\ -k & k\\end{bmatrix}\\begin{Bmatrix} u_1 \\\\ u_2\\end{Bmatrix}$$\n",
    "Which in short form is written:\n",
    "$$\\begin{Bmatrix} F\\end{Bmatrix}=\\begin{bmatrix} K \\end{bmatrix}\\begin{Bmatrix} u\\end{Bmatrix}$$\n",
    "This introduces the notation $\\begin{Bmatrix} \\end{Bmatrix}$ and $\\begin{bmatrix} \\end{bmatrix}$, which represent a column array and a square array respectively."
   ]
  },
  {
   "cell_type": "markdown",
   "metadata": {},
   "source": [
    "## Methods for derivation of the finite element equations\n",
    "\n",
    "* The key finite element equation:\n",
    "$$\\begin{Bmatrix} F\\end{Bmatrix}=\\begin{bmatrix} K \\end{bmatrix}\\begin{Bmatrix} u\\end{Bmatrix}$$\n",
    "* There are three main types of methods to do so:   \n",
    "    * The **direct** (equilibrium) method   \n",
    "        * Simple, intuitive\n",
    "        * 1D problems\n",
    "    * **Variational** methods\n",
    "        * More general\n",
    "        * Requires existance of a functional to minimize\n",
    "    * **Weighted residual** methods (e.g. Galerkin)\n",
    "        * Most general \n",
    "        * No functional for minization required\n",
    "* The direct and variational method are presented in this course"
   ]
  },
  {
   "cell_type": "markdown",
   "metadata": {
    "slideshow": {
     "slide_type": "slide"
    }
   },
   "source": [
    "## Matrix multiplication in finite element analysis (FEA)\n",
    "* Multiplication of two rectangular matrices (summation implied over repeated indices):\n",
    "$$c_{ij}=a_{ik}b_{kj}$$\n",
    "* In FEA \n",
    "$$\\begin{Bmatrix} F\\end{Bmatrix}=\\begin{bmatrix} K \\end{bmatrix}\\begin{Bmatrix} u\\end{Bmatrix}$$\n",
    "* Involves multiplication of a $n\\times p$ matrix and a $n\\times1$ array:\n",
    "$$f_{i}=k_{ip}u_{p}$$\n",
    "* Quasi-mnemonic to get $f_{i}$ \"keep up\" $\\rightarrow k_{ip}u_{p}$"
   ]
  },
  {
   "cell_type": "markdown",
   "metadata": {
    "slideshow": {
     "slide_type": "slide"
    }
   },
   "source": [
    "# Introduction to direct methods\n",
    "* Direct methods use equilibrium conditions to directly assemble stiffness matrices and get to the form: $\\begin{Bmatrix} F\\end{Bmatrix}=\\begin{bmatrix} K \\end{bmatrix}\\begin{Bmatrix} u\\end{Bmatrix}$. \n",
    "* Althought intuitive, this method is limited to 1D problems (springs, bars, trusses)\n"
   ]
  },
  {
   "cell_type": "markdown",
   "metadata": {
    "slideshow": {
     "slide_type": "slide"
    }
   },
   "source": [
    "## Example: A single spring system and a known force\n",
    "Consider a single spring with a spring constant $k_1=100$ and a force of 12 N at one end. Compute the displacement of node 2. \n",
    "\n",
    "![spring force image](spring1_force_2.png)   \n",
    "\n",
    "Once could directly use Hooke's law for a linear elastic spring in this case and simply state $F=ku$, leading to $12=100u$, and therefore $u=0.12$. However, below we shall use the finite element method for solving this problem (which is \"overkill\" in this case), just to familiarize ourselves with the process and notation.  \n"
   ]
  },
  {
   "cell_type": "markdown",
   "metadata": {
    "slideshow": {
     "slide_type": "fragment"
    }
   },
   "source": [
    "1. **Formulate the element stiffness matrix**. Using Hooke's law and force balance principles we can write $f_{1x}=k(u_1-u_2)$ and $f_{2x}=-k(u_1-u_2)$ and cast this in matrix form as:  \n",
    "\n",
    "$$\\begin{bmatrix} K^{(1)} \\end{bmatrix} = k_1 \\begin{bmatrix} 1 & -1 \\\\ -1 & 1 \\end{bmatrix}$$\n"
   ]
  },
  {
   "cell_type": "markdown",
   "metadata": {
    "slideshow": {
     "slide_type": "fragment"
    }
   },
   "source": [
    "2. **Formulate the element level equations**\n",
    "$$\\begin{Bmatrix} F^{(1)} \\end{Bmatrix}=\\begin{bmatrix} K^{(1)}\\end{bmatrix}\\begin{Bmatrix} u^{(1)} \\end{Bmatrix}$$\n",
    "\n",
    "$$\\begin{Bmatrix} f_{1x} \\\\ f_{2x} \\end{Bmatrix}=\\begin{bmatrix} k_1 & -k_1 \\\\ -k_1 & k_1\\end{bmatrix}\\begin{Bmatrix} u_{1x} \\\\ u_{2x}\\end{Bmatrix}$$\n"
   ]
  },
  {
   "cell_type": "markdown",
   "metadata": {
    "slideshow": {
     "slide_type": "fragment"
    }
   },
   "source": [
    "3. **Formulate the global stiffness matrix**. The global equations gather and represent contributions from all elements in the system. In this case, since there is only 1 element, the global stiffness matrix is the same as the element stiffness matrix, and superposition directly maps $\\begin{bmatrix} K^{1} \\end{bmatrix}$ to $\\begin{bmatrix} K \\end{bmatrix}$ :\n",
    "\n",
    "$$\\begin{Bmatrix} F \\end{Bmatrix}=\\begin{bmatrix} K \\end{bmatrix} \\begin{Bmatrix} u \\end{Bmatrix}$$\n",
    "\n",
    "$$\\begin{Bmatrix} F_{1x} \\\\ F_{2x} \\end{Bmatrix}=\\begin{bmatrix} k_1 & -k_1 \\\\ -k_1 & k_1\\end{bmatrix}\\begin{Bmatrix} u_{1x} \\\\ u_{2x}\\end{Bmatrix}$$\n"
   ]
  },
  {
   "cell_type": "markdown",
   "metadata": {
    "slideshow": {
     "slide_type": "fragment"
    }
   },
   "source": [
    "4. **Apply boundary conditions information**, i.e. $F_{2x}=12$ and $u_{1x}=0$\n",
    "\n",
    "$$\\begin{Bmatrix} F_{1x} \\\\ 12 \\end{Bmatrix}=\\begin{bmatrix} 100 & -100 \\\\ -100 & 100\\end{bmatrix}\\begin{Bmatrix} 0 \\\\ u_{2x}\\end{Bmatrix}$$\n"
   ]
  },
  {
   "cell_type": "markdown",
   "metadata": {
    "slideshow": {
     "slide_type": "fragment"
    }
   },
   "source": [
    "5. **Solve the system of equations**. Many methods exist for solving for the unknown quantities. Here a manual process is used. \n",
    "\n",
    "* 5a) First we isolate the equation for the known force $F_{2x}$ to solve for $u_2$ (recalling $f_i=K_{ip}u_{p}$): \n",
    "\n",
    "$$F_{2x} = 12 =K_{21}u_1+K_{22}u_2=-100*0+100u_2=100u_2 \\rightarrow u_2=\\frac{12}{100}=0.12$$\n"
   ]
  },
  {
   "cell_type": "markdown",
   "metadata": {
    "slideshow": {
     "slide_type": "fragment"
    }
   },
   "source": [
    "* 5b) Now we formally solve for the remaining unknown quantity $F_{1x}$ (although balance principles already dictate it should equal $-F_{2x}$), using: \n",
    "$$\\begin{Bmatrix} F_{1x} \\\\ 12 \\end{Bmatrix}=\\begin{bmatrix} 100 & -100 \\\\ -100 & 100\\end{bmatrix}\\begin{Bmatrix} 0 \\\\ \\frac{12}{100}\\end{Bmatrix}$$\n",
    "we obtain\n",
    "$$F_{1x} = K_{11}u_1+K_{12}u_2=100*0-100u_2=-100u_2=-100*0.12=-12$$"
   ]
  },
  {
   "cell_type": "markdown",
   "metadata": {
    "slideshow": {
     "slide_type": "slide"
    }
   },
   "source": [
    "## Example: A three spring system and a known force\n",
    "Consider the three spring system below*:   \n",
    "![3 spring example](springSet_3.png)   \n",
    "The system consists of 3 spring \"elements\" and 4 nodes. Node 1 and 4 are constrained from moving. A force of 25 kN is applied to node 3 in the positive x-direction. The spring stiffnesses are:    \n",
    "\n",
    "$k_1=200$, $k_2=400$, and $k_3=600$\n",
    "        \n",
    "\\*Based on example 2.1 of: Daryl Logan, _\"A First Course in the Finite Element Methods\"_ (page 44 in the 6th edition, page 46 in the 5th edition)"
   ]
  },
  {
   "cell_type": "markdown",
   "metadata": {
    "slideshow": {
     "slide_type": "slide"
    }
   },
   "source": [
    "# Setting up the element stiffness matrices\n",
    "Each element matrix is formed using:\n",
    "$$K^{(i)}=\\begin{bmatrix} k_i & -k_i \\\\ -k_i & k_i\\end{bmatrix} $$\n",
    "\n",
    "Leading to:   \n",
    "$K^{(1)}=\\begin{bmatrix} 200 & -200 \\\\ -200 & 200\\end{bmatrix}$, $K^{(2)}=\\begin{bmatrix} 400 & -400 \\\\ -400 & 400\\end{bmatrix}$, and $K^{(3)}=\\begin{bmatrix} 600 & -600 \\\\ -600 & 600\\end{bmatrix}$ "
   ]
  },
  {
   "cell_type": "code",
   "execution_count": 40,
   "metadata": {
    "slideshow": {
     "slide_type": "fragment"
    }
   },
   "outputs": [
    {
     "data": {
      "text/plain": [
       "2×2 Array{Int64,2}:\n",
       "  200  -200\n",
       " -200   200"
      ]
     },
     "metadata": {},
     "output_type": "display_data"
    },
    {
     "data": {
      "text/plain": [
       "2×2 Array{Int64,2}:\n",
       "  400  -400\n",
       " -400   400"
      ]
     },
     "metadata": {},
     "output_type": "display_data"
    },
    {
     "data": {
      "text/plain": [
       "2×2 Array{Int64,2}:\n",
       "  600  -600\n",
       " -600   600"
      ]
     },
     "metadata": {},
     "output_type": "display_data"
    }
   ],
   "source": [
    "kSet=[200 400 600]; # The spring stiffness value set\n",
    "I=[1 -1; -1 1]; # Array for spawning stiffness matrices\n",
    "k1=kSet[1]*I; # Element stiffness matrix 1\n",
    "k2=kSet[2]*I; # Element stiffness matrix 2\n",
    "k3=kSet[3]*I; # Element stiffness matrix 3\n",
    "display(k1)\n",
    "display(k2)\n",
    "display(k3)"
   ]
  },
  {
   "cell_type": "markdown",
   "metadata": {
    "slideshow": {
     "slide_type": "slide"
    }
   },
   "source": [
    "### Superposition to assemble global stiffness matrix\n",
    "Through superposition the global stiffness matrix can be assembled. The superposition is often written as:\n",
    "$$K=\\sum_{i=1}^{3} K^{(i)}$$\n",
    "However, it should be noted this is not a summation. The below numerical implementation illustrates how **the indices of the nodes involved are used as indices into matrix $K$**, leading to:\n",
    "$$\\begin{bmatrix} K \\end{bmatrix}=\\begin{bmatrix} 200 & -200 & 0 & 0 \\\\ -200 & 600 & -400 & 0  \\\\ 0 & -400 & 1000 & -600 \\\\ 0 & 0 & -600 & 600 \\end{bmatrix}$$"
   ]
  },
  {
   "cell_type": "code",
   "execution_count": 52,
   "metadata": {
    "slideshow": {
     "slide_type": "fragment"
    }
   },
   "outputs": [
    {
     "data": {
      "text/plain": [
       "4×4 Array{Float64,2}:\n",
       "  200.0  -200.0     0.0     0.0\n",
       " -200.0   400.0  -200.0     0.0\n",
       "    0.0  -200.0   400.0  -200.0\n",
       "    0.0     0.0  -200.0   200.0"
      ]
     },
     "metadata": {},
     "output_type": "display_data"
    }
   ],
   "source": [
    "K=zeros(4,4); #Initialize stiffness aray with all zeros\n",
    "K[[1,2],[1,2]] .= K[[1,2],[1,2]] .+ k1; #Add element 1 contribution\n",
    "K[[2,3],[2,3]] .= K[[2,3],[2,3]] .+ k2; #Add element 2 contribution\n",
    "K[[3,4],[3,4]] .= K[[3,4],[3,4]] .+ k3; #Add element 3 contribution\n",
    "display(K)]"
   ]
  },
  {
   "cell_type": "markdown",
   "metadata": {
    "slideshow": {
     "slide_type": "slide"
    }
   },
   "source": [
    "### Solving the system\n",
    "Following derivation of the global stiffness matrix the total system now becomes:\n",
    "$$\\begin{Bmatrix} F_1 \\\\ F_2 \\\\ F_3 \\\\ F_4 \\end{Bmatrix}=\\begin{bmatrix} 200 & -200 & 0 & 0 \\\\ -200 & 600 & -400 & 0  \\\\ 0 & -400 & 1000 & -600 \\\\ 0 & 0 & -600 & 600 \\end{bmatrix}\\begin{Bmatrix} u_1 \\\\ u_2 \\\\ u_3 \\\\ u_4\\end{Bmatrix}$$\n",
    "To solve this system we can use the boundary conditions. Using $u_1=u_4=0$ the \"sub-system\" for nodes 2 and 3 can be isolated. Furthermore the known forces at nodes 2 and 3 can be substituted, -> $F_2=0$, and $F_3=25000$:\n",
    "\n",
    "$$\\begin{Bmatrix} 0 \\\\ 25000 \\end{Bmatrix}=\\begin{bmatrix} 600 & -400 \\\\ -400 & 1000 \\end{bmatrix}\\begin{Bmatrix} u_2 \\\\ u_3 \\end{Bmatrix}\\rightarrow \\begin{Bmatrix} u_2 \\\\ u_3 \\end{Bmatrix}=\\begin{Bmatrix} \\frac{250}{11} \\\\ \\frac{375}{11} \\end{Bmatrix}$$"
   ]
  },
  {
   "cell_type": "code",
   "execution_count": 42,
   "metadata": {
    "slideshow": {
     "slide_type": "fragment"
    }
   },
   "outputs": [
    {
     "data": {
      "text/plain": [
       "2×2 Array{Float64,2}:\n",
       "  600.0  -400.0\n",
       " -400.0  1000.0"
      ]
     },
     "metadata": {},
     "output_type": "display_data"
    },
    {
     "data": {
      "text/plain": [
       "2-element Array{Float64,1}:\n",
       " 22.72727272727273\n",
       " 34.09090909090909"
      ]
     },
     "metadata": {},
     "output_type": "display_data"
    }
   ],
   "source": [
    "F23=[0; 25000]; #Force array for node 2 and 3\n",
    "k23=K[[2,3],[2,3]]; #Sub-stiffness matrix for 2-3 system\n",
    "u23=k23\\F23 #Displacement array for node 2 and 3\n",
    "display(k23)\n",
    "display(u23)"
   ]
  },
  {
   "cell_type": "markdown",
   "metadata": {
    "slideshow": {
     "slide_type": "slide"
    }
   },
   "source": [
    "### Compute force array F\n",
    "Since all nodal diplacements are now known the full force array can now be computed from:\n",
    "$$\\begin{Bmatrix} F_1 \\\\ F_2 \\\\ F_3 \\\\ F_4 \\end{Bmatrix}=\\begin{bmatrix} 200 & -200 & 0 & 0 \\\\ -200 & 600 & -400 & 0  \\\\ 0 & -400 & 1000 & -600 \\\\ 0 & 0 & -600 & 600 \\end{bmatrix}\\begin{Bmatrix} 0 \\\\ \\frac{250}{11} \\\\ \\frac{375}{11} \\\\ 0\\end{Bmatrix}=\\begin{Bmatrix} -\\frac{50000}{11} \\\\ 0 \\\\ 25000 \\\\ -\\frac{225}{11} \\end{Bmatrix}$$"
   ]
  },
  {
   "cell_type": "code",
   "execution_count": 43,
   "metadata": {
    "slideshow": {
     "slide_type": "fragment"
    }
   },
   "outputs": [
    {
     "data": {
      "text/plain": [
       "4-element Array{Float64,1}:\n",
       "  -4545.454545454546\n",
       "      0.0\n",
       "  25000.000000000004\n",
       " -20454.545454545456"
      ]
     },
     "execution_count": 43,
     "metadata": {},
     "output_type": "execute_result"
    }
   ],
   "source": [
    "U=[0; u23[1]; u23[2]; 0] #Full displacement array\n",
    "F=K*U #Compute force array"
   ]
  },
  {
   "cell_type": "markdown",
   "metadata": {
    "slideshow": {
     "slide_type": "slide"
    }
   },
   "source": [
    "### Computing element forces\n",
    "The element force data can now be computed too from:\n",
    "$$\\begin{Bmatrix} F^{(i)} \\end{Bmatrix}=\\begin{bmatrix} k^{(i)}\\end{bmatrix}\\begin{Bmatrix} u^{(i)} \\end{Bmatrix}$$\n",
    "E.g.:\n",
    "$$\\begin{Bmatrix} f_{1x} \\\\ f_{2x} \\end{Bmatrix}=\\begin{bmatrix} k_1 & -k_1 \\\\ -k_1 & k_1\\end{bmatrix}\\begin{Bmatrix} u_1 \\\\ u_2\\end{Bmatrix}$$"
   ]
  },
  {
   "cell_type": "code",
   "execution_count": 44,
   "metadata": {
    "slideshow": {
     "slide_type": "fragment"
    }
   },
   "outputs": [
    {
     "data": {
      "text/plain": [
       "2-element Array{Float64,1}:\n",
       " -4545.454545454546\n",
       "  4545.454545454546"
      ]
     },
     "metadata": {},
     "output_type": "display_data"
    },
    {
     "data": {
      "text/plain": [
       "2-element Array{Float64,1}:\n",
       " -4545.454545454546\n",
       "  4545.454545454546"
      ]
     },
     "metadata": {},
     "output_type": "display_data"
    },
    {
     "data": {
      "text/plain": [
       "2-element Array{Float64,1}:\n",
       "  20454.545454545456\n",
       " -20454.545454545456"
      ]
     },
     "metadata": {},
     "output_type": "display_data"
    }
   ],
   "source": [
    "f1=k1*U[[1,2]]; #Element 1 forces\n",
    "f2=k2*U[[2,3]]; #Element 2 forces\n",
    "f3=k3*U[[3,4]]; #Element 3 forces\n",
    "display(f1)\n",
    "display(f2)\n",
    "display(f3)"
   ]
  },
  {
   "cell_type": "markdown",
   "metadata": {
    "slideshow": {
     "slide_type": "slide"
    }
   },
   "source": [
    "## Example: A 3 spring system and a known displacement\n",
    "Consider the three spring system below*:   \n",
    "![sprin set image](springSet_3_disp.png)   \n",
    "The system consists of 3 spring \"elements\" and 4 nodes. Node 1 is constrained from moving. A displacement of 0.2 m is applied to node 4 in the positive x-direction. The spring stiffnesses are:    \n",
    "\n",
    "$k_1=k_2=k_3=200$\n",
    "        \n",
    "\\*Based on example 2.2 of: Daryl Logan, _\"A First Course in the Finite Element Methods\"_ (page 48 in the 6th edition, page 49 in the 5th edition)"
   ]
  },
  {
   "cell_type": "markdown",
   "metadata": {
    "slideshow": {
     "slide_type": "slide"
    }
   },
   "source": [
    "### Superposition to form the global stiffness matrix\n",
    "$$K=\\sum_{i=1}^{3} K^{(i)}$$\n",
    "All element stiffness matrices now are of the form: \n",
    "$$K^{(i)}=\\begin{bmatrix} 200 & -200 \\\\ -200 & 200\\end{bmatrix}$$ "
   ]
  },
  {
   "cell_type": "code",
   "execution_count": 45,
   "metadata": {
    "slideshow": {
     "slide_type": "fragment"
    }
   },
   "outputs": [
    {
     "data": {
      "text/plain": [
       "2×2 Array{Int64,2}:\n",
       "  200  -200\n",
       " -200   200"
      ]
     },
     "metadata": {},
     "output_type": "display_data"
    },
    {
     "data": {
      "text/plain": [
       "2×2 Array{Int64,2}:\n",
       "  200  -200\n",
       " -200   200"
      ]
     },
     "metadata": {},
     "output_type": "display_data"
    },
    {
     "data": {
      "text/plain": [
       "2×2 Array{Int64,2}:\n",
       "  200  -200\n",
       " -200   200"
      ]
     },
     "metadata": {},
     "output_type": "display_data"
    }
   ],
   "source": [
    "kSet=[200 200 200]; # The spring stiffness value set\n",
    "I=[1 -1;-1 1]; # Array for spawning stiffness matrices\n",
    "k1=kSet[1]*I; # Element stiffness matrix 1\n",
    "k2=kSet[2]*I; # Element stiffness matrix 2\n",
    "k3=kSet[3]*I; # Element stiffness matrix 3\n",
    "display(k1)\n",
    "display(k2)\n",
    "display(k3)"
   ]
  },
  {
   "cell_type": "markdown",
   "metadata": {
    "slideshow": {
     "slide_type": "slide"
    }
   },
   "source": [
    "leading to:\n",
    "$$\\begin{bmatrix} K \\end{bmatrix}=\\begin{bmatrix} 200 & -200 & 0 & 0 \\\\ -200 & 400 & -200 & 0  \\\\ 0 & -200 & 400 & -200 \\\\ 0 & 0 & -200 & 200 \\end{bmatrix}$$"
   ]
  },
  {
   "cell_type": "code",
   "execution_count": 46,
   "metadata": {
    "slideshow": {
     "slide_type": "fragment"
    }
   },
   "outputs": [
    {
     "data": {
      "text/plain": [
       "4×4 Array{Float64,2}:\n",
       "  200.0  -200.0     0.0     0.0\n",
       " -200.0   400.0  -200.0     0.0\n",
       "    0.0  -200.0   400.0  -200.0\n",
       "    0.0     0.0  -200.0   200.0"
      ]
     },
     "metadata": {},
     "output_type": "display_data"
    }
   ],
   "source": [
    "# K=[200 -200 0 0; -200 600 -400 0; 0 -400 1000 600; 0 0 -600 600]\n",
    "K=zeros(4,4); #Initialize stiffness aray with all zeros\n",
    "K[[1,2],[1,2]] .= K[[1,2],[1,2]] .+ k1; #Add element 1 contribution\n",
    "K[[2,3],[2,3]] .= K[[2,3],[2,3]] .+ k2; #Add element 2 contribution\n",
    "K[[3,4],[3,4]] .= K[[3,4],[3,4]] .+ k3; #Add element 3 contribution\n",
    "display(K)"
   ]
  },
  {
   "cell_type": "markdown",
   "metadata": {
    "slideshow": {
     "slide_type": "slide"
    }
   },
   "source": [
    "### Solving for unknown displacements\n",
    "* Considering the known global forces $F_{2x}=F_{3x}=0$, and using the known displacement $u_1=0$ and $u_4=0.2$, one can write:\n",
    "$$\\begin{Bmatrix} F_{1x} \\\\0 \\\\ 0 \\\\ F_{4x}\\end{Bmatrix}=\\begin{bmatrix} 200 & -200 & 0 & 0 \\\\ -200 & 400 & -200 & 0  \\\\ 0 & -200 & 400 & -200 \\\\ 0 & 0 & -200 & 200 \\end{bmatrix}\\begin{Bmatrix} 0 \\\\ u_2 \\\\ u_3 \\\\ 0.2\\end{Bmatrix}$$\n",
    "$$\\rightarrow\\begin{Bmatrix} 0 \\\\ 0 \\end{Bmatrix}=\\begin{bmatrix} -200 & 400 & -200 & 0 \\\\ 0 & -200  & 400  & -200\\end{bmatrix}\\begin{Bmatrix}0 \\\\ u_2 \\\\ u_3 \\\\ 0.2\\end{Bmatrix}$$\n",
    "* To consider only the 2-3 node system, the contribution one would \"ignore\" ($-200*0.2=-40$) should be added/accounted for:\n",
    "$$\\begin{Bmatrix} 0 \\\\ 40 \\end{Bmatrix}=\\begin{bmatrix} 400 & -200 \\\\ -200  & 400\\end{bmatrix}\\begin{Bmatrix} u_2 \\\\ u_3 \\end{Bmatrix}$$\n",
    "* To solve this system compute the inverse of the square matrix or use something like the eliminaton method:\n",
    " $$\\begin{cases} 400 u_2 - 200 u_3 = 0 & \\downarrow +\\times 2 \n",
    "             \\\\ -200 u_2 + 400 u_3 = 40 & \\end{cases}$$\n",
    "             \n",
    " $$\\rightarrow  \\begin{cases} 400 u_2 - 200 u_3 = 0 \n",
    "                          \\\\  600 u_2  = 40  \\end{cases} \\rightarrow u_2 =\\frac{40}{600}=\\frac{1}{15}\n",
    "                                                         \\rightarrow u_3 =\\frac{2}{15}$$"
   ]
  },
  {
   "cell_type": "markdown",
   "metadata": {
    "slideshow": {
     "slide_type": "slide"
    }
   },
   "source": [
    "#### Numerical implementation"
   ]
  },
  {
   "cell_type": "code",
   "execution_count": 47,
   "metadata": {
    "slideshow": {
     "slide_type": "fragment"
    }
   },
   "outputs": [
    {
     "data": {
      "text/plain": [
       "2×4 Array{Float64,2}:\n",
       " -200.0   400.0  -200.0     0.0\n",
       "    0.0  -200.0   400.0  -200.0"
      ]
     },
     "metadata": {},
     "output_type": "display_data"
    },
    {
     "data": {
      "text/plain": [
       "40.0"
      ]
     },
     "metadata": {},
     "output_type": "display_data"
    }
   ],
   "source": [
    "u4=0.2; \n",
    "K_sub=K[[2,3],:];\n",
    "f=-sum(u4*K_sub[:,4]);\n",
    "display(K_sub)\n",
    "display(f)"
   ]
  },
  {
   "cell_type": "code",
   "execution_count": 48,
   "metadata": {
    "slideshow": {
     "slide_type": "fragment"
    }
   },
   "outputs": [
    {
     "data": {
      "text/plain": [
       "2×1 Array{Float64,2}:\n",
       " 0.06666666666666667\n",
       " 0.13333333333333333"
      ]
     },
     "execution_count": 48,
     "metadata": {},
     "output_type": "execute_result"
    }
   ],
   "source": [
    "F23=[0 f]'; #lobal forces for nodes 2 and 3\n",
    "K23=K[[2,3],[2,3]]; #Stiffness matrix for 2-3 node system\n",
    "u23=K23\\F23 #Displacement array node 2-3 node system"
   ]
  },
  {
   "cell_type": "markdown",
   "metadata": {
    "slideshow": {
     "slide_type": "slide"
    }
   },
   "source": [
    "### Compute global force array using derived and known displacements\n",
    "\n",
    "$$\\begin{Bmatrix} F \\end{Bmatrix}=\\begin{bmatrix} 200 & -200 & 0 & 0 \\\\ -200 & 400 & -200 & 0  \\\\ 0 & -200 & 400 & -200 \\\\ 0 & 0 & -200 & 200 \\end{bmatrix}\\begin{Bmatrix} 0 \\\\ 0.0667 \\\\ 0.1333 \\\\ 0.2\\end{Bmatrix}=\\begin{Bmatrix} -13.3333 \\\\ 0 \\\\ 0 \\\\ 13.3333\\end{Bmatrix}$$\n"
   ]
  },
  {
   "cell_type": "markdown",
   "metadata": {
    "slideshow": {
     "slide_type": "fragment"
    }
   },
   "source": [
    "#### Numerical implementation"
   ]
  },
  {
   "cell_type": "code",
   "execution_count": 36,
   "metadata": {
    "slideshow": {
     "slide_type": "fragment"
    }
   },
   "outputs": [
    {
     "data": {
      "text/plain": [
       "4×1 Array{Float64,2}:\n",
       " -13.333333333333334\n",
       "   1.5543122344752192e-15\n",
       "  -2.220446049250313e-15\n",
       "  13.333333333333334"
      ]
     },
     "execution_count": 36,
     "metadata": {},
     "output_type": "execute_result"
    }
   ],
   "source": [
    "U=[0 u23[1] u23[2] 0.2]'; #Full displacement array\n",
    "F=K*U #Global force array"
   ]
  },
  {
   "cell_type": "markdown",
   "metadata": {
    "slideshow": {
     "slide_type": "slide"
    }
   },
   "source": [
    "# The variational method based on potential energy minimization\n",
    "* Variation methods uses minimisation of some functional, e.g. potential energy, to get to the form: $\\begin{Bmatrix} F\\end{Bmatrix}=\\begin{bmatrix} K \\end{bmatrix}\\begin{Bmatrix} u\\end{Bmatrix}$\n",
    "* Generally applies 1D, 2D, and 3D elements"
   ]
  },
  {
   "cell_type": "markdown",
   "metadata": {
    "slideshow": {
     "slide_type": "slide"
    }
   },
   "source": [
    "## Deriving a potential energy functional for minimization\n",
    "The potential energy of a system can be expressed as:\n",
    "$$\\Pi=\\Lambda-W$$\n",
    "$\\Pi$ : Potential energy of the system   \n",
    "$\\Lambda$ : The sum of internal strain energy   \n",
    "$W$ : Work done by external forces\n",
    "\n",
    "## Example: Potential energy minimisation in a single spring\\*\n",
    "Consider a single spring with a force at one end:   \n",
    "![spring force image](spring1_force.png)   \n",
    "The internal strain energy $\\Lambda$ is the area under the force-displacement graph (with $F=ku$):    \n",
    "$$\\Lambda=\\frac{1}{2}Fu=\\frac{1}{2}ku^2 \\\\ W=Fu$$\n",
    "Leading to:\n",
    "$$\\Pi=\\frac{1}{2}ku^2-Fu$$\n",
    "\n",
    "To obtain the minimum we solve: \n",
    "$$\\frac{\\partial\\Pi}{\\partial u}=ku-F=0$$\n",
    "\n",
    "\\*Based on example 2.4 of: Daryl Logan, _\"A First Course in the Finite Element Methods\"_ (page 60 in the 6th edition, page 60 in the 5th edition)"
   ]
  },
  {
   "cell_type": "markdown",
   "metadata": {},
   "source": [
    "Assuming a spring constant $k=12.5$, and applied force $F=500$, one would be able to derive the displacement from Hooke's law which would give: \n",
    "$$u=\\frac{F}{k}=40$$\n",
    "However, let's instead use the principle of potential energy minimization. First we specify $\\Pi$:\n",
    "$$\\Pi=\\frac{1}{2}ku^2-Fu$$\n",
    "Minimization provides:\n",
    "$$\\frac{\\partial\\Pi}{\\partial u}=ku-F=12.5u-5000=0 \\rightarrow u=40$$"
   ]
  },
  {
   "cell_type": "code",
   "execution_count": 50,
   "metadata": {
    "slideshow": {
     "slide_type": "fragment"
    }
   },
   "outputs": [
    {
     "data": {
      "image/svg+xml": [
       "<?xml version=\"1.0\" encoding=\"utf-8\"?>\n",
       "<svg xmlns=\"http://www.w3.org/2000/svg\" xmlns:xlink=\"http://www.w3.org/1999/xlink\" width=\"600\" height=\"400\" viewBox=\"0 0 2400 1600\">\n",
       "<defs>\n",
       "  <clipPath id=\"clip900\">\n",
       "    <rect x=\"0\" y=\"0\" width=\"2400\" height=\"1600\"/>\n",
       "  </clipPath>\n",
       "</defs>\n",
       "<path clip-path=\"url(#clip900)\" d=\"\n",
       "M0 1600 L2400 1600 L2400 0 L0 0  Z\n",
       "  \" fill=\"#ffffff\" fill-rule=\"evenodd\" fill-opacity=\"1\"/>\n",
       "<defs>\n",
       "  <clipPath id=\"clip901\">\n",
       "    <rect x=\"480\" y=\"0\" width=\"1681\" height=\"1600\"/>\n",
       "  </clipPath>\n",
       "</defs>\n",
       "<path clip-path=\"url(#clip900)\" d=\"\n",
       "M292.065 1423.18 L2352.76 1423.18 L2352.76 47.2441 L292.065 47.2441  Z\n",
       "  \" fill=\"#ffffff\" fill-rule=\"evenodd\" fill-opacity=\"1\"/>\n",
       "<defs>\n",
       "  <clipPath id=\"clip902\">\n",
       "    <rect x=\"292\" y=\"47\" width=\"2062\" height=\"1377\"/>\n",
       "  </clipPath>\n",
       "</defs>\n",
       "<polyline clip-path=\"url(#clip902)\" style=\"stroke:#000000; stroke-width:2; stroke-opacity:0.1; fill:none\" points=\"\n",
       "  544.791,1423.18 544.791,47.2441 \n",
       "  \"/>\n",
       "<polyline clip-path=\"url(#clip902)\" style=\"stroke:#000000; stroke-width:2; stroke-opacity:0.1; fill:none\" points=\"\n",
       "  933.601,1423.18 933.601,47.2441 \n",
       "  \"/>\n",
       "<polyline clip-path=\"url(#clip902)\" style=\"stroke:#000000; stroke-width:2; stroke-opacity:0.1; fill:none\" points=\"\n",
       "  1322.41,1423.18 1322.41,47.2441 \n",
       "  \"/>\n",
       "<polyline clip-path=\"url(#clip902)\" style=\"stroke:#000000; stroke-width:2; stroke-opacity:0.1; fill:none\" points=\"\n",
       "  1711.22,1423.18 1711.22,47.2441 \n",
       "  \"/>\n",
       "<polyline clip-path=\"url(#clip902)\" style=\"stroke:#000000; stroke-width:2; stroke-opacity:0.1; fill:none\" points=\"\n",
       "  2100.03,1423.18 2100.03,47.2441 \n",
       "  \"/>\n",
       "<polyline clip-path=\"url(#clip902)\" style=\"stroke:#000000; stroke-width:2; stroke-opacity:0.1; fill:none\" points=\"\n",
       "  292.065,1384.24 2352.76,1384.24 \n",
       "  \"/>\n",
       "<polyline clip-path=\"url(#clip902)\" style=\"stroke:#000000; stroke-width:2; stroke-opacity:0.1; fill:none\" points=\"\n",
       "  292.065,968.861 2352.76,968.861 \n",
       "  \"/>\n",
       "<polyline clip-path=\"url(#clip902)\" style=\"stroke:#000000; stroke-width:2; stroke-opacity:0.1; fill:none\" points=\"\n",
       "  292.065,553.485 2352.76,553.485 \n",
       "  \"/>\n",
       "<polyline clip-path=\"url(#clip902)\" style=\"stroke:#000000; stroke-width:2; stroke-opacity:0.1; fill:none\" points=\"\n",
       "  292.065,138.108 2352.76,138.108 \n",
       "  \"/>\n",
       "<polyline clip-path=\"url(#clip900)\" style=\"stroke:#000000; stroke-width:4; stroke-opacity:1; fill:none\" points=\"\n",
       "  292.065,1423.18 2352.76,1423.18 \n",
       "  \"/>\n",
       "<polyline clip-path=\"url(#clip900)\" style=\"stroke:#000000; stroke-width:4; stroke-opacity:1; fill:none\" points=\"\n",
       "  292.065,1423.18 292.065,47.2441 \n",
       "  \"/>\n",
       "<polyline clip-path=\"url(#clip900)\" style=\"stroke:#000000; stroke-width:4; stroke-opacity:1; fill:none\" points=\"\n",
       "  544.791,1423.18 544.791,1406.67 \n",
       "  \"/>\n",
       "<polyline clip-path=\"url(#clip900)\" style=\"stroke:#000000; stroke-width:4; stroke-opacity:1; fill:none\" points=\"\n",
       "  933.601,1423.18 933.601,1406.67 \n",
       "  \"/>\n",
       "<polyline clip-path=\"url(#clip900)\" style=\"stroke:#000000; stroke-width:4; stroke-opacity:1; fill:none\" points=\"\n",
       "  1322.41,1423.18 1322.41,1406.67 \n",
       "  \"/>\n",
       "<polyline clip-path=\"url(#clip900)\" style=\"stroke:#000000; stroke-width:4; stroke-opacity:1; fill:none\" points=\"\n",
       "  1711.22,1423.18 1711.22,1406.67 \n",
       "  \"/>\n",
       "<polyline clip-path=\"url(#clip900)\" style=\"stroke:#000000; stroke-width:4; stroke-opacity:1; fill:none\" points=\"\n",
       "  2100.03,1423.18 2100.03,1406.67 \n",
       "  \"/>\n",
       "<polyline clip-path=\"url(#clip900)\" style=\"stroke:#000000; stroke-width:4; stroke-opacity:1; fill:none\" points=\"\n",
       "  292.065,1384.24 316.793,1384.24 \n",
       "  \"/>\n",
       "<polyline clip-path=\"url(#clip900)\" style=\"stroke:#000000; stroke-width:4; stroke-opacity:1; fill:none\" points=\"\n",
       "  292.065,968.861 316.793,968.861 \n",
       "  \"/>\n",
       "<polyline clip-path=\"url(#clip900)\" style=\"stroke:#000000; stroke-width:4; stroke-opacity:1; fill:none\" points=\"\n",
       "  292.065,553.485 316.793,553.485 \n",
       "  \"/>\n",
       "<polyline clip-path=\"url(#clip900)\" style=\"stroke:#000000; stroke-width:4; stroke-opacity:1; fill:none\" points=\"\n",
       "  292.065,138.108 316.793,138.108 \n",
       "  \"/>\n",
       "<path clip-path=\"url(#clip900)\" d=\"M 0 0 M544.791 1445.17 Q541.18 1445.17 539.351 1448.74 Q537.546 1452.28 537.546 1459.41 Q537.546 1466.51 539.351 1470.08 Q541.18 1473.62 544.791 1473.62 Q548.425 1473.62 550.231 1470.08 Q552.06 1466.51 552.06 1459.41 Q552.06 1452.28 550.231 1448.74 Q548.425 1445.17 544.791 1445.17 M544.791 1441.47 Q550.601 1441.47 553.657 1446.07 Q556.736 1450.66 556.736 1459.41 Q556.736 1468.13 553.657 1472.74 Q550.601 1477.32 544.791 1477.32 Q538.981 1477.32 535.902 1472.74 Q532.847 1468.13 532.847 1459.41 Q532.847 1450.66 535.902 1446.07 Q538.981 1441.47 544.791 1441.47 Z\" fill=\"#000000\" fill-rule=\"evenodd\" fill-opacity=\"1\" /><path clip-path=\"url(#clip900)\" d=\"M 0 0 M914.747 1472.72 L931.066 1472.72 L931.066 1476.65 L909.122 1476.65 L909.122 1472.72 Q911.784 1469.96 916.367 1465.33 Q920.974 1460.68 922.154 1459.34 Q924.399 1456.81 925.279 1455.08 Q926.182 1453.32 926.182 1451.63 Q926.182 1448.87 924.237 1447.14 Q922.316 1445.4 919.214 1445.4 Q917.015 1445.4 914.562 1446.17 Q912.131 1446.93 909.353 1448.48 L909.353 1443.76 Q912.177 1442.62 914.631 1442.05 Q917.085 1441.47 919.122 1441.47 Q924.492 1441.47 927.686 1444.15 Q930.881 1446.84 930.881 1451.33 Q930.881 1453.46 930.071 1455.38 Q929.284 1457.28 927.177 1459.87 Q926.599 1460.54 923.497 1463.76 Q920.395 1466.95 914.747 1472.72 Z\" fill=\"#000000\" fill-rule=\"evenodd\" fill-opacity=\"1\" /><path clip-path=\"url(#clip900)\" d=\"M 0 0 M946.135 1445.17 Q942.524 1445.17 940.696 1448.74 Q938.89 1452.28 938.89 1459.41 Q938.89 1466.51 940.696 1470.08 Q942.524 1473.62 946.135 1473.62 Q949.77 1473.62 951.575 1470.08 Q953.404 1466.51 953.404 1459.41 Q953.404 1452.28 951.575 1448.74 Q949.77 1445.17 946.135 1445.17 M946.135 1441.47 Q951.946 1441.47 955.001 1446.07 Q958.08 1450.66 958.08 1459.41 Q958.08 1468.13 955.001 1472.74 Q951.946 1477.32 946.135 1477.32 Q940.325 1477.32 937.247 1472.74 Q934.191 1468.13 934.191 1459.41 Q934.191 1450.66 937.247 1446.07 Q940.325 1441.47 946.135 1441.47 Z\" fill=\"#000000\" fill-rule=\"evenodd\" fill-opacity=\"1\" /><path clip-path=\"url(#clip900)\" d=\"M 0 0 M1311.91 1446.17 L1300.11 1464.61 L1311.91 1464.61 L1311.91 1446.17 M1310.69 1442.09 L1316.57 1442.09 L1316.57 1464.61 L1321.5 1464.61 L1321.5 1468.5 L1316.57 1468.5 L1316.57 1476.65 L1311.91 1476.65 L1311.91 1468.5 L1296.31 1468.5 L1296.31 1463.99 L1310.69 1442.09 Z\" fill=\"#000000\" fill-rule=\"evenodd\" fill-opacity=\"1\" /><path clip-path=\"url(#clip900)\" d=\"M 0 0 M1336.57 1445.17 Q1332.95 1445.17 1331.13 1448.74 Q1329.32 1452.28 1329.32 1459.41 Q1329.32 1466.51 1331.13 1470.08 Q1332.95 1473.62 1336.57 1473.62 Q1340.2 1473.62 1342.01 1470.08 Q1343.83 1466.51 1343.83 1459.41 Q1343.83 1452.28 1342.01 1448.74 Q1340.2 1445.17 1336.57 1445.17 M1336.57 1441.47 Q1342.38 1441.47 1345.43 1446.07 Q1348.51 1450.66 1348.51 1459.41 Q1348.51 1468.13 1345.43 1472.74 Q1342.38 1477.32 1336.57 1477.32 Q1330.76 1477.32 1327.68 1472.74 Q1324.62 1468.13 1324.62 1459.41 Q1324.62 1450.66 1327.68 1446.07 Q1330.76 1441.47 1336.57 1441.47 Z\" fill=\"#000000\" fill-rule=\"evenodd\" fill-opacity=\"1\" /><path clip-path=\"url(#clip900)\" d=\"M 0 0 M1698.12 1457.51 Q1694.97 1457.51 1693.12 1459.66 Q1691.29 1461.81 1691.29 1465.56 Q1691.29 1469.29 1693.12 1471.47 Q1694.97 1473.62 1698.12 1473.62 Q1701.27 1473.62 1703.1 1471.47 Q1704.95 1469.29 1704.95 1465.56 Q1704.95 1461.81 1703.1 1459.66 Q1701.27 1457.51 1698.12 1457.51 M1707.4 1442.86 L1707.4 1447.11 Q1705.64 1446.28 1703.84 1445.84 Q1702.05 1445.4 1700.29 1445.4 Q1695.66 1445.4 1693.21 1448.53 Q1690.78 1451.65 1690.43 1457.97 Q1691.8 1455.96 1693.86 1454.89 Q1695.92 1453.8 1698.4 1453.8 Q1703.6 1453.8 1706.61 1456.98 Q1709.65 1460.12 1709.65 1465.56 Q1709.65 1470.89 1706.5 1474.11 Q1703.35 1477.32 1698.12 1477.32 Q1692.12 1477.32 1688.95 1472.74 Q1685.78 1468.13 1685.78 1459.41 Q1685.78 1451.21 1689.67 1446.35 Q1693.56 1441.47 1700.11 1441.47 Q1701.87 1441.47 1703.65 1441.81 Q1705.46 1442.16 1707.4 1442.86 Z\" fill=\"#000000\" fill-rule=\"evenodd\" fill-opacity=\"1\" /><path clip-path=\"url(#clip900)\" d=\"M 0 0 M1724.72 1445.17 Q1721.1 1445.17 1719.28 1448.74 Q1717.47 1452.28 1717.47 1459.41 Q1717.47 1466.51 1719.28 1470.08 Q1721.1 1473.62 1724.72 1473.62 Q1728.35 1473.62 1730.16 1470.08 Q1731.98 1466.51 1731.98 1459.41 Q1731.98 1452.28 1730.16 1448.74 Q1728.35 1445.17 1724.72 1445.17 M1724.72 1441.47 Q1730.53 1441.47 1733.58 1446.07 Q1736.66 1450.66 1736.66 1459.41 Q1736.66 1468.13 1733.58 1472.74 Q1730.53 1477.32 1724.72 1477.32 Q1718.91 1477.32 1715.83 1472.74 Q1712.77 1468.13 1712.77 1459.41 Q1712.77 1450.66 1715.83 1446.07 Q1718.91 1441.47 1724.72 1441.47 Z\" fill=\"#000000\" fill-rule=\"evenodd\" fill-opacity=\"1\" /><path clip-path=\"url(#clip900)\" d=\"M 0 0 M2086.52 1460.24 Q2083.19 1460.24 2081.27 1462.02 Q2079.37 1463.8 2079.37 1466.93 Q2079.37 1470.05 2081.27 1471.84 Q2083.19 1473.62 2086.52 1473.62 Q2089.86 1473.62 2091.78 1471.84 Q2093.7 1470.03 2093.7 1466.93 Q2093.7 1463.8 2091.78 1462.02 Q2089.88 1460.24 2086.52 1460.24 M2081.85 1458.25 Q2078.84 1457.51 2077.15 1455.45 Q2075.48 1453.39 2075.48 1450.43 Q2075.48 1446.28 2078.42 1443.87 Q2081.38 1441.47 2086.52 1441.47 Q2091.68 1441.47 2094.62 1443.87 Q2097.56 1446.28 2097.56 1450.43 Q2097.56 1453.39 2095.87 1455.45 Q2094.21 1457.51 2091.22 1458.25 Q2094.6 1459.04 2096.48 1461.33 Q2098.37 1463.62 2098.37 1466.93 Q2098.37 1471.95 2095.3 1474.64 Q2092.24 1477.32 2086.52 1477.32 Q2080.81 1477.32 2077.73 1474.64 Q2074.67 1471.95 2074.67 1466.93 Q2074.67 1463.62 2076.57 1461.33 Q2078.47 1459.04 2081.85 1458.25 M2080.13 1450.86 Q2080.13 1453.55 2081.8 1455.05 Q2083.49 1456.56 2086.52 1456.56 Q2089.53 1456.56 2091.22 1455.05 Q2092.93 1453.55 2092.93 1450.86 Q2092.93 1448.18 2091.22 1446.68 Q2089.53 1445.17 2086.52 1445.17 Q2083.49 1445.17 2081.8 1446.68 Q2080.13 1448.18 2080.13 1450.86 Z\" fill=\"#000000\" fill-rule=\"evenodd\" fill-opacity=\"1\" /><path clip-path=\"url(#clip900)\" d=\"M 0 0 M2113.44 1445.17 Q2109.83 1445.17 2108 1448.74 Q2106.2 1452.28 2106.2 1459.41 Q2106.2 1466.51 2108 1470.08 Q2109.83 1473.62 2113.44 1473.62 Q2117.08 1473.62 2118.88 1470.08 Q2120.71 1466.51 2120.71 1459.41 Q2120.71 1452.28 2118.88 1448.74 Q2117.08 1445.17 2113.44 1445.17 M2113.44 1441.47 Q2119.25 1441.47 2122.31 1446.07 Q2125.39 1450.66 2125.39 1459.41 Q2125.39 1468.13 2122.31 1472.74 Q2119.25 1477.32 2113.44 1477.32 Q2107.63 1477.32 2104.56 1472.74 Q2101.5 1468.13 2101.5 1459.41 Q2101.5 1450.66 2104.56 1446.07 Q2107.63 1441.47 2113.44 1441.47 Z\" fill=\"#000000\" fill-rule=\"evenodd\" fill-opacity=\"1\" /><path clip-path=\"url(#clip900)\" d=\"M 0 0 M118.736 1393.08 L131.212 1393.08 L131.212 1396.88 L118.736 1396.88 L118.736 1393.08 Z\" fill=\"#000000\" fill-rule=\"evenodd\" fill-opacity=\"1\" /><path clip-path=\"url(#clip900)\" d=\"M 0 0 M149.083 1404.03 L156.722 1404.03 L156.722 1377.67 L148.411 1379.33 L148.411 1375.07 L156.675 1373.41 L161.351 1373.41 L161.351 1404.03 L168.99 1404.03 L168.99 1407.97 L149.083 1407.97 L149.083 1404.03 Z\" fill=\"#000000\" fill-rule=\"evenodd\" fill-opacity=\"1\" /><path clip-path=\"url(#clip900)\" d=\"M 0 0 M202.231 1382.5 L191.652 1393.13 L202.231 1403.71 L199.476 1406.51 L188.851 1395.88 L178.226 1406.51 L175.495 1403.71 L186.05 1393.13 L175.495 1382.5 L178.226 1379.7 L188.851 1390.33 L199.476 1379.7 L202.231 1382.5 Z\" fill=\"#000000\" fill-rule=\"evenodd\" fill-opacity=\"1\" /><path clip-path=\"url(#clip900)\" d=\"M 0 0 M208.11 1404.03 L215.749 1404.03 L215.749 1377.67 L207.439 1379.33 L207.439 1375.07 L215.703 1373.41 L220.379 1373.41 L220.379 1404.03 L228.017 1404.03 L228.017 1407.97 L208.11 1407.97 L208.11 1404.03 Z\" fill=\"#000000\" fill-rule=\"evenodd\" fill-opacity=\"1\" /><path clip-path=\"url(#clip900)\" d=\"M 0 0 M243.087 1376.48 Q239.476 1376.48 237.647 1380.05 Q235.841 1383.59 235.841 1390.72 Q235.841 1397.83 237.647 1401.39 Q239.476 1404.93 243.087 1404.93 Q246.721 1404.93 248.527 1401.39 Q250.355 1397.83 250.355 1390.72 Q250.355 1383.59 248.527 1380.05 Q246.721 1376.48 243.087 1376.48 M243.087 1372.78 Q248.897 1372.78 251.952 1377.39 Q255.031 1381.97 255.031 1390.72 Q255.031 1399.45 251.952 1404.05 Q248.897 1408.64 243.087 1408.64 Q237.277 1408.64 234.198 1404.05 Q231.142 1399.45 231.142 1390.72 Q231.142 1381.97 234.198 1377.39 Q237.277 1372.78 243.087 1372.78 Z\" fill=\"#000000\" fill-rule=\"evenodd\" fill-opacity=\"1\" /><path clip-path=\"url(#clip900)\" d=\"M 0 0 M262.818 1354.56 L257.006 1362.44 L262.818 1362.44 L262.818 1354.56 M262.404 1352.29 L265.526 1352.29 L265.526 1362.44 L268.065 1362.44 L268.065 1364.49 L265.526 1364.49 L265.526 1367.99 L262.818 1367.99 L262.818 1364.49 L255.031 1364.49 L255.031 1362.22 L262.404 1352.29 Z\" fill=\"#000000\" fill-rule=\"evenodd\" fill-opacity=\"1\" /><path clip-path=\"url(#clip900)\" d=\"M 0 0 M118.345 977.705 L130.822 977.705 L130.822 981.501 L118.345 981.501 L118.345 977.705 Z\" fill=\"#000000\" fill-rule=\"evenodd\" fill-opacity=\"1\" /><path clip-path=\"url(#clip900)\" d=\"M 0 0 M149.479 958.029 L167.835 958.029 L167.835 961.964 L153.761 961.964 L153.761 970.436 Q154.78 970.089 155.798 969.927 Q156.817 969.742 157.836 969.742 Q163.623 969.742 167.002 972.913 Q170.382 976.084 170.382 981.501 Q170.382 987.08 166.91 990.182 Q163.437 993.26 157.118 993.26 Q154.942 993.26 152.673 992.89 Q150.428 992.52 148.021 991.779 L148.021 987.08 Q150.104 988.214 152.326 988.77 Q154.548 989.325 157.025 989.325 Q161.03 989.325 163.368 987.219 Q165.706 985.112 165.706 981.501 Q165.706 977.89 163.368 975.784 Q161.03 973.677 157.025 973.677 Q155.15 973.677 153.275 974.094 Q151.424 974.51 149.479 975.39 L149.479 958.029 Z\" fill=\"#000000\" fill-rule=\"evenodd\" fill-opacity=\"1\" /><path clip-path=\"url(#clip900)\" d=\"M 0 0 M203.622 967.126 L193.044 977.751 L203.622 988.33 L200.868 991.131 L190.243 980.506 L179.618 991.131 L176.886 988.33 L187.442 977.751 L176.886 967.126 L179.618 964.325 L190.243 974.95 L200.868 964.325 L203.622 967.126 Z\" fill=\"#000000\" fill-rule=\"evenodd\" fill-opacity=\"1\" /><path clip-path=\"url(#clip900)\" d=\"M 0 0 M209.502 988.654 L217.141 988.654 L217.141 962.288 L208.831 963.955 L208.831 959.696 L217.094 958.029 L221.77 958.029 L221.77 988.654 L229.409 988.654 L229.409 992.589 L209.502 992.589 L209.502 988.654 Z\" fill=\"#000000\" fill-rule=\"evenodd\" fill-opacity=\"1\" /><path clip-path=\"url(#clip900)\" d=\"M 0 0 M244.479 961.108 Q240.867 961.108 239.039 964.673 Q237.233 968.214 237.233 975.344 Q237.233 982.45 239.039 986.015 Q240.867 989.557 244.479 989.557 Q248.113 989.557 249.918 986.015 Q251.747 982.45 251.747 975.344 Q251.747 968.214 249.918 964.673 Q248.113 961.108 244.479 961.108 M244.479 957.404 Q250.289 957.404 253.344 962.01 Q256.423 966.594 256.423 975.344 Q256.423 984.071 253.344 988.677 Q250.289 993.26 244.479 993.26 Q238.668 993.26 235.59 988.677 Q232.534 984.071 232.534 975.344 Q232.534 966.594 235.59 962.01 Q238.668 957.404 244.479 957.404 Z\" fill=\"#000000\" fill-rule=\"evenodd\" fill-opacity=\"1\" /><path clip-path=\"url(#clip900)\" d=\"M 0 0 M264.435 944.114 Q266.165 944.452 267.106 945.487 Q268.065 946.503 268.065 948.045 Q268.065 950.377 266.278 951.637 Q264.491 952.897 261.163 952.897 Q260.09 952.897 258.906 952.709 Q257.739 952.502 256.423 952.126 L256.423 949.85 Q257.401 950.358 258.511 950.603 Q259.639 950.847 260.899 950.847 Q262.949 950.847 264.078 950.114 Q265.206 949.361 265.206 948.045 Q265.206 946.653 264.153 945.938 Q263.119 945.224 261.087 945.224 L259.47 945.224 L259.47 943.192 L261.238 943.192 Q263.006 943.192 263.908 942.609 Q264.83 942.007 264.83 940.879 Q264.83 939.788 263.89 939.224 Q262.949 938.641 261.163 938.641 Q260.41 938.641 259.451 938.81 Q258.492 938.979 256.968 939.412 L256.968 937.249 Q258.341 936.929 259.545 936.76 Q260.749 936.591 261.783 936.591 Q264.491 936.591 266.071 937.7 Q267.67 938.81 267.67 940.672 Q267.67 941.97 266.824 942.873 Q265.977 943.775 264.435 944.114 Z\" fill=\"#000000\" fill-rule=\"evenodd\" fill-opacity=\"1\" /><path clip-path=\"url(#clip900)\" d=\"M 0 0 M256.121 539.283 Q252.509 539.283 250.681 542.848 Q248.875 546.39 248.875 553.519 Q248.875 560.626 250.681 564.191 Q252.509 567.732 256.121 567.732 Q259.755 567.732 261.56 564.191 Q263.389 560.626 263.389 553.519 Q263.389 546.39 261.56 542.848 Q259.755 539.283 256.121 539.283 M256.121 535.58 Q261.931 535.58 264.986 540.186 Q268.065 544.769 268.065 553.519 Q268.065 562.246 264.986 566.853 Q261.931 571.436 256.121 571.436 Q250.31 571.436 247.232 566.853 Q244.176 562.246 244.176 553.519 Q244.176 544.769 247.232 540.186 Q250.31 535.58 256.121 535.58 Z\" fill=\"#000000\" fill-rule=\"evenodd\" fill-opacity=\"1\" /><path clip-path=\"url(#clip900)\" d=\"M 0 0 M149.479 127.275 L167.835 127.275 L167.835 131.211 L153.761 131.211 L153.761 139.683 Q154.78 139.335 155.798 139.173 Q156.817 138.988 157.836 138.988 Q163.623 138.988 167.002 142.16 Q170.382 145.331 170.382 150.747 Q170.382 156.326 166.91 159.428 Q163.437 162.507 157.118 162.507 Q154.942 162.507 152.673 162.136 Q150.428 161.766 148.021 161.025 L148.021 156.326 Q150.104 157.46 152.326 158.016 Q154.548 158.572 157.025 158.572 Q161.03 158.572 163.368 156.465 Q165.706 154.359 165.706 150.747 Q165.706 147.136 163.368 145.03 Q161.03 142.923 157.025 142.923 Q155.15 142.923 153.275 143.34 Q151.424 143.757 149.479 144.636 L149.479 127.275 Z\" fill=\"#000000\" fill-rule=\"evenodd\" fill-opacity=\"1\" /><path clip-path=\"url(#clip900)\" d=\"M 0 0 M203.622 136.373 L193.044 146.997 L203.622 157.576 L200.868 160.377 L190.243 149.752 L179.618 160.377 L176.886 157.576 L187.442 146.997 L176.886 136.373 L179.618 133.572 L190.243 144.197 L200.868 133.572 L203.622 136.373 Z\" fill=\"#000000\" fill-rule=\"evenodd\" fill-opacity=\"1\" /><path clip-path=\"url(#clip900)\" d=\"M 0 0 M209.502 157.9 L217.141 157.9 L217.141 131.535 L208.831 133.201 L208.831 128.942 L217.094 127.275 L221.77 127.275 L221.77 157.9 L229.409 157.9 L229.409 161.835 L209.502 161.835 L209.502 157.9 Z\" fill=\"#000000\" fill-rule=\"evenodd\" fill-opacity=\"1\" /><path clip-path=\"url(#clip900)\" d=\"M 0 0 M244.479 130.354 Q240.867 130.354 239.039 133.919 Q237.233 137.461 237.233 144.59 Q237.233 151.697 239.039 155.261 Q240.867 158.803 244.479 158.803 Q248.113 158.803 249.918 155.261 Q251.747 151.697 251.747 144.59 Q251.747 137.461 249.918 133.919 Q248.113 130.354 244.479 130.354 M244.479 126.65 Q250.289 126.65 253.344 131.257 Q256.423 135.84 256.423 144.59 Q256.423 153.317 253.344 157.923 Q250.289 162.507 244.479 162.507 Q238.668 162.507 235.59 157.923 Q232.534 153.317 232.534 144.59 Q232.534 135.84 235.59 131.257 Q238.668 126.65 244.479 126.65 Z\" fill=\"#000000\" fill-rule=\"evenodd\" fill-opacity=\"1\" /><path clip-path=\"url(#clip900)\" d=\"M 0 0 M264.435 113.36 Q266.165 113.699 267.106 114.733 Q268.065 115.749 268.065 117.291 Q268.065 119.623 266.278 120.883 Q264.491 122.144 261.163 122.144 Q260.09 122.144 258.906 121.955 Q257.739 121.749 256.423 121.372 L256.423 119.097 Q257.401 119.604 258.511 119.849 Q259.639 120.093 260.899 120.093 Q262.949 120.093 264.078 119.36 Q265.206 118.608 265.206 117.291 Q265.206 115.899 264.153 115.185 Q263.119 114.47 261.087 114.47 L259.47 114.47 L259.47 112.439 L261.238 112.439 Q263.006 112.439 263.908 111.856 Q264.83 111.254 264.83 110.125 Q264.83 109.034 263.89 108.47 Q262.949 107.887 261.163 107.887 Q260.41 107.887 259.451 108.056 Q258.492 108.226 256.968 108.658 L256.968 106.495 Q258.341 106.176 259.545 106.006 Q260.749 105.837 261.783 105.837 Q264.491 105.837 266.071 106.947 Q267.67 108.056 267.67 109.918 Q267.67 111.216 266.824 112.119 Q265.977 113.022 264.435 113.36 Z\" fill=\"#000000\" fill-rule=\"evenodd\" fill-opacity=\"1\" /><path clip-path=\"url(#clip900)\" d=\"M 0 0 M1307.48 1541.98 L1307.48 1520.4 L1313.34 1520.4 L1313.34 1541.75 Q1313.34 1546.81 1315.31 1549.36 Q1317.29 1551.87 1321.23 1551.87 Q1325.98 1551.87 1328.71 1548.85 Q1331.48 1545.83 1331.48 1540.61 L1331.48 1520.4 L1337.34 1520.4 L1337.34 1556.04 L1331.48 1556.04 L1331.48 1550.57 Q1329.35 1553.82 1326.52 1555.41 Q1323.72 1556.97 1319.99 1556.97 Q1313.85 1556.97 1310.67 1553.15 Q1307.48 1549.33 1307.48 1541.98 M1322.22 1519.54 L1322.22 1519.54 Z\" fill=\"#000000\" fill-rule=\"evenodd\" fill-opacity=\"1\" /><path clip-path=\"url(#clip900)\" d=\"M 0 0 M45.7677 744.124 L63.6235 744.124 L63.6235 736.04 Q63.6235 731.552 61.3 729.101 Q58.9765 726.65 54.6797 726.65 Q50.4147 726.65 48.0912 729.101 Q45.7677 731.552 45.7677 736.04 L45.7677 744.124 M40.4842 750.553 L40.4842 736.04 Q40.4842 728.051 44.1126 723.976 Q47.7092 719.871 54.6797 719.871 Q61.7138 719.871 65.3104 723.976 Q68.907 728.051 68.907 736.04 L68.907 744.124 L88.0042 744.124 L88.0042 750.553 L40.4842 750.553 Z\" fill=\"#000000\" fill-rule=\"evenodd\" fill-opacity=\"1\" /><polyline clip-path=\"url(#clip902)\" style=\"stroke:#0000ff; stroke-width:8; stroke-opacity:1; fill:none\" points=\"\n",
       "  350.386,86.1857 354.282,96.5701 358.178,106.913 362.074,117.214 365.97,127.473 369.866,137.691 373.762,147.866 377.658,158.001 381.553,168.093 385.449,178.144 \n",
       "  389.345,188.153 393.241,198.12 397.137,208.046 401.033,217.93 404.929,227.772 408.825,237.572 412.721,247.331 416.616,257.048 420.512,266.724 424.408,276.357 \n",
       "  428.304,285.949 432.2,295.5 436.096,305.008 439.992,314.475 443.888,323.9 447.784,333.284 451.679,342.626 455.575,351.926 459.471,361.184 463.367,370.401 \n",
       "  467.263,379.576 471.159,388.709 475.055,397.8 478.951,406.85 482.847,415.858 486.742,424.825 490.638,433.75 494.534,442.633 498.43,451.474 502.326,460.274 \n",
       "  506.222,469.031 510.118,477.748 514.014,486.422 517.91,495.055 521.805,503.646 525.701,512.195 529.597,520.703 533.493,529.169 537.389,537.593 541.285,545.976 \n",
       "  545.181,554.317 549.077,562.616 552.973,570.873 556.868,579.089 560.764,587.263 564.66,595.396 568.556,603.486 572.452,611.535 576.348,619.542 580.244,627.508 \n",
       "  584.14,635.432 588.036,643.314 591.931,651.154 595.827,658.953 599.723,666.71 603.619,674.425 607.515,682.099 611.411,689.731 615.307,697.321 619.203,704.869 \n",
       "  623.099,712.376 626.994,719.841 630.89,727.265 634.786,734.646 638.682,741.986 642.578,749.285 646.474,756.541 650.37,763.756 654.266,770.929 658.162,778.061 \n",
       "  662.057,785.15 665.953,792.198 669.849,799.205 673.745,806.169 677.641,813.092 681.537,819.973 685.433,826.813 689.329,833.611 693.225,840.367 697.12,847.081 \n",
       "  701.016,853.754 704.912,860.385 708.808,866.974 712.704,873.522 716.6,880.028 720.496,886.492 724.392,892.914 728.288,899.295 732.183,905.634 736.079,911.931 \n",
       "  739.975,918.187 743.871,924.401 747.767,930.573 751.663,936.704 755.559,942.793 759.455,948.84 763.351,954.845 767.246,960.809 771.142,966.731 775.038,972.611 \n",
       "  778.934,978.45 782.83,984.247 786.726,990.002 790.622,995.715 794.518,1001.39 798.414,1007.02 802.309,1012.61 806.205,1018.15 810.101,1023.66 813.997,1029.12 \n",
       "  817.893,1034.54 821.789,1039.92 825.685,1045.26 829.581,1050.56 833.476,1055.81 837.372,1061.02 841.268,1066.2 845.164,1071.33 849.06,1076.41 852.956,1081.46 \n",
       "  856.852,1086.46 860.748,1091.43 864.644,1096.35 868.539,1101.23 872.435,1106.07 876.331,1110.86 880.227,1115.62 884.123,1120.33 888.019,1125 891.915,1129.63 \n",
       "  895.811,1134.22 899.707,1138.76 903.602,1143.27 907.498,1147.73 911.394,1152.15 915.29,1156.53 919.186,1160.86 923.082,1165.16 926.978,1169.41 930.874,1173.63 \n",
       "  934.77,1177.8 938.665,1181.93 942.561,1186.01 946.457,1190.06 950.353,1194.06 954.249,1198.02 958.145,1201.94 962.041,1205.82 965.937,1209.66 969.833,1213.45 \n",
       "  973.728,1217.21 977.624,1220.92 981.52,1224.59 985.416,1228.22 989.312,1231.8 993.208,1235.35 997.104,1238.85 1001,1242.31 1004.9,1245.73 1008.79,1249.11 \n",
       "  1012.69,1252.45 1016.58,1255.74 1020.48,1258.99 1024.38,1262.21 1028.27,1265.38 1032.17,1268.5 1036.06,1271.59 1039.96,1274.63 1043.85,1277.64 1047.75,1280.6 \n",
       "  1051.65,1283.52 1055.54,1286.39 1059.44,1289.23 1063.33,1292.02 1067.23,1294.78 1071.13,1297.49 1075.02,1300.16 1078.92,1302.78 1082.81,1305.37 1086.71,1307.91 \n",
       "  1090.61,1310.42 1094.5,1312.88 1098.4,1315.3 1102.29,1317.67 1106.19,1320.01 1110.08,1322.3 1113.98,1324.55 1117.88,1326.76 1121.77,1328.93 1125.67,1331.06 \n",
       "  1129.56,1333.15 1133.46,1335.19 1137.36,1337.19 1141.25,1339.15 1145.15,1341.07 1149.04,1342.95 1152.94,1344.78 1156.84,1346.57 1160.73,1348.33 1164.63,1350.04 \n",
       "  1168.52,1351.7 1172.42,1353.33 1176.31,1354.91 1180.21,1356.46 1184.11,1357.96 1188,1359.42 1191.9,1360.84 1195.79,1362.21 1199.69,1363.55 1203.59,1364.84 \n",
       "  1207.48,1366.09 1211.38,1367.3 1215.27,1368.47 1219.17,1369.59 1223.07,1370.68 1226.96,1371.72 1230.86,1372.72 1234.75,1373.68 1238.65,1374.6 1242.54,1375.48 \n",
       "  1246.44,1376.31 1250.34,1377.1 1254.23,1377.85 1258.13,1378.56 1262.02,1379.23 1265.92,1379.85 1269.82,1380.44 1273.71,1380.98 1277.61,1381.48 1281.5,1381.94 \n",
       "  1285.4,1382.36 1289.3,1382.73 1293.19,1383.07 1297.09,1383.36 1300.98,1383.61 1304.88,1383.82 1308.77,1383.98 1312.67,1384.11 1316.57,1384.19 1320.46,1384.23 \n",
       "  1324.36,1384.23 1328.25,1384.19 1332.15,1384.11 1336.05,1383.98 1339.94,1383.82 1343.84,1383.61 1347.73,1383.36 1351.63,1383.07 1355.53,1382.73 1359.42,1382.36 \n",
       "  1363.32,1381.94 1367.21,1381.48 1371.11,1380.98 1375,1380.44 1378.9,1379.85 1382.8,1379.23 1386.69,1378.56 1390.59,1377.85 1394.48,1377.1 1398.38,1376.31 \n",
       "  1402.28,1375.48 1406.17,1374.6 1410.07,1373.68 1413.96,1372.72 1417.86,1371.72 1421.76,1370.68 1425.65,1369.59 1429.55,1368.47 1433.44,1367.3 1437.34,1366.09 \n",
       "  1441.24,1364.84 1445.13,1363.55 1449.03,1362.21 1452.92,1360.84 1456.82,1359.42 1460.71,1357.96 1464.61,1356.46 1468.51,1354.91 1472.4,1353.33 1476.3,1351.7 \n",
       "  1480.19,1350.04 1484.09,1348.33 1487.99,1346.57 1491.88,1344.78 1495.78,1342.95 1499.67,1341.07 1503.57,1339.15 1507.47,1337.19 1511.36,1335.19 1515.26,1333.15 \n",
       "  1519.15,1331.06 1523.05,1328.93 1526.94,1326.76 1530.84,1324.55 1534.74,1322.3 1538.63,1320.01 1542.53,1317.67 1546.42,1315.3 1550.32,1312.88 1554.22,1310.42 \n",
       "  1558.11,1307.91 1562.01,1305.37 1565.9,1302.78 1569.8,1300.16 1573.7,1297.49 1577.59,1294.78 1581.49,1292.02 1585.38,1289.23 1589.28,1286.39 1593.17,1283.52 \n",
       "  1597.07,1280.6 1600.97,1277.64 1604.86,1274.63 1608.76,1271.59 1612.65,1268.5 1616.55,1265.38 1620.45,1262.21 1624.34,1258.99 1628.24,1255.74 1632.13,1252.45 \n",
       "  1636.03,1249.11 1639.93,1245.73 1643.82,1242.31 1647.72,1238.85 1651.61,1235.35 1655.51,1231.8 1659.4,1228.22 1663.3,1224.59 1667.2,1220.92 1671.09,1217.21 \n",
       "  1674.99,1213.45 1678.88,1209.66 1682.78,1205.82 1686.68,1201.94 1690.57,1198.02 1694.47,1194.06 1698.36,1190.06 1702.26,1186.01 1706.16,1181.93 1710.05,1177.8 \n",
       "  1713.95,1173.63 1717.84,1169.41 1721.74,1165.16 1725.63,1160.86 1729.53,1156.53 1733.43,1152.15 1737.32,1147.73 1741.22,1143.27 1745.11,1138.76 1749.01,1134.22 \n",
       "  1752.91,1129.63 1756.8,1125 1760.7,1120.33 1764.59,1115.62 1768.49,1110.86 1772.39,1106.07 1776.28,1101.23 1780.18,1096.35 1784.07,1091.43 1787.97,1086.46 \n",
       "  1791.86,1081.46 1795.76,1076.41 1799.66,1071.33 1803.55,1066.2 1807.45,1061.02 1811.34,1055.81 1815.24,1050.56 1819.14,1045.26 1823.03,1039.92 1826.93,1034.54 \n",
       "  1830.82,1029.12 1834.72,1023.66 1838.62,1018.15 1842.51,1012.61 1846.41,1007.02 1850.3,1001.39 1854.2,995.715 1858.1,990.002 1861.99,984.247 1865.89,978.45 \n",
       "  1869.78,972.611 1873.68,966.731 1877.57,960.809 1881.47,954.845 1885.37,948.84 1889.26,942.793 1893.16,936.704 1897.05,930.573 1900.95,924.401 1904.85,918.187 \n",
       "  1908.74,911.931 1912.64,905.634 1916.53,899.295 1920.43,892.914 1924.33,886.492 1928.22,880.028 1932.12,873.522 1936.01,866.974 1939.91,860.385 1943.8,853.754 \n",
       "  1947.7,847.081 1951.6,840.367 1955.49,833.611 1959.39,826.813 1963.28,819.973 1967.18,813.092 1971.08,806.169 1974.97,799.205 1978.87,792.198 1982.76,785.15 \n",
       "  1986.66,778.061 1990.56,770.929 1994.45,763.756 1998.35,756.541 2002.24,749.285 2006.14,741.986 2010.03,734.646 2013.93,727.265 2017.83,719.841 2021.72,712.376 \n",
       "  2025.62,704.869 2029.51,697.321 2033.41,689.731 2037.31,682.099 2041.2,674.425 2045.1,666.71 2048.99,658.953 2052.89,651.154 2056.79,643.314 2060.68,635.432 \n",
       "  2064.58,627.508 2068.47,619.542 2072.37,611.535 2076.26,603.486 2080.16,595.396 2084.06,587.263 2087.95,579.089 2091.85,570.873 2095.74,562.616 2099.64,554.317 \n",
       "  2103.54,545.976 2107.43,537.593 2111.33,529.169 2115.22,520.703 2119.12,512.195 2123.02,503.646 2126.91,495.055 2130.81,486.422 2134.7,477.748 2138.6,469.031 \n",
       "  2142.49,460.274 2146.39,451.474 2150.29,442.633 2154.18,433.75 2158.08,424.825 2161.97,415.858 2165.87,406.85 2169.77,397.8 2173.66,388.709 2177.56,379.576 \n",
       "  2181.45,370.401 2185.35,361.184 2189.25,351.926 2193.14,342.626 2197.04,333.284 2200.93,323.9 2204.83,314.475 2208.72,305.008 2212.62,295.5 2216.52,285.949 \n",
       "  2220.41,276.357 2224.31,266.724 2228.2,257.048 2232.1,247.331 2236,237.572 2239.89,227.772 2243.79,217.93 2247.68,208.046 2251.58,198.12 2255.48,188.153 \n",
       "  2259.37,178.144 2263.27,168.093 2267.16,158.001 2271.06,147.866 2274.96,137.691 2278.85,127.473 2282.75,117.214 2286.64,106.913 2290.54,96.5701 2294.43,86.1857 \n",
       "  \n",
       "  \"/>\n",
       "<circle clip-path=\"url(#clip902)\" cx=\"1322.41\" cy=\"1384.24\" r=\"21\" fill=\"#ff0000\" fill-rule=\"evenodd\" fill-opacity=\"1\" stroke=\"#000000\" stroke-opacity=\"1\" stroke-width=\"3.2\"/>\n",
       "<path clip-path=\"url(#clip900)\" d=\"\n",
       "M1345.85 274.549 L2284.07 274.549 L2284.07 93.1086 L1345.85 93.1086  Z\n",
       "  \" fill=\"#ffffff\" fill-rule=\"evenodd\" fill-opacity=\"1\"/>\n",
       "<polyline clip-path=\"url(#clip900)\" style=\"stroke:#000000; stroke-width:4; stroke-opacity:1; fill:none\" points=\"\n",
       "  1345.85,274.549 2284.07,274.549 2284.07,93.1086 1345.85,93.1086 1345.85,274.549 \n",
       "  \"/>\n",
       "<polyline clip-path=\"url(#clip900)\" style=\"stroke:#0000ff; stroke-width:4; stroke-opacity:1; fill:none\" points=\"\n",
       "  1368.74,153.589 1506.12,153.589 \n",
       "  \"/>\n",
       "<path clip-path=\"url(#clip900)\" d=\"M 0 0 M1533.69 140.151 L1533.69 153.137 L1539.57 153.137 Q1542.84 153.137 1544.62 151.447 Q1546.4 149.758 1546.4 146.633 Q1546.4 143.531 1544.62 141.841 Q1542.84 140.151 1539.57 140.151 L1533.69 140.151 M1529.02 136.309 L1539.57 136.309 Q1545.38 136.309 1548.35 138.947 Q1551.33 141.563 1551.33 146.633 Q1551.33 151.748 1548.35 154.364 Q1545.38 156.98 1539.57 156.98 L1533.69 156.98 L1533.69 170.869 L1529.02 170.869 L1529.02 136.309 Z\" fill=\"#000000\" fill-rule=\"evenodd\" fill-opacity=\"1\" /><path clip-path=\"url(#clip900)\" d=\"M 0 0 M1564.16 147.929 Q1560.73 147.929 1558.74 150.614 Q1556.75 153.276 1556.75 157.929 Q1556.75 162.582 1558.72 165.267 Q1560.71 167.929 1564.16 167.929 Q1567.56 167.929 1569.55 165.244 Q1571.54 162.558 1571.54 157.929 Q1571.54 153.322 1569.55 150.637 Q1567.56 147.929 1564.16 147.929 M1564.16 144.318 Q1569.71 144.318 1572.88 147.929 Q1576.05 151.54 1576.05 157.929 Q1576.05 164.295 1572.88 167.929 Q1569.71 171.54 1564.16 171.54 Q1558.58 171.54 1555.41 167.929 Q1552.26 164.295 1552.26 157.929 Q1552.26 151.54 1555.41 147.929 Q1558.58 144.318 1564.16 144.318 Z\" fill=\"#000000\" fill-rule=\"evenodd\" fill-opacity=\"1\" /><path clip-path=\"url(#clip900)\" d=\"M 0 0 M1584.73 137.582 L1584.73 144.943 L1593.51 144.943 L1593.51 148.253 L1584.73 148.253 L1584.73 162.327 Q1584.73 165.498 1585.59 166.401 Q1586.47 167.304 1589.13 167.304 L1593.51 167.304 L1593.51 170.869 L1589.13 170.869 Q1584.2 170.869 1582.33 169.04 Q1580.45 167.188 1580.45 162.327 L1580.45 148.253 L1577.33 148.253 L1577.33 144.943 L1580.45 144.943 L1580.45 137.582 L1584.73 137.582 Z\" fill=\"#000000\" fill-rule=\"evenodd\" fill-opacity=\"1\" /><path clip-path=\"url(#clip900)\" d=\"M 0 0 M1620.15 156.841 L1620.15 158.924 L1600.57 158.924 Q1600.85 163.322 1603.21 165.637 Q1605.59 167.929 1609.83 167.929 Q1612.28 167.929 1614.57 167.327 Q1616.89 166.725 1619.16 165.521 L1619.16 169.549 Q1616.86 170.521 1614.46 171.031 Q1612.05 171.54 1609.57 171.54 Q1603.37 171.54 1599.73 167.929 Q1596.12 164.318 1596.12 158.16 Q1596.12 151.795 1599.55 148.068 Q1603 144.318 1608.83 144.318 Q1614.06 144.318 1617.1 147.697 Q1620.15 151.054 1620.15 156.841 M1615.89 155.591 Q1615.85 152.096 1613.92 150.012 Q1612.03 147.929 1608.88 147.929 Q1605.31 147.929 1603.16 149.943 Q1601.03 151.957 1600.71 155.614 L1615.89 155.591 Z\" fill=\"#000000\" fill-rule=\"evenodd\" fill-opacity=\"1\" /><path clip-path=\"url(#clip900)\" d=\"M 0 0 M1646.17 155.221 L1646.17 170.869 L1641.91 170.869 L1641.91 155.359 Q1641.91 151.679 1640.48 149.85 Q1639.04 148.022 1636.17 148.022 Q1632.72 148.022 1630.73 150.221 Q1628.74 152.42 1628.74 156.216 L1628.74 170.869 L1624.46 170.869 L1624.46 144.943 L1628.74 144.943 L1628.74 148.971 Q1630.27 146.633 1632.33 145.475 Q1634.41 144.318 1637.12 144.318 Q1641.59 144.318 1643.88 147.096 Q1646.17 149.85 1646.17 155.221 Z\" fill=\"#000000\" fill-rule=\"evenodd\" fill-opacity=\"1\" /><path clip-path=\"url(#clip900)\" d=\"M 0 0 M1654.85 137.582 L1654.85 144.943 L1663.62 144.943 L1663.62 148.253 L1654.85 148.253 L1654.85 162.327 Q1654.85 165.498 1655.71 166.401 Q1656.59 167.304 1659.25 167.304 L1663.62 167.304 L1663.62 170.869 L1659.25 170.869 Q1654.32 170.869 1652.44 169.04 Q1650.57 167.188 1650.57 162.327 L1650.57 148.253 L1647.44 148.253 L1647.44 144.943 L1650.57 144.943 L1650.57 137.582 L1654.85 137.582 Z\" fill=\"#000000\" fill-rule=\"evenodd\" fill-opacity=\"1\" /><path clip-path=\"url(#clip900)\" d=\"M 0 0 M1668.09 144.943 L1672.35 144.943 L1672.35 170.869 L1668.09 170.869 L1668.09 144.943 M1668.09 134.85 L1672.35 134.85 L1672.35 140.244 L1668.09 140.244 L1668.09 134.85 Z\" fill=\"#000000\" fill-rule=\"evenodd\" fill-opacity=\"1\" /><path clip-path=\"url(#clip900)\" d=\"M 0 0 M1688.6 157.836 Q1683.44 157.836 1681.45 159.017 Q1679.46 160.197 1679.46 163.045 Q1679.46 165.313 1680.94 166.656 Q1682.44 167.975 1685.01 167.975 Q1688.55 167.975 1690.68 165.475 Q1692.84 162.952 1692.84 158.785 L1692.84 157.836 L1688.6 157.836 M1697.1 156.077 L1697.1 170.869 L1692.84 170.869 L1692.84 166.933 Q1691.38 169.295 1689.2 170.429 Q1687.03 171.54 1683.88 171.54 Q1679.9 171.54 1677.54 169.318 Q1675.2 167.072 1675.2 163.322 Q1675.2 158.947 1678.11 156.725 Q1681.05 154.503 1686.86 154.503 L1692.84 154.503 L1692.84 154.086 Q1692.84 151.147 1690.89 149.549 Q1688.97 147.929 1685.48 147.929 Q1683.25 147.929 1681.15 148.461 Q1679.04 148.994 1677.1 150.059 L1677.1 146.123 Q1679.43 145.221 1681.63 144.781 Q1683.83 144.318 1685.91 144.318 Q1691.54 144.318 1694.32 147.234 Q1697.1 150.151 1697.1 156.077 Z\" fill=\"#000000\" fill-rule=\"evenodd\" fill-opacity=\"1\" /><path clip-path=\"url(#clip900)\" d=\"M 0 0 M1701.56 134.85 L1705.82 134.85 L1705.82 170.869 L1701.56 170.869 L1701.56 134.85 Z\" fill=\"#000000\" fill-rule=\"evenodd\" fill-opacity=\"1\" /><path clip-path=\"url(#clip900)\" d=\"M 0 0 M1747.53 156.841 L1747.53 158.924 L1727.95 158.924 Q1728.23 163.322 1730.59 165.637 Q1732.97 167.929 1737.21 167.929 Q1739.66 167.929 1741.96 167.327 Q1744.27 166.725 1746.54 165.521 L1746.54 169.549 Q1744.25 170.521 1741.84 171.031 Q1739.43 171.54 1736.96 171.54 Q1730.75 171.54 1727.12 167.929 Q1723.51 164.318 1723.51 158.16 Q1723.51 151.795 1726.93 148.068 Q1730.38 144.318 1736.22 144.318 Q1741.45 144.318 1744.48 147.697 Q1747.53 151.054 1747.53 156.841 M1743.28 155.591 Q1743.23 152.096 1741.31 150.012 Q1739.41 147.929 1736.26 147.929 Q1732.7 147.929 1730.54 149.943 Q1728.41 151.957 1728.09 155.614 L1743.28 155.591 Z\" fill=\"#000000\" fill-rule=\"evenodd\" fill-opacity=\"1\" /><path clip-path=\"url(#clip900)\" d=\"M 0 0 M1773.55 155.221 L1773.55 170.869 L1769.29 170.869 L1769.29 155.359 Q1769.29 151.679 1767.86 149.85 Q1766.42 148.022 1763.55 148.022 Q1760.1 148.022 1758.11 150.221 Q1756.12 152.42 1756.12 156.216 L1756.12 170.869 L1751.84 170.869 L1751.84 144.943 L1756.12 144.943 L1756.12 148.971 Q1757.65 146.633 1759.71 145.475 Q1761.79 144.318 1764.5 144.318 Q1768.97 144.318 1771.26 147.096 Q1773.55 149.85 1773.55 155.221 Z\" fill=\"#000000\" fill-rule=\"evenodd\" fill-opacity=\"1\" /><path clip-path=\"url(#clip900)\" d=\"M 0 0 M1800.2 156.841 L1800.2 158.924 L1780.61 158.924 Q1780.89 163.322 1783.25 165.637 Q1785.64 167.929 1789.87 167.929 Q1792.33 167.929 1794.62 167.327 Q1796.93 166.725 1799.2 165.521 L1799.2 169.549 Q1796.91 170.521 1794.5 171.031 Q1792.09 171.54 1789.62 171.54 Q1783.41 171.54 1779.78 167.929 Q1776.17 164.318 1776.17 158.16 Q1776.17 151.795 1779.59 148.068 Q1783.04 144.318 1788.88 144.318 Q1794.11 144.318 1797.14 147.697 Q1800.2 151.054 1800.2 156.841 M1795.94 155.591 Q1795.89 152.096 1793.97 150.012 Q1792.07 147.929 1788.92 147.929 Q1785.36 147.929 1783.21 149.943 Q1781.08 151.957 1780.75 155.614 L1795.94 155.591 Z\" fill=\"#000000\" fill-rule=\"evenodd\" fill-opacity=\"1\" /><path clip-path=\"url(#clip900)\" d=\"M 0 0 M1819.69 148.924 Q1818.97 148.508 1818.11 148.322 Q1817.28 148.114 1816.26 148.114 Q1812.65 148.114 1810.71 150.475 Q1808.78 152.813 1808.78 157.211 L1808.78 170.869 L1804.5 170.869 L1804.5 144.943 L1808.78 144.943 L1808.78 148.971 Q1810.13 146.609 1812.28 145.475 Q1814.43 144.318 1817.51 144.318 Q1817.95 144.318 1818.48 144.387 Q1819.02 144.434 1819.66 144.549 L1819.69 148.924 Z\" fill=\"#000000\" fill-rule=\"evenodd\" fill-opacity=\"1\" /><path clip-path=\"url(#clip900)\" d=\"M 0 0 M1840.38 157.605 Q1840.38 152.975 1838.46 150.429 Q1836.56 147.883 1833.11 147.883 Q1829.69 147.883 1827.77 150.429 Q1825.87 152.975 1825.87 157.605 Q1825.87 162.211 1827.77 164.758 Q1829.69 167.304 1833.11 167.304 Q1836.56 167.304 1838.46 164.758 Q1840.38 162.211 1840.38 157.605 M1844.64 167.651 Q1844.64 174.271 1841.7 177.489 Q1838.76 180.73 1832.7 180.73 Q1830.45 180.73 1828.46 180.382 Q1826.47 180.058 1824.59 179.364 L1824.59 175.22 Q1826.47 176.239 1828.3 176.725 Q1830.13 177.211 1832.03 177.211 Q1836.22 177.211 1838.3 175.012 Q1840.38 172.836 1840.38 168.415 L1840.38 166.308 Q1839.06 168.6 1837 169.734 Q1834.94 170.869 1832.07 170.869 Q1827.3 170.869 1824.39 167.234 Q1821.47 163.6 1821.47 157.605 Q1821.47 151.586 1824.39 147.952 Q1827.3 144.318 1832.07 144.318 Q1834.94 144.318 1837 145.452 Q1839.06 146.586 1840.38 148.878 L1840.38 144.943 L1844.64 144.943 L1844.64 167.651 Z\" fill=\"#000000\" fill-rule=\"evenodd\" fill-opacity=\"1\" /><path clip-path=\"url(#clip900)\" d=\"M 0 0 M1859.9 173.276 Q1858.09 177.906 1856.38 179.318 Q1854.66 180.73 1851.79 180.73 L1848.39 180.73 L1848.39 177.165 L1850.89 177.165 Q1852.65 177.165 1853.62 176.332 Q1854.59 175.498 1855.78 172.396 L1856.54 170.452 L1846.05 144.943 L1850.57 144.943 L1858.67 165.221 L1866.77 144.943 L1871.28 144.943 L1859.9 173.276 Z\" fill=\"#000000\" fill-rule=\"evenodd\" fill-opacity=\"1\" /><path clip-path=\"url(#clip900)\" d=\"M 0 0 M1887.77 144.943 L1892.28 144.943 L1900.38 166.702 L1908.48 144.943 L1913 144.943 L1903.27 170.869 L1897.49 170.869 L1887.77 144.943 Z\" fill=\"#000000\" fill-rule=\"evenodd\" fill-opacity=\"1\" /><path clip-path=\"url(#clip900)\" d=\"M 0 0 M1933.99 145.707 L1933.99 149.734 Q1932.19 148.809 1930.24 148.346 Q1928.3 147.883 1926.21 147.883 Q1923.04 147.883 1921.45 148.855 Q1919.87 149.827 1919.87 151.771 Q1919.87 153.253 1921.01 154.109 Q1922.14 154.943 1925.57 155.707 L1927.02 156.031 Q1931.56 157.003 1933.46 158.785 Q1935.38 160.545 1935.38 163.716 Q1935.38 167.327 1932.51 169.433 Q1929.66 171.54 1924.66 171.54 Q1922.58 171.54 1920.31 171.123 Q1918.07 170.73 1915.57 169.92 L1915.57 165.521 Q1917.93 166.748 1920.22 167.373 Q1922.51 167.975 1924.76 167.975 Q1927.77 167.975 1929.39 166.957 Q1931.01 165.915 1931.01 164.04 Q1931.01 162.304 1929.83 161.378 Q1928.67 160.452 1924.71 159.596 L1923.23 159.248 Q1919.27 158.415 1917.51 156.702 Q1915.75 154.966 1915.75 151.957 Q1915.75 148.299 1918.34 146.309 Q1920.94 144.318 1925.71 144.318 Q1928.07 144.318 1930.15 144.665 Q1932.23 145.012 1933.99 145.707 Z\" fill=\"#000000\" fill-rule=\"evenodd\" fill-opacity=\"1\" /><path clip-path=\"url(#clip900)\" d=\"M 0 0 M1959.78 140.151 L1959.78 167.026 L1965.43 167.026 Q1972.58 167.026 1975.89 163.785 Q1979.22 160.545 1979.22 153.554 Q1979.22 146.609 1975.89 143.392 Q1972.58 140.151 1965.43 140.151 L1959.78 140.151 M1955.1 136.309 L1964.71 136.309 Q1974.76 136.309 1979.46 140.498 Q1984.15 144.665 1984.15 153.554 Q1984.15 162.489 1979.43 166.679 Q1974.71 170.869 1964.71 170.869 L1955.1 170.869 L1955.1 136.309 Z\" fill=\"#000000\" fill-rule=\"evenodd\" fill-opacity=\"1\" /><path clip-path=\"url(#clip900)\" d=\"M 0 0 M1988.62 144.943 L1992.88 144.943 L1992.88 170.869 L1988.62 170.869 L1988.62 144.943 M1988.62 134.85 L1992.88 134.85 L1992.88 140.244 L1988.62 140.244 L1988.62 134.85 Z\" fill=\"#000000\" fill-rule=\"evenodd\" fill-opacity=\"1\" /><path clip-path=\"url(#clip900)\" d=\"M 0 0 M2013.88 145.707 L2013.88 149.734 Q2012.07 148.809 2010.13 148.346 Q2008.18 147.883 2006.1 147.883 Q2002.93 147.883 2001.33 148.855 Q1999.76 149.827 1999.76 151.771 Q1999.76 153.253 2000.89 154.109 Q2002.02 154.943 2005.45 155.707 L2006.91 156.031 Q2011.45 157.003 2013.34 158.785 Q2015.27 160.545 2015.27 163.716 Q2015.27 167.327 2012.39 169.433 Q2009.55 171.54 2004.55 171.54 Q2002.46 171.54 2000.2 171.123 Q1997.95 170.73 1995.45 169.92 L1995.45 165.521 Q1997.81 166.748 2000.1 167.373 Q2002.39 167.975 2004.64 167.975 Q2007.65 167.975 2009.27 166.957 Q2010.89 165.915 2010.89 164.04 Q2010.89 162.304 2009.71 161.378 Q2008.55 160.452 2004.59 159.596 L2003.11 159.248 Q1999.15 158.415 1997.39 156.702 Q1995.64 154.966 1995.64 151.957 Q1995.64 148.299 1998.23 146.309 Q2000.82 144.318 2005.59 144.318 Q2007.95 144.318 2010.03 144.665 Q2012.12 145.012 2013.88 145.707 Z\" fill=\"#000000\" fill-rule=\"evenodd\" fill-opacity=\"1\" /><path clip-path=\"url(#clip900)\" d=\"M 0 0 M2023.85 166.98 L2023.85 180.73 L2019.57 180.73 L2019.57 144.943 L2023.85 144.943 L2023.85 148.878 Q2025.2 146.563 2027.23 145.452 Q2029.29 144.318 2032.14 144.318 Q2036.86 144.318 2039.8 148.068 Q2042.76 151.818 2042.76 157.929 Q2042.76 164.04 2039.8 167.79 Q2036.86 171.54 2032.14 171.54 Q2029.29 171.54 2027.23 170.429 Q2025.2 169.295 2023.85 166.98 M2038.34 157.929 Q2038.34 153.23 2036.4 150.568 Q2034.48 147.883 2031.1 147.883 Q2027.72 147.883 2025.77 150.568 Q2023.85 153.23 2023.85 157.929 Q2023.85 162.628 2025.77 165.313 Q2027.72 167.975 2031.1 167.975 Q2034.48 167.975 2036.4 165.313 Q2038.34 162.628 2038.34 157.929 Z\" fill=\"#000000\" fill-rule=\"evenodd\" fill-opacity=\"1\" /><path clip-path=\"url(#clip900)\" d=\"M 0 0 M2047.23 134.85 L2051.49 134.85 L2051.49 170.869 L2047.23 170.869 L2047.23 134.85 Z\" fill=\"#000000\" fill-rule=\"evenodd\" fill-opacity=\"1\" /><path clip-path=\"url(#clip900)\" d=\"M 0 0 M2067.74 157.836 Q2062.58 157.836 2060.59 159.017 Q2058.6 160.197 2058.6 163.045 Q2058.6 165.313 2060.08 166.656 Q2061.58 167.975 2064.15 167.975 Q2067.7 167.975 2069.82 165.475 Q2071.98 162.952 2071.98 158.785 L2071.98 157.836 L2067.74 157.836 M2076.24 156.077 L2076.24 170.869 L2071.98 170.869 L2071.98 166.933 Q2070.52 169.295 2068.34 170.429 Q2066.17 171.54 2063.02 171.54 Q2059.04 171.54 2056.68 169.318 Q2054.34 167.072 2054.34 163.322 Q2054.34 158.947 2057.26 156.725 Q2060.2 154.503 2066.01 154.503 L2071.98 154.503 L2071.98 154.086 Q2071.98 151.147 2070.03 149.549 Q2068.11 147.929 2064.62 147.929 Q2062.39 147.929 2060.29 148.461 Q2058.18 148.994 2056.24 150.059 L2056.24 146.123 Q2058.57 145.221 2060.77 144.781 Q2062.97 144.318 2065.06 144.318 Q2070.68 144.318 2073.46 147.234 Q2076.24 150.151 2076.24 156.077 Z\" fill=\"#000000\" fill-rule=\"evenodd\" fill-opacity=\"1\" /><path clip-path=\"url(#clip900)\" d=\"M 0 0 M2099.36 145.938 L2099.36 149.92 Q2097.56 148.924 2095.73 148.438 Q2093.92 147.929 2092.07 147.929 Q2087.93 147.929 2085.64 150.568 Q2083.34 153.184 2083.34 157.929 Q2083.34 162.674 2085.64 165.313 Q2087.93 167.929 2092.07 167.929 Q2093.92 167.929 2095.73 167.443 Q2097.56 166.933 2099.36 165.938 L2099.36 169.873 Q2097.58 170.707 2095.66 171.123 Q2093.76 171.54 2091.61 171.54 Q2085.75 171.54 2082.3 167.859 Q2078.85 164.179 2078.85 157.929 Q2078.85 151.586 2082.32 147.952 Q2085.82 144.318 2091.88 144.318 Q2093.85 144.318 2095.73 144.735 Q2097.6 145.128 2099.36 145.938 Z\" fill=\"#000000\" fill-rule=\"evenodd\" fill-opacity=\"1\" /><path clip-path=\"url(#clip900)\" d=\"M 0 0 M2126.01 156.841 L2126.01 158.924 L2106.42 158.924 Q2106.7 163.322 2109.06 165.637 Q2111.45 167.929 2115.68 167.929 Q2118.13 167.929 2120.43 167.327 Q2122.74 166.725 2125.01 165.521 L2125.01 169.549 Q2122.72 170.521 2120.31 171.031 Q2117.9 171.54 2115.43 171.54 Q2109.22 171.54 2105.59 167.929 Q2101.98 164.318 2101.98 158.16 Q2101.98 151.795 2105.4 148.068 Q2108.85 144.318 2114.69 144.318 Q2119.92 144.318 2122.95 147.697 Q2126.01 151.054 2126.01 156.841 M2121.75 155.591 Q2121.7 152.096 2119.78 150.012 Q2117.88 147.929 2114.73 147.929 Q2111.17 147.929 2109.01 149.943 Q2106.88 151.957 2106.56 155.614 L2121.75 155.591 Z\" fill=\"#000000\" fill-rule=\"evenodd\" fill-opacity=\"1\" /><path clip-path=\"url(#clip900)\" d=\"M 0 0 M2150.66 149.92 Q2152.26 147.049 2154.48 145.684 Q2156.7 144.318 2159.71 144.318 Q2163.76 144.318 2165.96 147.165 Q2168.16 149.989 2168.16 155.221 L2168.16 170.869 L2163.88 170.869 L2163.88 155.359 Q2163.88 151.633 2162.56 149.827 Q2161.24 148.022 2158.53 148.022 Q2155.22 148.022 2153.3 150.221 Q2151.38 152.42 2151.38 156.216 L2151.38 170.869 L2147.09 170.869 L2147.09 155.359 Q2147.09 151.609 2145.77 149.827 Q2144.45 148.022 2141.7 148.022 Q2138.44 148.022 2136.51 150.244 Q2134.59 152.443 2134.59 156.216 L2134.59 170.869 L2130.31 170.869 L2130.31 144.943 L2134.59 144.943 L2134.59 148.971 Q2136.05 146.586 2138.09 145.452 Q2140.13 144.318 2142.93 144.318 Q2145.75 144.318 2147.72 145.753 Q2149.71 147.188 2150.66 149.92 Z\" fill=\"#000000\" fill-rule=\"evenodd\" fill-opacity=\"1\" /><path clip-path=\"url(#clip900)\" d=\"M 0 0 M2194.8 156.841 L2194.8 158.924 L2175.22 158.924 Q2175.5 163.322 2177.86 165.637 Q2180.24 167.929 2184.48 167.929 Q2186.93 167.929 2189.22 167.327 Q2191.54 166.725 2193.81 165.521 L2193.81 169.549 Q2191.51 170.521 2189.11 171.031 Q2186.7 171.54 2184.22 171.54 Q2178.02 171.54 2174.38 167.929 Q2170.77 164.318 2170.77 158.16 Q2170.77 151.795 2174.2 148.068 Q2177.65 144.318 2183.48 144.318 Q2188.71 144.318 2191.75 147.697 Q2194.8 151.054 2194.8 156.841 M2190.54 155.591 Q2190.5 152.096 2188.57 150.012 Q2186.68 147.929 2183.53 147.929 Q2179.96 147.929 2177.81 149.943 Q2175.68 151.957 2175.36 155.614 L2190.54 155.591 Z\" fill=\"#000000\" fill-rule=\"evenodd\" fill-opacity=\"1\" /><path clip-path=\"url(#clip900)\" d=\"M 0 0 M2220.82 155.221 L2220.82 170.869 L2216.56 170.869 L2216.56 155.359 Q2216.56 151.679 2215.13 149.85 Q2213.69 148.022 2210.82 148.022 Q2207.37 148.022 2205.38 150.221 Q2203.39 152.42 2203.39 156.216 L2203.39 170.869 L2199.11 170.869 L2199.11 144.943 L2203.39 144.943 L2203.39 148.971 Q2204.92 146.633 2206.98 145.475 Q2209.06 144.318 2211.77 144.318 Q2216.24 144.318 2218.53 147.096 Q2220.82 149.85 2220.82 155.221 Z\" fill=\"#000000\" fill-rule=\"evenodd\" fill-opacity=\"1\" /><path clip-path=\"url(#clip900)\" d=\"M 0 0 M2229.5 137.582 L2229.5 144.943 L2238.27 144.943 L2238.27 148.253 L2229.5 148.253 L2229.5 162.327 Q2229.5 165.498 2230.36 166.401 Q2231.24 167.304 2233.9 167.304 L2238.27 167.304 L2238.27 170.869 L2233.9 170.869 Q2228.97 170.869 2227.09 169.04 Q2225.22 167.188 2225.22 162.327 L2225.22 148.253 L2222.09 148.253 L2222.09 144.943 L2225.22 144.943 L2225.22 137.582 L2229.5 137.582 Z\" fill=\"#000000\" fill-rule=\"evenodd\" fill-opacity=\"1\" /><circle clip-path=\"url(#clip900)\" cx=\"1437.43\" cy=\"214.069\" r=\"23\" fill=\"#ff0000\" fill-rule=\"evenodd\" fill-opacity=\"1\" stroke=\"#000000\" stroke-opacity=\"1\" stroke-width=\"3.41333\"/>\n",
       "<path clip-path=\"url(#clip900)\" d=\"M 0 0 M1529.02 196.789 L1535.99 196.789 L1544.8 220.307 L1553.67 196.789 L1560.64 196.789 L1560.64 231.349 L1556.08 231.349 L1556.08 201.002 L1547.17 224.705 L1542.47 224.705 L1533.55 201.002 L1533.55 231.349 L1529.02 231.349 L1529.02 196.789 Z\" fill=\"#000000\" fill-rule=\"evenodd\" fill-opacity=\"1\" /><path clip-path=\"url(#clip900)\" d=\"M 0 0 M1565.11 205.423 L1569.36 205.423 L1569.36 231.349 L1565.11 231.349 L1565.11 205.423 M1565.11 195.33 L1569.36 195.33 L1569.36 200.724 L1565.11 200.724 L1565.11 195.33 Z\" fill=\"#000000\" fill-rule=\"evenodd\" fill-opacity=\"1\" /><path clip-path=\"url(#clip900)\" d=\"M 0 0 M1595.38 215.701 L1595.38 231.349 L1591.12 231.349 L1591.12 215.839 Q1591.12 212.159 1589.69 210.33 Q1588.25 208.502 1585.38 208.502 Q1581.93 208.502 1579.94 210.701 Q1577.95 212.9 1577.95 216.696 L1577.95 231.349 L1573.67 231.349 L1573.67 205.423 L1577.95 205.423 L1577.95 209.451 Q1579.48 207.113 1581.54 205.955 Q1583.62 204.798 1586.33 204.798 Q1590.8 204.798 1593.09 207.576 Q1595.38 210.33 1595.38 215.701 Z\" fill=\"#000000\" fill-rule=\"evenodd\" fill-opacity=\"1\" /><path clip-path=\"url(#clip900)\" d=\"M 0 0 M1599.85 205.423 L1604.11 205.423 L1604.11 231.349 L1599.85 231.349 L1599.85 205.423 M1599.85 195.33 L1604.11 195.33 L1604.11 200.724 L1599.85 200.724 L1599.85 195.33 Z\" fill=\"#000000\" fill-rule=\"evenodd\" fill-opacity=\"1\" /><path clip-path=\"url(#clip900)\" d=\"M 0 0 M1628.76 210.4 Q1630.36 207.529 1632.58 206.164 Q1634.8 204.798 1637.81 204.798 Q1641.86 204.798 1644.06 207.645 Q1646.26 210.469 1646.26 215.701 L1646.26 231.349 L1641.98 231.349 L1641.98 215.839 Q1641.98 212.113 1640.66 210.307 Q1639.34 208.502 1636.63 208.502 Q1633.32 208.502 1631.4 210.701 Q1629.48 212.9 1629.48 216.696 L1629.48 231.349 L1625.2 231.349 L1625.2 215.839 Q1625.2 212.089 1623.88 210.307 Q1622.56 208.502 1619.8 208.502 Q1616.54 208.502 1614.62 210.724 Q1612.7 212.923 1612.7 216.696 L1612.7 231.349 L1608.42 231.349 L1608.42 205.423 L1612.7 205.423 L1612.7 209.451 Q1614.16 207.066 1616.19 205.932 Q1618.23 204.798 1621.03 204.798 Q1623.86 204.798 1625.82 206.233 Q1627.81 207.668 1628.76 210.4 Z\" fill=\"#000000\" fill-rule=\"evenodd\" fill-opacity=\"1\" /><path clip-path=\"url(#clip900)\" d=\"M 0 0 M1650.29 221.117 L1650.29 205.423 L1654.55 205.423 L1654.55 220.955 Q1654.55 224.636 1655.98 226.488 Q1657.42 228.316 1660.29 228.316 Q1663.74 228.316 1665.73 226.117 Q1667.74 223.918 1667.74 220.122 L1667.74 205.423 L1672 205.423 L1672 231.349 L1667.74 231.349 L1667.74 227.367 Q1666.19 229.728 1664.13 230.886 Q1662.1 232.02 1659.39 232.02 Q1654.92 232.02 1652.6 229.242 Q1650.29 226.464 1650.29 221.117 M1661.01 204.798 L1661.01 204.798 Z\" fill=\"#000000\" fill-rule=\"evenodd\" fill-opacity=\"1\" /><path clip-path=\"url(#clip900)\" d=\"M 0 0 M1696.66 210.4 Q1698.25 207.529 1700.48 206.164 Q1702.7 204.798 1705.71 204.798 Q1709.76 204.798 1711.96 207.645 Q1714.16 210.469 1714.16 215.701 L1714.16 231.349 L1709.87 231.349 L1709.87 215.839 Q1709.87 212.113 1708.55 210.307 Q1707.23 208.502 1704.53 208.502 Q1701.22 208.502 1699.29 210.701 Q1697.37 212.9 1697.37 216.696 L1697.37 231.349 L1693.09 231.349 L1693.09 215.839 Q1693.09 212.089 1691.77 210.307 Q1690.45 208.502 1687.7 208.502 Q1684.43 208.502 1682.51 210.724 Q1680.59 212.923 1680.59 216.696 L1680.59 231.349 L1676.31 231.349 L1676.31 205.423 L1680.59 205.423 L1680.59 209.451 Q1682.05 207.066 1684.09 205.932 Q1686.12 204.798 1688.92 204.798 Q1691.75 204.798 1693.72 206.233 Q1695.71 207.668 1696.66 210.4 Z\" fill=\"#000000\" fill-rule=\"evenodd\" fill-opacity=\"1\" /></svg>\n"
      ]
     },
     "execution_count": 50,
     "metadata": {},
     "output_type": "execute_result"
    }
   ],
   "source": [
    "# Create plot variables\n",
    "k=12.5; \n",
    "F=500.0; \n",
    "uMin=F/k; \n",
    "pMin=0.5*k*uMin^2-F*uMin;\n",
    "u=range(uMin-50,stop=uMin+50,length=500); #Displacements\n",
    "p=0.5*k*u.^2-F*u; \n",
    "\n",
    "# Visualize graph\n",
    "#plots() # use the PyPlot.jl backend\n",
    "plot(u,p,linewidth=2,xlabel=\"u\",ylabel=\"P\",color=\"blue\",label=\"Potential energy vs Displacement\") #Plot graph\n",
    "scatter!([uMin],[pMin],markersize=6, c=:red,label=\"Minimum\") #Plot graph"
   ]
  },
  {
   "cell_type": "markdown",
   "metadata": {
    "slideshow": {
     "slide_type": "slide"
    }
   },
   "source": [
    "### Deriving stiffness matrices using the potential energy approach\n",
    "Recall the two node spring system:  \n",
    "![spring image](spring_2Node.png)   \n",
    "Recalling $f_{1x}=k(u_1-u_2)$, and $f_{2x}=k(u_2-u_1)$, the potential energy $\\Pi=\\frac{1}{2}ku^2-Fu$ can be written: \n",
    "$$\\Pi=\\frac{1}{2}k(u_2-u_1)^2-f_{1x}u_1-f_{2x}u_2=\\frac{1}{2}k(u_2^2-2u_1u_2+u_1^2)-f_{1x}u_1-f_{2x}u_2$$"
   ]
  },
  {
   "cell_type": "markdown",
   "metadata": {
    "slideshow": {
     "slide_type": "fragment"
    }
   },
   "source": [
    "to minimize this expression partial derivatives with the displacement components are computed and set to 0:   \n",
    "\n",
    "$$\\frac{\\partial\\Pi}{\\partial u_1}=\\frac{1}{2}k(-2u_2+2u_1)-f_{x1}=k(u_1-u_2)-f_{x1}=0$$ \n",
    "$$\\frac{\\partial\\Pi}{\\partial u_2}=\\frac{1}{2}k(-2u_1+2u_2)-f_{x2}=k(u_2-u_1)-f_{x2}=0$$"
   ]
  },
  {
   "cell_type": "markdown",
   "metadata": {
    "slideshow": {
     "slide_type": "fragment"
    }
   },
   "source": [
    "Which after simplification provides:\n",
    "$$\\frac{\\partial\\Pi}{\\partial u_1}=k(u_1-u_2)-f_{x1}=0$$\n",
    "$$\\frac{\\partial\\Pi}{\\partial u_2}=k(u_2-u_1)-f_{x2}=0$$"
   ]
  },
  {
   "cell_type": "markdown",
   "metadata": {
    "slideshow": {
     "slide_type": "slide"
    }
   },
   "source": [
    "Leading us to the familiar notation for the force components at node 1 and 2:\n",
    "$$f_{1x}=k(u_1-u_2)$$\n",
    "$$f_{2x}=k(u_2-u_1)$$\n",
    "Which once again can be expressed in matrix form as:\n",
    "$$\\begin{Bmatrix} f_{1x} \\\\ f_{2x} \\end{Bmatrix}=\\begin{bmatrix} k & -k \\\\ -k & k\\end{bmatrix}\\begin{Bmatrix} u_1 \\\\ u_2\\end{Bmatrix}$$"
   ]
  },
  {
   "cell_type": "markdown",
   "metadata": {
    "slideshow": {
     "slide_type": "slide"
    }
   },
   "source": [
    "## Example: Deriving stiffness matrices using the potential energy approach\n",
    "\n",
    "Consider the three spring system below \\*:   \n",
    "![spring image](springSet_3.png)   \n",
    "The system consists of 3 spring \"elements\" and 4 nodes. Node 1 and 4 are constrained from moving. A force of 25 kN is applied to node 3 in the positive x-direction. The spring stiffnesses are:    \n",
    "\n",
    "$k_1=200$, $k_2=400$, and $k_3=600$\n",
    "        \n",
    "\\*Based on example 2.5 of: Daryl Logan, _\"A First Course in the Finite Element Methods\"_ (page 64 in the 6th edition, page 63 in the 5th edition)   \n"
   ]
  },
  {
   "cell_type": "markdown",
   "metadata": {
    "slideshow": {
     "slide_type": "slide"
    }
   },
   "source": [
    "Which, expressed in matrix form become:   \n",
    "$$\\Lambda^{(1)}=\\frac{1}{2}\\begin{Bmatrix} u_1 \\\\ u_2 \\end{Bmatrix}^\\top\\begin{bmatrix} k_1 & -k_1 \\\\ -k_1 & k_1 \\end{bmatrix}\\begin{Bmatrix} u_1 \\\\ u_2 \\end{Bmatrix} \\textrm{,} \\quad \\Lambda^{(2)}=\\frac{1}{2}\\begin{Bmatrix} u_2 \\\\ u_3 \\end{Bmatrix}^\\top\\begin{bmatrix} k_2 & -k_2 \\\\ -k_2 & k_2 \\end{bmatrix}\\begin{Bmatrix} u_2 \\\\ u_3 \\end{Bmatrix} \\textrm{,} \\quad \\Lambda^{(3)}=\\frac{1}{2}\\begin{Bmatrix} u_3 \\\\ u_4 \\end{Bmatrix}^\\top\\begin{bmatrix} k_3 & -k_3 \\\\ -k_3 & k_3 \\end{bmatrix}\\begin{Bmatrix} u_3 \\\\ u_4 \\end{Bmatrix}$$\n",
    "Note that due to the use of the tranpose operation the matrix products yield scalar energy contributions.   \n"
   ]
  },
  {
   "cell_type": "markdown",
   "metadata": {
    "slideshow": {
     "slide_type": "fragment"
    }
   },
   "source": [
    "In short notation we may write: \n",
    "$$\\Lambda^{(i)}=\\frac{1}{2}\\begin{Bmatrix} u^{(i)} \\end{Bmatrix}^\\top\\begin{bmatrix} K^{(i)} \\end{bmatrix}\\begin{Bmatrix} u^{(i)} \\end{Bmatrix}$$\n",
    "Leading to the total strain energy: \n",
    "$$\\Lambda=\\sum_{i=1}^{3} \\Lambda^{(i)}=\\frac{1}{2}\\begin{Bmatrix} u \\end{Bmatrix}^\\top\\begin{bmatrix} K \\end{bmatrix}\\begin{Bmatrix} u \\end{Bmatrix}$$"
   ]
  },
  {
   "cell_type": "markdown",
   "metadata": {
    "slideshow": {
     "slide_type": "slide"
    }
   },
   "source": [
    "### External work contributions in matrix form\n",
    "$$W=\\sum_{i=1}^{4}F_{ix}u_i=\\begin{Bmatrix} u_1 \\\\ u_2 \\\\ u_3 \\\\ u_4 \\end{Bmatrix}^\\top\\begin{Bmatrix} F_{1} \\\\ F_{2} \\\\ F_{3} \\\\ F_{4} \\end{Bmatrix}=\\begin{Bmatrix} u \\end{Bmatrix}^\\top\\begin{Bmatrix} F \\end{Bmatrix}$$"
   ]
  },
  {
   "cell_type": "markdown",
   "metadata": {
    "slideshow": {
     "slide_type": "slide"
    }
   },
   "source": [
    "### Potential energy in matrix form\n",
    "$$\\Pi=\\Lambda-W$$\n",
    "Using:\n",
    "$$W=\\begin{Bmatrix} u \\end{Bmatrix}^\\top\\begin{Bmatrix} F \\end{Bmatrix}$$\n",
    "and\n",
    "$$\\Lambda=\\sum_{i=1}^{3} \\Lambda^{(i)}=\\frac{1}{2}\\begin{Bmatrix} u \\end{Bmatrix}^\\top\\begin{bmatrix} K \\end{bmatrix}\\begin{Bmatrix} u \\end{Bmatrix}$$\n",
    "we obtain:\n",
    "$$\\Pi=\\frac{1}{2}\\begin{Bmatrix} u \\end{Bmatrix}^\\top\\begin{bmatrix} K \\end{bmatrix}\\begin{Bmatrix} u \\end{Bmatrix}-\\begin{Bmatrix} u \\end{Bmatrix}^\\top\\begin{Bmatrix} F \\end{Bmatrix}$$\n",
    "Minimisation through partial derivatives with $\\begin{Bmatrix} u \\end{Bmatrix}$ gives:\n",
    "$$\\frac{\\partial\\Pi}{\\partial \\begin{Bmatrix} u \\end{Bmatrix}}=\\begin{bmatrix} K \\end{bmatrix}\\begin{Bmatrix} u \\end{Bmatrix}-\\begin{Bmatrix} F \\end{Bmatrix}=0$$\n",
    "Leading to the familiar expression:\n",
    "$$\\begin{Bmatrix} F \\end{Bmatrix}=\\begin{bmatrix} K \\end{bmatrix}\\begin{Bmatrix} u \\end{Bmatrix}$$\n"
   ]
  },
  {
   "cell_type": "markdown",
   "metadata": {
    "slideshow": {
     "slide_type": "slide"
    }
   },
   "source": [
    "### Potential energy in matrix form\n",
    "$$\\Pi=\\frac{1}{2}\\begin{Bmatrix} u \\end{Bmatrix}^\\top\\begin{bmatrix} K \\end{bmatrix}\\begin{Bmatrix} u \\end{Bmatrix}-\\begin{Bmatrix} u \\end{Bmatrix}^\\top\\begin{Bmatrix} F \\end{Bmatrix}=\\sum_{i=1}^{3} \\Pi^{(i)}$$\n",
    "\n",
    "$$\\Pi=\\overbrace{\\bigg[\\frac{1}{2}k_1(u_1^2-2u_1u_2+u_2^2)-F_{1}u_1\\bigg]}^{\\Pi^{(1)}}+\\overbrace{\\bigg[\\frac{1}{2}k_2(u_2^2-2u_2u_3+u_3^2)-F_{2}u_2\\bigg]}^{\\Pi^{(2)}}+\\overbrace{\\bigg[\\frac{1}{2}k_3(u_3^2-2u_3u_4+u_4^2)-F_{3}u_3\\bigg]}^{\\Pi^{(3)}}$$"
   ]
  },
  {
   "cell_type": "markdown",
   "metadata": {
    "slideshow": {
     "slide_type": "fragment"
    }
   },
   "source": [
    "Minimisation using the partial derivatives:\n",
    "$$\\frac{\\partial\\Pi}{\\partial u_1}=k_1u_1-k_1u_2-F_{1}=k_1(u_1-u_2)-F_{1}=0$$\n",
    "$$\\frac{\\partial\\Pi}{\\partial u_2}=-k_1u_1+k_1u_2+k_2u_2-k_2u_3-F_{2}=k_1(u_2-u_1)+k_2(u_2-u_3)-F_{2}=0$$\n",
    "$$\\frac{\\partial\\Pi}{\\partial u_3}=-k_2u_2+k_2u_3+k_3u_3-k_3u_4-F_{3}=k_2(u_3-u_2)+k_3(u_3-u_4)-F_{3}=0$$\n",
    "$$\\frac{\\partial\\Pi}{\\partial u_4}=-k_3u_3+k_3u_4-F_{4}=k_3(u_4-u_3)-F_{4}=0$$\n",
    "Which can be cast in matrix form as: \n",
    "$$\\begin{Bmatrix} F_1 \\\\ F_2 \\\\ F_3 \\\\ F_4 \\end{Bmatrix}=\\begin{bmatrix} k_1 & -k_1 & 0 & 0 \\\\ -k_1 & k_1+k_2 & -k_2 & 0  \\\\ 0 & -k_2 & k_2+k_3 & -k_3 \\\\ 0 & 0 & -k_3 & k_3 \\end{bmatrix}\\begin{Bmatrix} u_1 \\\\ u_2 \\\\ u_3 \\\\ u_4 \\end{Bmatrix}$$"
   ]
  },
  {
   "cell_type": "markdown",
   "metadata": {
    "slideshow": {
     "slide_type": "slide"
    }
   },
   "source": [
    "## Summary\n",
    "* The key finite element equation:\n",
    "$$\\begin{Bmatrix} F\\end{Bmatrix}=\\begin{bmatrix} K \\end{bmatrix}\\begin{Bmatrix} u\\end{Bmatrix}$$\n",
    "* There are three main types of methods to do so:   \n",
    "    * The **direct** (equilibrium) method   \n",
    "        * Simple, intuitive\n",
    "        * 1D problems\n",
    "        $$\\begin{Bmatrix} f_{1x} \\\\ f_{2x} \\end{Bmatrix}=\\begin{bmatrix} k & -k \\\\ -k & k\\end{bmatrix}\\begin{Bmatrix} u_1 \\\\ u_2\\end{Bmatrix}$$\n",
    "        $$K=\\sum_{i=1}^{3} K^{(i)}$$\n",
    "\n",
    "    * **Variational** methods\n",
    "        * More general\n",
    "        * Requires existance of a functional to minimize\n",
    "        $$\\Pi=\\frac{1}{2}\\begin{Bmatrix} u \\end{Bmatrix}^\\top\\begin{bmatrix} K \\end{bmatrix}\\begin{Bmatrix} u \\end{Bmatrix}-\\begin{Bmatrix} u \\end{Bmatrix}^\\top\\begin{Bmatrix} F \\end{Bmatrix}$$\n"
   ]
  },
  {
   "cell_type": "markdown",
   "metadata": {
    "slideshow": {
     "slide_type": "skip"
    }
   },
   "source": [
    "\\newpage"
   ]
  },
  {
   "cell_type": "markdown",
   "metadata": {
    "slideshow": {
     "slide_type": "skip"
    }
   },
   "source": [
    "**About this document**  \n",
    "This document was created using a [Jupyter notebook](https://jupyter.org/) which allows for the presentation of theory and equations, as well as live (running code) numerical implementations. \n",
    "\n",
    "The Jupyter notebook used here features the [Julia](https://julialang.org/) programming language. If you are interested in running this Jupyter notebook yourself [download](https://julialang.org/downloads/) and [install](https://julialang.org/downloads/platform/) Julia and install [the Jupyter environment](https://jupyter.org/install). Once julia is installed open the command interface (REPL) for Julia and add the \"interactive julia\" package by running: \n",
    "\n",
    "```julia\n",
    "Pkg.add(\"IJulia\")\n",
    "```\n",
    "To run Jupyter call `jupyter notebook` from your Terminal/Command Prompt. "
   ]
  }
 ],
 "metadata": {
  "@webio": {
   "lastCommId": null,
   "lastKernelId": null
  },
  "celltoolbar": "Slideshow",
  "kernelspec": {
   "display_name": "Julia 1.5.0",
   "language": "julia",
   "name": "julia-1.5"
  },
  "language_info": {
   "file_extension": ".jl",
   "mimetype": "application/julia",
   "name": "julia",
   "version": "1.5.1"
  },
  "rise": {
   "enable_chalkboard": true,
   "scroll": true
  }
 },
 "nbformat": 4,
 "nbformat_minor": 2
}
