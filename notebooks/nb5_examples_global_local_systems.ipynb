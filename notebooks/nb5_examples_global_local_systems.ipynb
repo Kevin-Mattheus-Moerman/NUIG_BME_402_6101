{
 "cells": [
  {
   "cell_type": "markdown",
   "metadata": {
    "slideshow": {
     "slide_type": "slide"
    }
   },
   "source": [
    "  \n",
    "[**Dr. Kevin M. Moerman**](mailto:kevin.moerman@nuigalway.ie), _Lecturer in Biomedical Engineering_   \n",
    "\n",
    "National University of Ireland Galway.   \n",
    "\n",
    "---"
   ]
  },
  {
   "cell_type": "markdown",
   "metadata": {
    "slideshow": {
     "slide_type": "slide"
    }
   },
   "source": [
    "This content is derived from a Jupyter notebook. Jupyter notebooks are a great way to combine teaching of theory and numerical implementation side-by-side and in an interactive manor.\n",
    "\n",
    "* To run the Jupyter notebooks and to interact with the code uses should set-up Jupyter. Note that doing so is not a requirement for this course. All contant can be understood and studied without using the live code functionality. Students wishing to \"skip\" the codes can do so and focus on the theoretical content instead. \n",
    "* One way to set-up Jupyter is to install the Conda Python environment (https://www.anaconda.com/distribution/), which comes with Jupyter. See also instructions here: https://jupyter.org/\n",
    "* For Octave (MATLAB syntax) notebooks users need to install Octave: https://www.gnu.org/software/octave/\n",
    "* For Julia notebooks users could install Julia (https://julialang.org/) or use JuliaBox to run to notebooks directly in a browser (https://www.juliabox.com/). \n",
    "* The source for this notebook is found here: GitHub source: [https://github.com/Kevin-Mattheus-Moerman/NUIG_BME_402_6101](https://github.com/Kevin-Mattheus-Moerman/NUIG_BME_402_6101)\n"
   ]
  },
  {
   "cell_type": "markdown",
   "metadata": {
    "slideshow": {
     "slide_type": "slide"
    }
   },
   "source": [
    "# The truss element in a LOCAL coordinate system\n",
    "The example below shows a single truss, with a force on either end, in a **local** coordinate system.   \n",
    "![spring](truss2.png)  \n",
    "\n",
    "* The nodal forces:   \n",
    "\n",
    "$$f_{1}=-T=\\frac{AE}{L}(u_1-u_2)$$   \n",
    "$$f_{2}=T=\\frac{AE}{L}(u_2-u_1)$$  \n",
    "\n",
    "* Expressed in matrix form:\n",
    "$$\\begin{Bmatrix} f \\end{Bmatrix}=\\begin{Bmatrix} f_{1} \\\\ f_{2} \\end{Bmatrix}=\\frac{AE}{L}\\begin{bmatrix} 1 & -1 \\\\ -1 & 1\\end{bmatrix}\\begin{Bmatrix} u_1 \\\\ u_2\\end{Bmatrix}$$"
   ]
  },
  {
   "cell_type": "markdown",
   "metadata": {
    "slideshow": {
     "slide_type": "slide"
    }
   },
   "source": [
    "# The truss element in a GLOBAL coordinate system\n",
    "The example below shows a single truss, with a force on either end, in a **global** coordinate system. Local quantities will have their usual notation, global quantities will have a superscript $0$. Next we will explore how to convert the local system to the global system. \n",
    "![truss](truss2_3D.png)  \n"
   ]
  },
  {
   "cell_type": "markdown",
   "metadata": {
    "slideshow": {
     "slide_type": "slide"
    }
   },
   "source": [
    "## Step1: Express quantities as 2D vectors\n",
    "![truss](truss2_2D_01.png)  \n",
    "\n",
    "* Expand scalar forces and displacements to vectors by adding y-components (all zero in local system) \n",
    "\n",
    "$$\\mathbf{f_{1}}=\\frac{AE}{L}(\\mathbf{u1}-\\mathbf{u2})$$  \n",
    "$$\\mathbf{f_{2}}=\\frac{AE}{L}(\\mathbf{u2}-\\mathbf{u1})$$  \n",
    "\n",
    "with: $\\mathbf{f_{1}}=\\begin{bmatrix} f_{1x} \\\\ f_{1y}\\end{bmatrix}=\\begin{bmatrix} -T_{x} \\\\ 0 \\end{bmatrix}$, $\\mathbf{f_{2}}=\\begin{bmatrix} f_{2x} \\\\ f_{2y}\\end{bmatrix}=\\begin{bmatrix} T_{x} \\\\ 0 \\end{bmatrix}$, $\\mathbf{u_{1}}=\\begin{bmatrix} u_{1x} \\\\ u_{1y}\\end{bmatrix}$, $\\mathbf{u_{2}}=\\begin{bmatrix} u_{2x} \\\\ u_{2y}\\end{bmatrix}$  \n"
   ]
  },
  {
   "cell_type": "markdown",
   "metadata": {
    "slideshow": {
     "slide_type": "slide"
    }
   },
   "source": [
    "* The 1D truss element equation\n",
    "$$\\begin{Bmatrix} f \\end{Bmatrix}=\\begin{Bmatrix} f_{1} \\\\ f_{2} \\end{Bmatrix}=\\frac{AE}{L}\\begin{bmatrix} 1 & -1 \\\\ -1 & 1\\end{bmatrix}\\begin{Bmatrix} u_1 \\\\ u_2\\end{Bmatrix}$$\n",
    "\n",
    ", can then be rewritten:\n",
    "$$\\begin{Bmatrix} f \\end{Bmatrix}=\\begin{Bmatrix} \\mathbf{f_{1}} \\\\ \\mathbf{f_{2}} \\end{Bmatrix} =\\begin{Bmatrix} f_{1x} \\\\ f_{1y} \\\\ f_{2x} \\\\ f_{2y} \\end{Bmatrix}=\\frac{AE}{L}\\begin{bmatrix} 1 & 0  & -1 & 0 \\\\ 0 & 0 & 0 & 0 \\\\ -1 & 0 & 1 & 0 \\\\ 0 & 0 & 0 & 0\\end{bmatrix}\\begin{Bmatrix} u1_{x} \\\\ u1_{y} \\\\ u2_{x} \\\\ u2_{y} \\end{Bmatrix}$$  \n",
    "\n",
    "* The added zeros stem from the fact that the local y-components are all zero for a truss (1D element)"
   ]
  },
  {
   "cell_type": "markdown",
   "metadata": {
    "slideshow": {
     "slide_type": "slide"
    }
   },
   "source": [
    "## Step2: Transformation of the 2D local equations to the 2D global system\n",
    "### Transforming vector and tensor quantities\n",
    "* Define a transformation matrix, in this case a rotation tensor ($l$ and $m$ named \"direction cosines\")\n",
    "$$\\boldsymbol{\\xi}=\\begin{bmatrix} \\cos(\\alpha) & -\\sin(\\alpha) \\\\ \\sin(\\alpha) & \\cos(\\alpha)\\end{bmatrix}=\\begin{bmatrix} l & -m \\\\ m & l\\end{bmatrix}$$ "
   ]
  },
  {
   "cell_type": "markdown",
   "metadata": {
    "slideshow": {
     "slide_type": "fragment"
    }
   },
   "source": [
    "* Allowing one to transform **vector** and **tensor** quantities in the **local** system to the **global** system \n",
    "$$\\mathbf{f_{i}^0}=\\boldsymbol{\\xi}\\mathbf{f_{i}}$$\n",
    "$$\\mathbf{u_{i}^0}=\\boldsymbol{\\xi}\\mathbf{u_{i}}$$\n",
    "$$\\boldsymbol{\\sigma^0}=\\boldsymbol{\\xi}\\boldsymbol{\\sigma}\\boldsymbol{\\xi}^\\top$$\n"
   ]
  },
  {
   "cell_type": "markdown",
   "metadata": {
    "slideshow": {
     "slide_type": "fragment"
    }
   },
   "source": [
    "* Inverse of $\\boldsymbol{\\xi}$ which is $\\boldsymbol{\\xi}^{-1}=\\boldsymbol{\\xi}^\\top$ enables inverse mapping   \n",
    "$$\\mathbf{f_{i}}=\\boldsymbol{\\xi}^\\top \\mathbf{f_{i}^0}$$\n",
    "$$\\mathbf{u_{i}}=\\boldsymbol{\\xi}^\\top \\mathbf{u_{i}^0}$$\n",
    "$$\\boldsymbol{\\sigma}=\\boldsymbol{\\xi}^\\top\\boldsymbol{\\sigma^0}\\boldsymbol{\\xi}$$\n"
   ]
  },
  {
   "cell_type": "markdown",
   "metadata": {
    "slideshow": {
     "slide_type": "fragment"
    }
   },
   "source": [
    "* Note that the rotation tensor can be chosen to define the local-to-global tranformation OR the global-to-local transformation. This is simly a choice of convention. \n",
    "    * If $\\boldsymbol{\\xi}$ is for a local-to-global tranformation then $\\boldsymbol{\\xi}^\\top$ enables the global-to-local tranformation. \n",
    "    * If $\\boldsymbol{\\xi}$ is for a global-to-local tranformation then $\\boldsymbol{\\xi}^\\top$ enables the local-to-global tranformation instead.  "
   ]
  },
  {
   "cell_type": "markdown",
   "metadata": {
    "slideshow": {
     "slide_type": "slide"
    }
   },
   "source": [
    "### Transforming array or matrix quantities\n",
    "* For the force, displacement **arrays**, and stiffness **matrix** a dedicated transformation matrix $\\begin{bmatrix} \\lambda \\end{bmatrix}$ is required:  \n",
    "$$\\begin{bmatrix} \\lambda \\end{bmatrix}=\\begin{bmatrix} \\boldsymbol{\\xi} & \\mathbf{0} \\\\ \\mathbf{0} & \\boldsymbol{\\xi} \\end{bmatrix}=\\begin{bmatrix} \\cos(\\alpha) & -\\sin(\\alpha) & 0 & 0 \\\\ \\sin(\\alpha) & \\cos(\\alpha) & 0 & 0 \\\\ 0 & 0 & \\cos(\\alpha) & -\\sin(\\alpha) \\\\ 0 & 0 & \\sin(\\alpha) & \\cos(\\alpha) \\end{bmatrix}=\\begin{bmatrix} l & -m & 0 & 0 \\\\ m & l & 0 & 0 \\\\ 0 & 0 & l & -m \\\\ 0 & 0 & m & l \\end{bmatrix}$$"
   ]
  },
  {
   "cell_type": "markdown",
   "metadata": {
    "slideshow": {
     "slide_type": "slide"
    }
   },
   "source": [
    "* Allowing one to transform **matrix** or **array** quantities from the local to the global system\n",
    "$$\\begin{Bmatrix} f^0 \\end{Bmatrix}=\\begin{bmatrix} \\lambda \\end{bmatrix} \\begin{Bmatrix} f \\end{Bmatrix}$$\n",
    "$$\\begin{Bmatrix} u^0 \\end{Bmatrix}=\\begin{bmatrix} \\lambda \\end{bmatrix} \\begin{Bmatrix} u \\end{Bmatrix}$$\n",
    "$$\\begin{bmatrix} K^0 \\end{bmatrix}=\\begin{bmatrix} \\lambda \\end{bmatrix} \\begin{bmatrix} K \\end{bmatrix}\\begin{bmatrix} \\lambda \\end{bmatrix}^\\top$$\n",
    "* The inverse of $\\begin{bmatrix} \\lambda \\end{bmatrix}$ which is $\\begin{bmatrix} \\lambda \\end{bmatrix}^{-1}=\\begin{bmatrix} \\lambda \\end{bmatrix}^\\top$ enables the inverse mapping \n",
    "$$\\begin{Bmatrix} f \\end{Bmatrix}=\\begin{bmatrix} \\lambda \\end{bmatrix}^\\top \\begin{Bmatrix} f^0 \\end{Bmatrix}$$\n",
    "$$\\begin{Bmatrix} u \\end{Bmatrix}=\\begin{bmatrix} \\lambda \\end{bmatrix}^\\top \\begin{Bmatrix} u^0 \\end{Bmatrix}$$\n",
    "$$\\begin{bmatrix} K \\end{bmatrix}=\\begin{bmatrix} \\lambda \\end{bmatrix}^\\top \\begin{bmatrix} K^0 \\end{bmatrix}\\begin{bmatrix} \\lambda \\end{bmatrix}$$"
   ]
  },
  {
   "cell_type": "markdown",
   "metadata": {
    "slideshow": {
     "slide_type": "fragment"
    }
   },
   "source": [
    "* Which means the element equations can be formulation in the local or global system\n",
    "$$ \\begin{Bmatrix} f \\end{Bmatrix} = \\begin{bmatrix} K \\end{bmatrix} \\begin{Bmatrix} u \\end{Bmatrix} \\rightarrow  \\begin{Bmatrix} f^0 \\end{Bmatrix} = \\begin{bmatrix} K^0 \\end{bmatrix} \\begin{Bmatrix} u^0 \\end{Bmatrix} $$"
   ]
  },
  {
   "cell_type": "markdown",
   "metadata": {
    "slideshow": {
     "slide_type": "slide"
    }
   },
   "source": [
    "#### Transforming the force arrays to the global coordinate system\n",
    "* The element force array in the global system is derived from multiplication with $\\begin{bmatrix} \\lambda \\end{bmatrix}$:   \n",
    "$$\\begin{Bmatrix} f^0 \\end{Bmatrix}=\\begin{Bmatrix} f^0_{1x} \\\\ f^0_{1y} \\\\ f^0_{2x} \\\\ f^0_{2y} \\end{Bmatrix}=\\begin{bmatrix} \\cos(\\alpha) & -\\sin(\\alpha) & 0 & 0 \\\\ \\sin(\\alpha) & \\cos(\\alpha) & 0 & 0 \\\\ 0 & 0 & \\cos(\\alpha) & -\\sin(\\alpha) \\\\ 0 & 0 & \\sin(\\alpha) & \\cos(\\alpha) \\end{bmatrix}\\begin{Bmatrix} -T \\\\ 0 \\\\ T \\\\ 0 \\end{Bmatrix}=\\begin{Bmatrix} -T \\cos(\\alpha) \\\\ -T \\sin(\\alpha) \\\\ T \\cos(\\alpha) \\\\ T \\sin(\\alpha) \\end{Bmatrix}$$   \n",
    "   \n",
    "   \n",
    "* If the \"direction cosines\" are given the symbols $l=\\cos(\\alpha)$ and $m=\\sin(\\alpha)$ this can be written as:   \n",
    "$$\\begin{Bmatrix} f^0 \\end{Bmatrix}=\\begin{Bmatrix} f^0_{1x} \\\\ f^0_{1y} \\\\ f^0_{2x} \\\\ f^0_{2y} \\end{Bmatrix}=\\begin{bmatrix} l & -m & 0 & 0 \\\\ m & l & 0 & 0 \\\\ 0 & 0 & l & -m \\\\ 0 & 0 & m & l \\end{bmatrix}\\begin{Bmatrix} -T \\\\ 0 \\\\ T \\\\ 0 \\end{Bmatrix}=\\begin{Bmatrix} -T l \\\\ -T m \\\\ T l \\\\ T m \\end{Bmatrix} $$   "
   ]
  },
  {
   "cell_type": "markdown",
   "metadata": {
    "slideshow": {
     "slide_type": "slide"
    }
   },
   "source": [
    "#### Transforming the displacement arrays to the global coordinate system\n",
    "* The element displacement array in the global system is derived from multiplication with $\\begin{bmatrix} \\lambda \\end{bmatrix}$:   \n",
    "$$\\begin{Bmatrix} u^0 \\end{Bmatrix}=\\begin{Bmatrix} u^0_{1x} \\\\ u^0_{1y} \\\\ u^0_{2x} \\\\ u^0_{2y} \\end{Bmatrix}=\\begin{bmatrix} \\cos(\\alpha) & -\\sin(\\alpha) & 0 & 0 \\\\ \\sin(\\alpha) & \\cos(\\alpha) & 0 & 0 \\\\ 0 & 0 & \\cos(\\alpha) & -\\sin(\\alpha) \\\\ 0 & 0 & \\sin(\\alpha) & \\cos(\\alpha) \\end{bmatrix}\\begin{Bmatrix} u_{1x} \\\\ 0 \\\\ u_{2x} \\\\ 0 \\end{Bmatrix}=\\begin{Bmatrix} u_{1x} \\cos(\\alpha) \\\\ u_{1x} \\sin(\\alpha) \\\\ u_{2x} \\cos(\\alpha) \\\\ u_{2x} \\sin(\\alpha) \\end{Bmatrix}$$   \n",
    "   \n",
    "   \n",
    "* If the \"direction cosines\" are given the symbols $l=\\cos(\\alpha)$ and $m=\\sin(\\alpha)$ this can be written as:   \n",
    "$$\\begin{Bmatrix} u^0 \\end{Bmatrix}=\\begin{Bmatrix} u^0_{1x} \\\\ u^0_{1y} \\\\ u^0_{2x} \\\\ u^0_{2y} \\end{Bmatrix}=\\begin{bmatrix} l & -m & 0 & 0 \\\\ m & l & 0 & 0 \\\\ 0 & 0 & l & -m \\\\ 0 & 0 & m & l \\end{bmatrix}\\begin{Bmatrix} u_{1x} \\\\ 0 \\\\ u_{2x} \\\\ 0 \\end{Bmatrix}=\\begin{Bmatrix} u_{1x} l \\\\ u_{1x} m \\\\ u_{2x} l \\\\ u_{2x} m \\end{Bmatrix} $$   "
   ]
  },
  {
   "cell_type": "markdown",
   "metadata": {
    "slideshow": {
     "slide_type": "slide"
    }
   },
   "source": [
    "#### Transforming the stiffness arrays to the global coordinate system\n",
    "* The element stiffness array in the global system is derived from pre- and post rotation with $\\begin{bmatrix} \\lambda \\end{bmatrix}$:   \n",
    "$$\\begin{bmatrix} K^0 \\end{bmatrix}=\\begin{bmatrix} \\cos(\\alpha) & -\\sin(\\alpha) & 0 & 0 \\\\ \\sin(\\alpha) & \\cos(\\alpha) & 0 & 0 \\\\ 0 & 0 & \\cos(\\alpha) & -\\sin(\\alpha) \\\\ 0 & 0 & \\sin(\\alpha) & \\cos(\\alpha) \\end{bmatrix} \\frac{AE}{L}\\begin{bmatrix} 1 & 0  & -1 & 0 \\\\ 0 & 0 & 0 & 0 \\\\ -1 & 0 & 1 & 0 \\\\ 0 & 0 & 0 & 0\\end{bmatrix} \\begin{bmatrix} \\cos(\\alpha) & \\sin(\\alpha) & 0 & 0 \\\\ -\\sin(\\alpha) & \\cos(\\alpha) & 0 & 0 \\\\ 0 & 0 & \\cos(\\alpha) & \\sin(\\alpha) \\\\ 0 & 0 & -\\sin(\\alpha) & \\cos(\\alpha) \\end{bmatrix}$$   \n",
    "   \n",
    "   \n",
    "* If the \"direction cosines\" are given the symbols $l=\\cos(\\alpha)$ and $m=\\sin(\\alpha)$ this can be written as:   \n",
    "$$\\begin{bmatrix} K^0 \\end{bmatrix}=\\begin{bmatrix} l & -m & 0 & 0 \\\\ m & l & 0 & 0 \\\\ 0 & 0 & l & -m \\\\ 0 & 0 & m & l \\end{bmatrix} \\frac{AE}{L}\\begin{bmatrix} 1 & 0  & -1 & 0 \\\\ 0 & 0 & 0 & 0 \\\\ -1 & 0 & 1 & 0 \\\\ 0 & 0 & 0 & 0\\end{bmatrix} \\begin{bmatrix} l & -m & 0 & 0 \\\\ m & l & 0 & 0 \\\\ 0 & 0 & l & -m \\\\ 0 & 0 & m & l \\end{bmatrix}= \\frac{AE}{L}\\begin{bmatrix}l^2 & lm & -l^2 & -lm \\\\ lm &  m^2 & -lm & -m^2 \\\\ -l^2 & -lm &  l^2 &  lm \\\\ -lm & -m^2 &  lm &  m^2 \\end{bmatrix}$$   \n",
    "\n",
    "\n",
    "*Recall the matrix multiplication rule:* $\\begin{bmatrix}C\\end{bmatrix}=\\begin{bmatrix}A\\end{bmatrix}\\begin{bmatrix}B\\end{bmatrix} \\rightarrow c_{ij}=a_{ik}b_{kj}$ \n",
    "\n"
   ]
  },
  {
   "cell_type": "markdown",
   "metadata": {
    "slideshow": {
     "slide_type": "slide"
    }
   },
   "source": [
    "## The truss in the LOCAL system\n",
    "![truss](truss2_2D_01.png)  \n",
    "\n",
    "* The 2D truss element equation in the local system\n",
    "$$\\begin{Bmatrix} f \\end{Bmatrix}=\\begin{Bmatrix} \\mathbf{f_{1}} \\\\ \\mathbf{f_{2}} \\end{Bmatrix} =\\begin{Bmatrix} f_{1x} \\\\ f_{1y} \\\\ f_{2x} \\\\ f_{2y} \\end{Bmatrix}=\\frac{AE}{L}\\begin{bmatrix} 1 & 0  & -1 & 0 \\\\ 0 & 0 & 0 & 0 \\\\ -1 & 0 & 1 & 0 \\\\ 0 & 0 & 0 & 0\\end{bmatrix}\\begin{Bmatrix} u1_{x} \\\\ u1_{y} \\\\ u2_{x} \\\\ u2_{y} \\end{Bmatrix}$$  \n"
   ]
  },
  {
   "cell_type": "markdown",
   "metadata": {
    "slideshow": {
     "slide_type": "slide"
    }
   },
   "source": [
    "# The truss element in a GLOBAL coordinate system\n",
    "The example below shows a single truss, with a force on either end, in a **global** coordinate system. Local quantities will have their usual notation, global quantities will have a superscript $0$. Next we will explore how to convert the local system to the global system. \n",
    "![truss](truss2_3D.png)  \n",
    "\n",
    "* The truss element equation in the global 2D system\n",
    "$$\\begin{Bmatrix} f^0 \\end{Bmatrix}=\\begin{Bmatrix} \\mathbf{f_{1}^0} \\\\ \\mathbf{f_{2}^0} \\end{Bmatrix} =\\begin{Bmatrix} f_{1x} l \\\\ f_{1x} m \\\\ f_{2x} l \\\\ f_{2x} m \\end{Bmatrix}= \\frac{AE}{L}\\begin{bmatrix}l^2 & lm & -l^2 & -lm \\\\ lm &  m^2 & -lm & -m^2 \\\\ -l^2 & -lm &  l^2 &  lm \\\\ -lm & -m^2 &  lm &  m^2 \\end{bmatrix}\\begin{Bmatrix} u_{1x} l \\\\ u_{1x} m \\\\ u_{2x} l \\\\ u_{2x} m \\end{Bmatrix}$$  \n"
   ]
  },
  {
   "cell_type": "markdown",
   "metadata": {
    "slideshow": {
     "slide_type": "slide"
    }
   },
   "source": [
    "# Generalisation to 3D\n",
    "## Step1: Express quantities as 2D vectors\n",
    "![truss](truss2_3D_01.png)  \n",
    "\n",
    "* Expand scalar forces and displacements to vectors by adding y-components (all zero in local system) \n",
    "\n",
    "$$\\mathbf{f_{1}}=\\frac{AE}{L}(\\mathbf{u1}-\\mathbf{u2})$$  \n",
    "$$\\mathbf{f_{2}}=\\frac{AE}{L}(\\mathbf{u2}-\\mathbf{u1})$$  \n",
    "\n",
    "with: $\\mathbf{f_{1}}=\\begin{bmatrix} f_{1x} \\\\ f_{1y} \\\\ f_{1z}\\end{bmatrix}=\\begin{bmatrix} -T_{x} \\\\ 0 \\\\ 0\\end{bmatrix}$, $\\mathbf{f_{2}}=\\begin{bmatrix} f_{2x} \\\\ f_{2y} \\\\ f_{2z} \\end{bmatrix}=\\begin{bmatrix} T_{x} \\\\ 0 \\\\ 0\\end{bmatrix}$, $\\mathbf{u_{1}}=\\begin{bmatrix} u_{1x} \\\\ u_{1y} \\\\u_{1z}\\end{bmatrix}$, $\\mathbf{u_{2}}=\\begin{bmatrix} u_{2x} \\\\ u_{2y} \\\\ u_{2z}\\end{bmatrix}$  \n"
   ]
  },
  {
   "cell_type": "markdown",
   "metadata": {
    "slideshow": {
     "slide_type": "slide"
    }
   },
   "source": [
    "## Step2: Transformation of the 3D local equations to the 3D global system\n",
    "* So far a single rotation in 2D, around the z-axis, has been shown. \n",
    "* A general rotation in 3D can be defined in multiple ways e.g. using so called [Euler angles](https://en.wikipedia.org/wiki/Euler_angles) or instead using \"yaw, pitch, and roll\" angles (see figure). \n",
    "![angles](Yaw_Axis_Corrected.png)  \n",
    "\n",
    "*See also: [https://en.wikipedia.org/wiki/Euler_angles](https://en.wikipedia.org/wiki/Euler_angles)*"
   ]
  },
  {
   "cell_type": "markdown",
   "metadata": {
    "slideshow": {
     "slide_type": "slide"
    }
   },
   "source": [
    "### Define Euler angles and rotation tensors\n",
    "* A triplet of (Euler) rotation angles ($\\alpha$, $\\beta$, and $\\gamma$) and rotation tensors ($\\boldsymbol{\\xi_x}$, $\\boldsymbol{\\xi_y}$, and $\\boldsymbol{\\xi_z}$) can be created which together define $\\boldsymbol{\\xi}$: \n",
    "\n",
    "$$\\boldsymbol{\\xi}=\\boldsymbol{\\xi_x}\\boldsymbol{\\xi_y}\\boldsymbol{\\xi_z}$$\n",
    "\n",
    "$$\\boldsymbol{\\xi_x}=\\begin{bmatrix} 1 & 0 & 0 \\\\ 0 & \\cos(\\alpha) & -\\sin(\\alpha) \\\\ 0 & \\sin(\\alpha) & \\cos(\\alpha) \\end{bmatrix}$$  \n",
    "\n",
    "$$\\boldsymbol{\\xi_y}=\\begin{bmatrix} \\cos(\\beta) & 0 & \\sin(\\beta) \\\\ 0 & 1 &  0 \\\\ -\\sin(\\beta) & 0 & \\cos(\\beta) \\end{bmatrix}$$  \n",
    "\n",
    "$$\\boldsymbol{\\xi_z}=\\begin{bmatrix} \\cos(\\gamma) & -\\sin(\\gamma) & 0 \\\\ \\sin(\\gamma) & \\cos(\\gamma) & 0 \\\\ 0 & 0 & 1\\end{bmatrix}$$\n",
    "\n",
    "*See also: [https://en.wikipedia.org/wiki/Euler_angles](https://en.wikipedia.org/wiki/Euler_angles)*"
   ]
  },
  {
   "cell_type": "markdown",
   "metadata": {
    "slideshow": {
     "slide_type": "slide"
    }
   },
   "source": [
    "## Derive global element equations\n",
    "![truss](truss2_3D_02.png)  \n",
    "\n",
    "* The truss element equation in the local 3D system\n",
    "$$\\begin{Bmatrix} f \\end{Bmatrix}=\\begin{Bmatrix} \\mathbf{f_{1}} \\\\ \\mathbf{f_{2}} \\end{Bmatrix} =\\begin{Bmatrix} f_{1x} \\\\ f_{1y} \\\\ f_{1z} \\\\ f_{2x} \\\\ f_{2y} \\\\ f_{2z} \\end{Bmatrix}=\\frac{AE}{L}\\begin{bmatrix} 1 & 0  & 0 & -1 & 0 & 0\\\\ 0 & 0 & 0 & 0 & 0 & 0 \\\\ 0 & 0 & 0 & 0 & 0 & 0 \\\\ -1 & 0 & 0 & 1 & 0 & 0 \\\\ 0 & 0 & 0 & 0 & 0 & 0 \\\\ 0 & 0 & 0 & 0 & 0 & 0 \\end{bmatrix}\\begin{Bmatrix} u1_{x} \\\\ u1_{y} \\\\ u1_{z} \\\\ u2_{x} \\\\ u2_{y} \\\\ u2_{z} \\end{Bmatrix}$$  "
   ]
  },
  {
   "cell_type": "markdown",
   "metadata": {
    "slideshow": {
     "slide_type": "slide"
    }
   },
   "source": [
    "### Transforming array or matrix quantities\n",
    "* For the force, displacement **arrays**, and stiffness **matrix** a dedicated transformation matrix $\\begin{bmatrix} \\lambda \\end{bmatrix}$ is required:  \n",
    "\n",
    "$$\\begin{bmatrix} \\lambda \\end{bmatrix}=\\begin{bmatrix} \\boldsymbol{\\xi} & \\mathbf{0} \\\\ \\mathbf{0} & \\boldsymbol{\\xi} \\end{bmatrix}$$\n",
    "\n",
    "* Note that in the above each entry is a 3x3 tensor, the whole matrix is therefore a 6x6 matrix"
   ]
  },
  {
   "cell_type": "markdown",
   "metadata": {
    "slideshow": {
     "slide_type": "slide"
    }
   },
   "source": [
    "# Example: A 2 truss structure in 2D\n",
    "Given the two truss problem below, provide (in the global system) the element equations, the global stiffness matrix, and the finite element equations. \n",
    "\n",
    "![truss_3D](example_3D_truss.png)\n",
    "\n"
   ]
  },
  {
   "cell_type": "markdown",
   "metadata": {
    "slideshow": {
     "slide_type": "slide"
    }
   },
   "source": [
    "## Step 1: Express quantities as 2D vectors and rewrite element equations accordingly\n",
    "\n",
    "$$\\begin{Bmatrix} f^{(i)} \\end{Bmatrix}=\\begin{Bmatrix} \\mathbf{f_{1}}^{(i)} \\\\ \\mathbf{f_{2}}^{(i)} \\end{Bmatrix} =\\begin{Bmatrix} f_{1x}^{(i)} \\\\ f_{1y}^{(i)} \\\\ f_{2x}^{(i)} \\\\ f_{2y}^{(i)} \\end{Bmatrix}=\\frac{A^{(i)}E^{(i)}}{L^{(i)}}\\begin{bmatrix} 1 & 0  & -1 & 0 \\\\ 0 & 0 & 0 & 0 \\\\ -1 & 0 & 1 & 0 \\\\ 0 & 0 & 0 & 0\\end{bmatrix}\\begin{Bmatrix} u1_{x}^{(i)} \\\\ u1_{y}^{(i)} \\\\ u2_{x}^{(i)} \\\\ u2_{y}^{(i)} \\end{Bmatrix}$$ "
   ]
  },
  {
   "cell_type": "markdown",
   "metadata": {
    "slideshow": {
     "slide_type": "slide"
    }
   },
   "source": [
    "## Step2: Transformation of the 2D local equations to the 2D global system\n",
    "### Transforming vector and tensor quantities\n",
    "* Define a transformation matrix, in this case a rotation tensor ($l$ and $m$ named \"direction cosines\")\n",
    "$$\\boldsymbol{\\xi}=\\begin{bmatrix} \\cos(\\alpha) & -\\sin(\\alpha) \\\\ \\sin(\\alpha) & \\cos(\\alpha)\\end{bmatrix}=\\begin{bmatrix} l & -m \\\\ m & l\\end{bmatrix}$$ \n",
    "\n",
    "$$l=\\frac{800}{1000}=0.8 $$ \n",
    "\n",
    "$$m=\\frac{600}{1000}=0.6$$\n"
   ]
  },
  {
   "cell_type": "markdown",
   "metadata": {
    "slideshow": {
     "slide_type": "slide"
    }
   },
   "source": [
    "* For element 1 we have: \n",
    "$$\\begin{Bmatrix} f_{1x}^{(1)} l \\\\ f_{1x}^{(1)} m \\\\ f_{2x}^{(1)} l \\\\ f_{2x}^{(1)} m \\end{Bmatrix}= \\frac{A^{(1)}E^{(1)}}{L^{(1)}}\\begin{bmatrix}l^2 & lm & -l^2 & -lm \\\\ lm &  m^2 & -lm & -m^2 \\\\ -l^2 & -lm &  l^2 &  lm \\\\ -lm & -m^2 &  lm &  m^2 \\end{bmatrix}\\begin{Bmatrix} u_{1x}^{(1)} l \\\\ u_{1x}^{(1)} m \\\\ u_{2x}^{(1)} l \\\\ u_{2x}^{(1)} m \\end{Bmatrix}$$  \n",
    "\n",
    "* For element 2 we have: \n",
    "$$\\begin{Bmatrix} f_{1x}^{(2)} \\\\ f_{1y}^{(2)} \\\\ f_{2x}^{(2)} \\\\ f_{2y}^{(2)} \\end{Bmatrix}=\\frac{A^{(2)}E^{(2)}}{L^{(2)}}\\begin{bmatrix} 1 & 0  & -1 & 0 \\\\ 0 & 0 & 0 & 0 \\\\ -1 & 0 & 1 & 0 \\\\ 0 & 0 & 0 & 0\\end{bmatrix}\\begin{Bmatrix} u1_{x}^{(2)} \\\\ u1_{y}^{(2)} \\\\ u2_{x}^{(2)} \\\\ u2_{y}^{(2)} \\end{Bmatrix}$$  \n"
   ]
  },
  {
   "cell_type": "markdown",
   "metadata": {
    "slideshow": {
     "slide_type": "slide"
    }
   },
   "source": [
    "## Super-position to formulate the global stiffness matrix\n",
    "$$\\begin{bmatrix}K^0 \\end{bmatrix}=\\begin{bmatrix}l^2 & lm & -l^2 & -lm & 0 & 0\\\\ lm &  m^2 & -lm & -m^2 & 0 & 0\\\\ -l^2 & -lm &  l^2+1 &  lm & 1 & 0\\\\ -lm & -m^2 &  lm &  m^2 & 0 & 0 \\\\ 0 & 0 & -1 & 0 & 1 & 0 \\\\ 0 & 0 & 0 & 0 & 0 & 0\\end{bmatrix}$$"
   ]
  },
  {
   "cell_type": "code",
   "execution_count": 21,
   "metadata": {
    "slideshow": {
     "slide_type": "slide"
    }
   },
   "outputs": [
    {
     "data": {
      "text/plain": [
       "4×4 Array{Float64,2}:\n",
       " 0.8  -0.6  0.0   0.0\n",
       " 0.6   0.8  0.0   0.0\n",
       " 0.0   0.0  0.8  -0.6\n",
       " 0.0   0.0  0.6   0.8"
      ]
     },
     "metadata": {},
     "output_type": "display_data"
    },
    {
     "data": {
      "text/plain": [
       "4×4 Array{Int64,2}:\n",
       "  1  0  -1  0\n",
       "  0  0   0  0\n",
       " -1  0   1  0\n",
       "  0  0   0  0"
      ]
     },
     "metadata": {},
     "output_type": "display_data"
    },
    {
     "data": {
      "text/plain": [
       "4×4 Array{Float64,2}:\n",
       "  0.64   0.48  -0.64  -0.48\n",
       "  0.48   0.36  -0.48  -0.36\n",
       " -0.64  -0.48   0.64   0.48\n",
       " -0.48  -0.36   0.48   0.36"
      ]
     },
     "metadata": {},
     "output_type": "display_data"
    },
    {
     "data": {
      "text/plain": [
       "4×4 Array{Float64,2}:\n",
       "  6400.0   4800.0  -6400.0  -4800.0\n",
       "  4800.0   3600.0  -4800.0  -3600.0\n",
       " -6400.0  -4800.0   6400.0   4800.0\n",
       " -4800.0  -3600.0   4800.0   3600.0"
      ]
     },
     "metadata": {},
     "output_type": "display_data"
    }
   ],
   "source": [
    "A1=50; #Area 1\n",
    "L1=1000; #Length 1\n",
    "E1=200000; #Youngs modulus 1\n",
    "k=(A1*E1)/L1; #k \"stiffness\" value\n",
    "l=800/1000 #cos(alpha)\n",
    "m=600/1000 #sin(alpha)\n",
    "X=[l -m; m l] #Xi rotation tensor\n",
    "L=[l -m 0 0; m l 0 0; 0 0 l -m; 0 0 m l]; # Lambda matrix\n",
    "Q=[1 0 -1 0;0 0 0 0; -1 0 1 0; 0 0 0 0]; #K/k\n",
    "\n",
    "K=k*Q; #Stiffness matrix in local system\n",
    "Q0=L*Q*L' #Rotate K/k\n",
    "K0=k*Q0; #Stiffness matrix in global system\n",
    "display(L)\n",
    "display(Q)\n",
    "display(Q0)\n",
    "display(K0)"
   ]
  }
 ],
 "metadata": {
  "@webio": {
   "lastCommId": null,
   "lastKernelId": null
  },
  "celltoolbar": "Slideshow",
  "kernelspec": {
   "display_name": "Julia 1.2.0",
   "language": "julia",
   "name": "julia-1.2"
  },
  "language_info": {
   "file_extension": ".jl",
   "mimetype": "application/julia",
   "name": "julia",
   "version": "1.2.0"
  }
 },
 "nbformat": 4,
 "nbformat_minor": 2
}
