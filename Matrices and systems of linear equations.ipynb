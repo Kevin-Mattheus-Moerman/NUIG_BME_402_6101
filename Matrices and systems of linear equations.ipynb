{
 "cells": [
  {
   "cell_type": "markdown",
   "metadata": {},
   "source": [
    "**Dr. Kevin M. Moerman**   \n",
    "_Lecturer in Biomedical Engineering_   \n",
    "Research Affiliate, MIT Media Lab   \n",
    "+353 (0)91 49 3552   \n",
    "**ORCID iD** [0000-0003-3768-4269](http://orcid.org/0000-0003-3768-4269)    \n",
    "Biomedical Engineering, Alice Perry Engineering Building   \n",
    "NUI Galway, University Road, Galway, H91 HX31, Ireland   \n",
    "[kevin.moerman@nuigalway.ie](mailto:kevin.moerman@nuigalway.ie)   \n",
    "    "
   ]
  },
  {
   "cell_type": "markdown",
   "metadata": {},
   "source": [
    "# Linear equations\n",
    "Recall linear equations of the form:   \n",
    "$$y=ax+m$$    \n",
    "  \n",
    "Solving such an equation for $x$ involves turning it into the form:   \n",
    "$$ax=y-m \\rightarrow x=\\frac{y-m}{a}$$     \n",
    "    \n",
    "If we set $b=(y-m)$ the linear equation obtains the form:     \n",
    "$$ax=b\\rightarrow x=\\frac{b}{a}$$    \n",
    "   \n",
    "So the solution is obtained by dividing by $a$, or, in other words, by multiplying $x$ by the inverse of $a$, i.e.:   \n",
    "$$x=a^{-1}b$$   \n",
    "    \n",
    "We shall remember this form $x=a^{-1}x$ and return to it later to see that it holds for solving systems of linear equations contained in matrices (written with capital latter) e.g.:    \n",
    "$$AX=B \\rightarrow X=A^{-1}B$$ "
   ]
  },
  {
   "cell_type": "markdown",
   "metadata": {},
   "source": [
    "# Systems of linear equations\n",
    "Linear equations like $3x_1+2x_2=4$ contain 2 unknows. At least one more equation is required to solve for $x_1$ and $x_2$. If for instance $5x_1-3x_2=13$ is provided one now has 2 equations and 2 unknowns, this is now solvable using a variaty of methods. The combined system can be written: \n",
    "\n",
    "$$  \\begin{cases}\n",
    "    3x_1+2x_2 = 4\\\\\n",
    "    5x_1-3x_2 = 13\n",
    "  \\end{cases}$$\n",
    "This system may be solved by the _elimination method_: \n",
    "$$  \\begin{cases}\n",
    "    3x_1+2x_2 = 4 & \\times 3\\\\\n",
    "    5x_1-3x_2 = 13 & \\times 2\n",
    "  \\end{cases}$$\n",
    "\n",
    "$$  \\begin{cases}\n",
    "    9x_1+6x_2 = 12 & \\downarrow +\\\\\n",
    "    10x_1-6x_2 = 26  \n",
    "  \\end{cases} \\rightarrow 19x_1 = 38 \\rightarrow x_1 = 2 \\rightarrow x_2 = -1\n",
    "  $$"
   ]
  },
  {
   "cell_type": "markdown",
   "metadata": {},
   "source": [
    "# Matrices for solving linear equations\n",
    "Alternatively these operations can be written in a matrix form: \n",
    "$$ \\begin{pmatrix} 3 & 2 & 4\\\\ 5 & -3 & 13\\end{pmatrix}$$\n",
    "Next we use steps similar to the elimination method to aim to create all zeros and one 1 for each row of the $2\\times2$ section containing the coefficients.\n",
    "\n",
    "$$ \\begin{pmatrix} 3 & 2 & 4\\\\ 5 & -3 & 13\\end{pmatrix}  \\begin{matrix} \\times -5\\\\ \\times 3\\end{matrix}$$\n",
    "\n",
    "$$ \\begin{pmatrix} -15 & -10 & -20 \\\\ 15 & -9 & 39\\end{pmatrix} \\begin{matrix} \\downarrow +\\\\  & \\end{matrix}$$\n",
    "\n",
    "$$ \\begin{pmatrix} -15 & -10 & -20 \\\\ 0 & -19 & 19\\end{pmatrix} \\begin{matrix} & \\\\ \\times -\\frac{1}{19} \\end{matrix} $$\n",
    "\n",
    "$$ \\begin{pmatrix} -15 & -10 & -20 \\\\ 0 & 1 & -1\\end{pmatrix} \\begin{matrix} & \\\\ \\uparrow +10\\times \\end{matrix} $$\n",
    "\n",
    "$$ \\begin{pmatrix} 15 & 0 & -30 \\\\ 0 & 1 & -1\\end{pmatrix} \\begin{matrix} \\times -\\frac{1}{15} \\\\ & \\end{matrix} $$\n",
    "\n",
    "$$ \\begin{pmatrix} 1 & 0 & 2 \\\\ 0 & 1 & -1\\end{pmatrix}$$\n",
    "\n",
    "Providing the solutions of $x_1$ and $x_2$ in the last column. \n",
    "\n",
    "Alternatively we can compose a so-called coefficient matrix: \n",
    "$$ A=\\begin{pmatrix} 3 & 2 \\\\ 5 & -3 \\end{pmatrix} $$\n",
    "As well as the matrix $X$ and $B$:\n",
    "$$X=\\begin{pmatrix} x_1 \\\\ x_2 \\end{pmatrix}$$\n",
    "$$B=\\begin{pmatrix} 4 \\\\ 13 \\end{pmatrix}$$\n",
    "Now this looks like the familiar $ax=b \\rightarrow x=a^{-1}b$, indeed the solution here is simply: \n",
    "$$X=A^{-1}B$$\n",
    "In fact, computing $A^{-1}$ simply involves taking the matrix $\\begin{pmatrix} 1 & 0 \\\\ 0 &1 \\end{pmatrix}$ and doing the same steps as above (i.e. multiply top row by -5 and the bottom row by 3, add the top row the bottom row, divide the bottom row by -19, etc....):   \n",
    "$$A^{-1}=\\begin{pmatrix} \\frac{3}{19} & \\frac{2}{19} \\\\ \\frac{5}{19} & \\frac{-3}{19} \\end{pmatrix}$$"
   ]
  },
  {
   "cell_type": "markdown",
   "metadata": {},
   "source": [
    "# Numerical implementation\n",
    "Defining the matrices $A$ and $B$"
   ]
  },
  {
   "cell_type": "code",
   "execution_count": 50,
   "metadata": {},
   "outputs": [],
   "source": [
    "A=[3 2;5 -3]; # 2x2 array\n",
    "B=[4; 13]; # 2x1 vector"
   ]
  },
  {
   "cell_type": "markdown",
   "metadata": {},
   "source": [
    "Solving for $X$ involves computing $A^{-1}$. The code `A^-1` or `inv(A)` computes the inverse of $A$, therefore $X$ can be solved for using: "
   ]
  },
  {
   "cell_type": "code",
   "execution_count": 56,
   "metadata": {},
   "outputs": [
    {
     "name": "stdout",
     "output_type": "stream",
     "text": [
      "[2.0, -1.0]\n",
      "[2.0, -1.0]\n"
     ]
    }
   ],
   "source": [
    "X=A^-1*B; #Using the inverse of A\n",
    "println(X) #print X to the screen\n",
    "\n",
    "X=inv(A)*B; #Using inv() to compute inverse\n",
    "println(X) #print X to the screen"
   ]
  },
  {
   "cell_type": "markdown",
   "metadata": {},
   "source": [
    "Alternatively many programming languages implement the the so-called left divide or `\\` operator, which in many cases least to the best numerical performance: "
   ]
  },
  {
   "cell_type": "code",
   "execution_count": 57,
   "metadata": {},
   "outputs": [
    {
     "name": "stdout",
     "output_type": "stream",
     "text": [
      "[2.0, -1.0]\n"
     ]
    }
   ],
   "source": [
    "X=A\\B; #Using the \"left divide\" operator\n",
    "println(X) #print X to the screen"
   ]
  },
  {
   "cell_type": "markdown",
   "metadata": {},
   "source": [
    "The actual inverse of $A$ is: "
   ]
  },
  {
   "cell_type": "code",
   "execution_count": 58,
   "metadata": {},
   "outputs": [
    {
     "name": "stdout",
     "output_type": "stream",
     "text": [
      "[0.157895 0.105263; 0.263158 -0.157895]\n"
     ]
    }
   ],
   "source": [
    "A_inv=inv(A); #Compute the inverse of A\n",
    "println(A_inv) #Print A_inv to the screen"
   ]
  },
  {
   "cell_type": "code",
   "execution_count": null,
   "metadata": {},
   "outputs": [],
   "source": []
  }
 ],
 "metadata": {
  "@webio": {
   "lastCommId": "d325909967eb4b2e976bca737993f93e",
   "lastKernelId": "63fdbbaf-1de5-45eb-a769-bb02d6976108"
  },
  "kernelspec": {
   "display_name": "Julia 1.1.0",
   "language": "julia",
   "name": "julia-1.1"
  },
  "language_info": {
   "file_extension": ".jl",
   "mimetype": "application/julia",
   "name": "julia",
   "version": "1.1.1"
  }
 },
 "nbformat": 4,
 "nbformat_minor": 2
}
